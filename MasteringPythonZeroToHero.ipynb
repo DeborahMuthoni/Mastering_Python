{
 "cells": [
  {
   "cell_type": "markdown",
   "id": "4f74f769",
   "metadata": {},
   "source": [
    "# THIS IS A PYTHON TUTORIAL"
   ]
  },
  {
   "cell_type": "code",
   "execution_count": 37,
   "id": "225b0fa2",
   "metadata": {},
   "outputs": [
    {
     "name": "stdout",
     "output_type": "stream",
     "text": [
      "Please enter number of hours: 4\n",
      "Please enter rate: 4\n",
      "16\n"
     ]
    },
    {
     "data": {
      "text/plain": [
       "8"
      ]
     },
     "execution_count": 37,
     "metadata": {},
     "output_type": "execute_result"
    }
   ],
   "source": [
    "hours = int (input (\"Please enter number of hours: \"))\n",
    "rate = int (input (\"Please enter rate: \"))\n",
    "pay = (hours * rate)\n",
    "print (pay)"
   ]
  },
  {
   "cell_type": "code",
   "execution_count": 1,
   "id": "8aebe093",
   "metadata": {},
   "outputs": [
    {
     "name": "stdout",
     "output_type": "stream",
     "text": [
      "<built-in method sort of list object at 0x000001C9F6834B80>\n"
     ]
    }
   ],
   "source": [
    "l1 = [1,4,0,3,5,7]\n",
    "l2 = l1.sort\n",
    "print(l2)"
   ]
  },
  {
   "cell_type": "markdown",
   "id": "b3ec7cef",
   "metadata": {},
   "source": [
    "$a=b+c$"
   ]
  },
  {
   "cell_type": "code",
   "execution_count": 11,
   "id": "fc44b2a3",
   "metadata": {},
   "outputs": [
    {
     "name": "stdout",
     "output_type": "stream",
     "text": [
      "Hey yoh!\n"
     ]
    }
   ],
   "source": [
    "print(\"Hey yoh!\")"
   ]
  },
  {
   "cell_type": "code",
   "execution_count": 13,
   "id": "3450c425",
   "metadata": {},
   "outputs": [
    {
     "name": "stdout",
     "output_type": "stream",
     "text": [
      "[4, 12]\n"
     ]
    }
   ],
   "source": [
    "list = [4,67,12]\n",
    "del list[1]\n",
    "print(list)"
   ]
  },
  {
   "cell_type": "code",
   "execution_count": 14,
   "id": "0f76a96b",
   "metadata": {},
   "outputs": [
    {
     "name": "stdout",
     "output_type": "stream",
     "text": [
      "Variable   Type                          Data/Info\n",
      "--------------------------------------------------\n",
      "hours      int                           67\n",
      "l1         list                          n=6\n",
      "l2         builtin_function_or_method    <built-in method sort of <...>ct at 0x000001F12AA89D40>\n",
      "list       list                          n=2\n",
      "pay        int                           402\n",
      "rate       int                           6\n"
     ]
    }
   ],
   "source": [
    "%whos"
   ]
  },
  {
   "cell_type": "code",
   "execution_count": 15,
   "id": "511d2da0",
   "metadata": {},
   "outputs": [
    {
     "name": "stdout",
     "output_type": "stream",
     "text": [
      "<class 'list'>\n"
     ]
    }
   ],
   "source": [
    "print(type(l1))"
   ]
  },
  {
   "cell_type": "code",
   "execution_count": 16,
   "id": "afddcc82",
   "metadata": {},
   "outputs": [],
   "source": [
    "a,b,c,d = 3,5,6.8,-2\n"
   ]
  },
  {
   "cell_type": "code",
   "execution_count": 17,
   "id": "20cebf2f",
   "metadata": {},
   "outputs": [
    {
     "name": "stdout",
     "output_type": "stream",
     "text": [
      "Variable   Type                          Data/Info\n",
      "--------------------------------------------------\n",
      "a          int                           3\n",
      "b          int                           5\n",
      "c          float                         6.8\n",
      "d          int                           -2\n",
      "hours      int                           67\n",
      "l1         list                          n=6\n",
      "l2         builtin_function_or_method    <built-in method sort of <...>ct at 0x000001F12AA89D40>\n",
      "list       list                          n=2\n",
      "pay        int                           402\n",
      "rate       int                           6\n"
     ]
    }
   ],
   "source": [
    "%whos"
   ]
  },
  {
   "cell_type": "code",
   "execution_count": 18,
   "id": "2953cb41",
   "metadata": {},
   "outputs": [],
   "source": [
    "c=3+4j"
   ]
  },
  {
   "cell_type": "code",
   "execution_count": 19,
   "id": "3d8b21f9",
   "metadata": {},
   "outputs": [
    {
     "name": "stdout",
     "output_type": "stream",
     "text": [
      "<class 'complex'>\n"
     ]
    }
   ],
   "source": [
    "print(type(c))"
   ]
  },
  {
   "cell_type": "code",
   "execution_count": 22,
   "id": "d312f8d2",
   "metadata": {},
   "outputs": [
    {
     "name": "stdout",
     "output_type": "stream",
     "text": [
      "3.3333333333333335\n",
      "3\n",
      "1000\n",
      "3.5\n"
     ]
    }
   ],
   "source": [
    "r = 10/3\n",
    "r2 = 10//3\n",
    "r3 = 10**3\n",
    "r4 = 7/2\n",
    "print(r)\n",
    "print(r2)\n",
    "print(r3)\n",
    "print(r4)"
   ]
  },
  {
   "cell_type": "code",
   "execution_count": 23,
   "id": "fbe3daab",
   "metadata": {},
   "outputs": [],
   "source": [
    "sumOfr2andr4 = r2 + r4"
   ]
  },
  {
   "cell_type": "code",
   "execution_count": 24,
   "id": "edba3777",
   "metadata": {},
   "outputs": [
    {
     "name": "stdout",
     "output_type": "stream",
     "text": [
      "6.5\n"
     ]
    }
   ],
   "source": [
    "print(sumOfr2andr4)"
   ]
  },
  {
   "cell_type": "code",
   "execution_count": 25,
   "id": "a3f366ce",
   "metadata": {},
   "outputs": [
    {
     "data": {
      "text/plain": [
       "float"
      ]
     },
     "execution_count": 25,
     "metadata": {},
     "output_type": "execute_result"
    }
   ],
   "source": [
    "type(sumOfr2andr4)"
   ]
  },
  {
   "cell_type": "code",
   "execution_count": 30,
   "id": "97183b92",
   "metadata": {},
   "outputs": [
    {
     "name": "stdout",
     "output_type": "stream",
     "text": [
      "helloworld\n"
     ]
    }
   ],
   "source": [
    "s1 = 'hello'\n",
    "s2 = 'world'\n",
    "s = s1 + s2\n",
    "print(s)"
   ]
  },
  {
   "cell_type": "code",
   "execution_count": 34,
   "id": "0ab181c9",
   "metadata": {},
   "outputs": [
    {
     "data": {
      "text/plain": [
       "3.3333333333333335"
      ]
     },
     "execution_count": 34,
     "metadata": {},
     "output_type": "execute_result"
    }
   ],
   "source": [
    "#when you don't assign values any variable, they are automatically assume the variable underscore(_)\n",
    "#n/b. underscore only assumes the last untitled values, dont try to assign it values.\n",
    "10/3"
   ]
  },
  {
   "cell_type": "code",
   "execution_count": 32,
   "id": "fc92527e",
   "metadata": {},
   "outputs": [
    {
     "name": "stdout",
     "output_type": "stream",
     "text": [
      "Variable       Type                          Data/Info\n",
      "------------------------------------------------------\n",
      "a              int                           3\n",
      "b              int                           5\n",
      "c              complex                       (3+4j)\n",
      "d              int                           -2\n",
      "hours          int                           67\n",
      "l1             list                          n=6\n",
      "l2             builtin_function_or_method    <built-in method sort of <...>ct at 0x000001F12AA89D40>\n",
      "list           list                          n=2\n",
      "pay            int                           402\n",
      "r              float                         3.3333333333333335\n",
      "r2             int                           3\n",
      "r3             int                           1000\n",
      "r4             float                         3.5\n",
      "rate           int                           6\n",
      "s              str                           helloworld\n",
      "s1             str                           hello\n",
      "s2             str                           world\n",
      "sumOfr2andr4   float                         6.5\n"
     ]
    }
   ],
   "source": [
    "%whos"
   ]
  },
  {
   "cell_type": "code",
   "execution_count": 33,
   "id": "b714c102",
   "metadata": {},
   "outputs": [
    {
     "name": "stdout",
     "output_type": "stream",
     "text": [
      "3.3333333333333335\n"
     ]
    }
   ],
   "source": [
    "print(_)"
   ]
  },
  {
   "cell_type": "code",
   "execution_count": 48,
   "id": "62f3756d",
   "metadata": {},
   "outputs": [
    {
     "name": "stdout",
     "output_type": "stream",
     "text": [
      "False\n",
      "True\n",
      "True\n",
      "True\n"
     ]
    }
   ],
   "source": [
    "a = True\n",
    "z = True\n",
    "n = False\n",
    "b = False\n",
    "c = a and b\n",
    "d = a or b\n",
    "e = a and z\n",
    "f = n and b\n",
    "g = not(b)\n",
    "print(c)\n",
    "print(not c)\n",
    "print (d)\n",
    "print (g)"
   ]
  },
  {
   "cell_type": "code",
   "execution_count": 47,
   "id": "c00efc27",
   "metadata": {},
   "outputs": [
    {
     "name": "stdout",
     "output_type": "stream",
     "text": [
      "Variable       Type                          Data/Info\n",
      "------------------------------------------------------\n",
      "a              bool                          True\n",
      "b              bool                          False\n",
      "c              bool                          False\n",
      "d              bool                          True\n",
      "e              bool                          True\n",
      "f              bool                          False\n",
      "g              bool                          False\n",
      "hours          int                           4\n",
      "l1             list                          n=6\n",
      "l2             builtin_function_or_method    <built-in method sort of <...>ct at 0x000001F12AA89D40>\n",
      "list           list                          n=2\n",
      "n              bool                          False\n",
      "pay            int                           16\n",
      "r              float                         3.3333333333333335\n",
      "r2             int                           3\n",
      "r3             int                           1000\n",
      "r4             float                         3.5\n",
      "rate           int                           4\n",
      "s              str                           helloworld\n",
      "s1             str                           hello\n",
      "s2             str                           world\n",
      "sumOfr2andr4   float                         6.5\n",
      "z              bool                          True\n"
     ]
    }
   ],
   "source": [
    "%whos"
   ]
  },
  {
   "cell_type": "code",
   "execution_count": 49,
   "id": "d88a541d",
   "metadata": {},
   "outputs": [
    {
     "data": {
      "text/plain": [
       "bool"
      ]
     },
     "execution_count": 49,
     "metadata": {},
     "output_type": "execute_result"
    }
   ],
   "source": [
    "type (a)"
   ]
  },
  {
   "cell_type": "code",
   "execution_count": 50,
   "id": "78381d9d",
   "metadata": {},
   "outputs": [
    {
     "data": {
      "text/plain": [
       "False"
      ]
     },
     "execution_count": 50,
     "metadata": {},
     "output_type": "execute_result"
    }
   ],
   "source": [
    "r2 == r3"
   ]
  },
  {
   "cell_type": "code",
   "execution_count": 51,
   "id": "7ae6c284",
   "metadata": {},
   "outputs": [
    {
     "data": {
      "text/plain": [
       "True"
      ]
     },
     "execution_count": 51,
     "metadata": {},
     "output_type": "execute_result"
    }
   ],
   "source": [
    "r2 != r3"
   ]
  },
  {
   "cell_type": "code",
   "execution_count": 53,
   "id": "3ff4a4ce",
   "metadata": {},
   "outputs": [
    {
     "data": {
      "text/plain": [
       "True"
      ]
     },
     "execution_count": 53,
     "metadata": {},
     "output_type": "execute_result"
    }
   ],
   "source": [
    "r3 >= r4"
   ]
  },
  {
   "cell_type": "code",
   "execution_count": 3,
   "id": "a263fe0e",
   "metadata": {},
   "outputs": [
    {
     "name": "stdout",
     "output_type": "stream",
     "text": [
      "[34, 23]\n"
     ]
    }
   ],
   "source": [
    "r = [12, 34, 23]\n",
    "del r[0]\n",
    "print (r)"
   ]
  },
  {
   "cell_type": "markdown",
   "id": "b64c6469",
   "metadata": {},
   "source": [
    "# Comparisons"
   ]
  },
  {
   "cell_type": "code",
   "execution_count": 4,
   "id": "d6ab1e73",
   "metadata": {},
   "outputs": [
    {
     "name": "stdout",
     "output_type": "stream",
     "text": [
      "<class 'bool'>\n",
      "True\n"
     ]
    }
   ],
   "source": [
    "c = 2<3\n",
    "print (type(c))\n",
    "print(c)"
   ]
  },
  {
   "cell_type": "code",
   "execution_count": 7,
   "id": "b54ecae1",
   "metadata": {},
   "outputs": [
    {
     "name": "stdout",
     "output_type": "stream",
     "text": [
      "False\n"
     ]
    }
   ],
   "source": [
    "d = 3==4\n",
    "print(d)"
   ]
  },
  {
   "cell_type": "code",
   "execution_count": 6,
   "id": "86018d99",
   "metadata": {},
   "outputs": [
    {
     "data": {
      "text/plain": [
       "True"
      ]
     },
     "execution_count": 6,
     "metadata": {},
     "output_type": "execute_result"
    }
   ],
   "source": [
    "3 == 3.0"
   ]
  },
  {
   "cell_type": "code",
   "execution_count": 10,
   "id": "4d2382cc",
   "metadata": {},
   "outputs": [],
   "source": [
    "x = 4\n",
    "y = 9\n",
    "z = 8.3\n",
    "r = -3"
   ]
  },
  {
   "cell_type": "code",
   "execution_count": 11,
   "id": "03baef22",
   "metadata": {},
   "outputs": [
    {
     "data": {
      "text/plain": [
       "True"
      ]
     },
     "execution_count": 11,
     "metadata": {},
     "output_type": "execute_result"
    }
   ],
   "source": [
    "(x < y) and (z<y) or (r==x)"
   ]
  },
  {
   "cell_type": "code",
   "execution_count": 12,
   "id": "bdff2b9a",
   "metadata": {},
   "outputs": [
    {
     "data": {
      "text/plain": [
       "False"
      ]
     },
     "execution_count": 12,
     "metadata": {},
     "output_type": "execute_result"
    }
   ],
   "source": [
    "(x < y) and  (r==x) or (z>y) "
   ]
  },
  {
   "cell_type": "code",
   "execution_count": 13,
   "id": "fc9449ab",
   "metadata": {},
   "outputs": [
    {
     "data": {
      "text/plain": [
       "True"
      ]
     },
     "execution_count": 13,
     "metadata": {},
     "output_type": "execute_result"
    }
   ],
   "source": [
    "False and False or True"
   ]
  },
  {
   "cell_type": "code",
   "execution_count": 14,
   "id": "73bfbf8e",
   "metadata": {},
   "outputs": [
    {
     "name": "stdout",
     "output_type": "stream",
     "text": [
      "False\n"
     ]
    }
   ],
   "source": [
    "print((not(2!=3)and True)or (False and True))"
   ]
  },
  {
   "cell_type": "markdown",
   "id": "d860b1eb",
   "metadata": {},
   "source": [
    "# Some useful functions in Python"
   ]
  },
  {
   "cell_type": "markdown",
   "id": "5c24afa3",
   "metadata": {},
   "source": [
    "round()"
   ]
  },
  {
   "cell_type": "code",
   "execution_count": 16,
   "id": "b9d6a1a3",
   "metadata": {},
   "outputs": [
    {
     "name": "stdout",
     "output_type": "stream",
     "text": [
      "6\n",
      "4.558\n",
      "4\n"
     ]
    }
   ],
   "source": [
    "print (round(5.6231))\n",
    "print (round(4.55842, 3))\n",
    "print (round(4.234))"
   ]
  },
  {
   "cell_type": "markdown",
   "id": "7a091eea",
   "metadata": {},
   "source": [
    "divmod(x,y)"
   ]
  },
  {
   "cell_type": "code",
   "execution_count": 19,
   "id": "3dca8c75",
   "metadata": {},
   "outputs": [],
   "source": [
    "divmod(27,5)\n",
    "g = divmod (25,5)"
   ]
  },
  {
   "cell_type": "code",
   "execution_count": 20,
   "id": "b9a63ede",
   "metadata": {},
   "outputs": [
    {
     "name": "stdout",
     "output_type": "stream",
     "text": [
      "<class 'tuple'>\n"
     ]
    }
   ],
   "source": [
    "print (type(g))"
   ]
  },
  {
   "cell_type": "markdown",
   "id": "9e0599c2",
   "metadata": {},
   "source": [
    "isinstance()"
   ]
  },
  {
   "cell_type": "code",
   "execution_count": 31,
   "id": "c6d2d168",
   "metadata": {},
   "outputs": [
    {
     "name": "stdout",
     "output_type": "stream",
     "text": [
      "True\n",
      "False\n",
      "True\n",
      "True\n"
     ]
    }
   ],
   "source": [
    "print(isinstance(1, int))\n",
    "print(isinstance(1.0, int))\n",
    "print(isinstance(1.0, (int, float)))\n",
    "print(isinstance(2+2j, (int, float, str, complex)))"
   ]
  },
  {
   "cell_type": "code",
   "execution_count": 24,
   "id": "af4f0fe9",
   "metadata": {},
   "outputs": [
    {
     "name": "stdout",
     "output_type": "stream",
     "text": [
      "Enter radius: 7\n",
      "153.958\n",
      "False\n"
     ]
    }
   ],
   "source": [
    "radius = int(input (\"Enter radius: \"))\n",
    "area = 3.142 * radius ** 2\n",
    "print (area)\n",
    "print (isinstance(area, int))"
   ]
  },
  {
   "cell_type": "code",
   "execution_count": 25,
   "id": "b9adb128",
   "metadata": {},
   "outputs": [
    {
     "name": "stdout",
     "output_type": "stream",
     "text": [
      "Variable   Type     Data/Info\n",
      "-----------------------------\n",
      "area       float    153.958\n",
      "c          bool     True\n",
      "d          bool     False\n",
      "g          tuple    n=2\n",
      "h          float    8.3\n",
      "r          int      -3\n",
      "radius     int      7\n",
      "x          int      4\n",
      "y          int      9\n",
      "z          float    8.3\n"
     ]
    }
   ],
   "source": [
    "%whos"
   ]
  },
  {
   "cell_type": "markdown",
   "id": "591487e0",
   "metadata": {},
   "source": [
    "pow(x,y) or pow(x,y,z)"
   ]
  },
  {
   "cell_type": "code",
   "execution_count": 36,
   "id": "3a8ac71d",
   "metadata": {},
   "outputs": [
    {
     "name": "stdout",
     "output_type": "stream",
     "text": [
      "9\n",
      "9\n",
      "1\n",
      "2\n"
     ]
    }
   ],
   "source": [
    "print(pow(3,2))\n",
    "print(3**2)\n",
    "print(pow(3,2,2))\n",
    "print(pow(2,4,7))"
   ]
  },
  {
   "cell_type": "markdown",
   "id": "528331c0",
   "metadata": {},
   "source": [
    "input()"
   ]
  },
  {
   "cell_type": "code",
   "execution_count": 38,
   "id": "5fc4ca75",
   "metadata": {},
   "outputs": [
    {
     "name": "stdout",
     "output_type": "stream",
     "text": [
      "Enter something: Hallo\n",
      "Hallo\n"
     ]
    }
   ],
   "source": [
    "a = input(\"Enter something: \")\n",
    "print(a)"
   ]
  },
  {
   "cell_type": "code",
   "execution_count": 41,
   "id": "c7a950d2",
   "metadata": {},
   "outputs": [
    {
     "data": {
      "text/plain": [
       "str"
      ]
     },
     "execution_count": 41,
     "metadata": {},
     "output_type": "execute_result"
    }
   ],
   "source": [
    "type(a)\n"
   ]
  },
  {
   "cell_type": "code",
   "execution_count": 44,
   "id": "583ca616",
   "metadata": {},
   "outputs": [
    {
     "name": "stdout",
     "output_type": "stream",
     "text": [
      "Help on built-in function pow in module builtins:\n",
      "\n",
      "pow(base, exp, mod=None)\n",
      "    Equivalent to base**exp with 2 arguments or base**exp % mod with 3 arguments\n",
      "    \n",
      "    Some types, such as ints, are able to use a more efficient algorithm when\n",
      "    invoked using the three argument form.\n",
      "\n"
     ]
    }
   ],
   "source": [
    "pow?\n",
    "help (pow)"
   ]
  },
  {
   "cell_type": "markdown",
   "id": "d2acd04c",
   "metadata": {},
   "source": [
    "# Control Flow"
   ]
  },
  {
   "cell_type": "markdown",
   "id": "04c54343",
   "metadata": {},
   "source": [
    "if else statement"
   ]
  },
  {
   "cell_type": "code",
   "execution_count": 63,
   "id": "898fb4b8",
   "metadata": {},
   "outputs": [
    {
     "name": "stdout",
     "output_type": "stream",
     "text": [
      "Enter number: 2\n",
      "Enter number: 34\n",
      "34\n"
     ]
    }
   ],
   "source": [
    "a = int(input(\"Enter number: \"))\n",
    "b = int(input(\"Enter number: \"))\n",
    "if a>b:\n",
    "    print(a)\n",
    "else:\n",
    "    print(b)"
   ]
  },
  {
   "cell_type": "markdown",
   "id": "f9e90eff",
   "metadata": {},
   "source": [
    "if-elif-else statement"
   ]
  },
  {
   "cell_type": "code",
   "execution_count": 62,
   "id": "1051b9a1",
   "metadata": {},
   "outputs": [
    {
     "name": "stdout",
     "output_type": "stream",
     "text": [
      "Enter number: 8\n",
      "Enter number: 9\n",
      "b is greater than a\n"
     ]
    }
   ],
   "source": [
    "a = int(input(\"Enter number: \"))\n",
    "b = int(input(\"Enter number: \"))\n",
    "if a>b:\n",
    "    print(\"a is greater than b\")\n",
    "elif a==b:\n",
    "    print(\"a and b are equal\")\n",
    "else:\n",
    "    print(\"b is greater than a\")"
   ]
  },
  {
   "cell_type": "code",
   "execution_count": 71,
   "id": "a692a9f5",
   "metadata": {},
   "outputs": [
    {
     "name": "stdout",
     "output_type": "stream",
     "text": [
      "Enter Marks: -9\n",
      "INVALID GRADE!!!\n"
     ]
    }
   ],
   "source": [
    "a = int(input(\"Enter Marks: \"))\n",
    "if a >= 85 and a <= 100:\n",
    "    print(\"A Grade\")\n",
    "elif a >= 80:\n",
    "    print(\"B Grade\")\n",
    "elif a >= 75:\n",
    "    print(\"C Grade\")\n",
    "elif a >= 70:\n",
    "    print(\"D Grade\")\n",
    "elif a >= 70:\n",
    "    print(\"E Grade\")\n",
    "elif a <= 69 and a > 1:\n",
    "    print(\"Below Average\")\n",
    "else:\n",
    "    print(\"INVALID GRADE!!!\")"
   ]
  },
  {
   "cell_type": "markdown",
   "id": "e82ebbb8",
   "metadata": {},
   "source": [
    "Nested If"
   ]
  },
  {
   "cell_type": "code",
   "execution_count": null,
   "id": "07964b23",
   "metadata": {},
   "outputs": [],
   "source": []
  },
  {
   "cell_type": "code",
   "execution_count": 77,
   "id": "f529d001",
   "metadata": {},
   "outputs": [
    {
     "name": "stdout",
     "output_type": "stream",
     "text": [
      "Enter a number: -1\n",
      "Your number is not above 10\n",
      "Nevermind!\n"
     ]
    }
   ],
   "source": [
    "x = int(input(\"Enter a number: \"))\n",
    "if x>10:\n",
    "    print(\"Your number is above 10!\")\n",
    "    if x>20:\n",
    "        print(\"and also above 20\")\n",
    "    else:\n",
    "        print(\"but not above 20\")\n",
    "else:\n",
    "    print(\"Your number is not above 10\")\n",
    "    if x == 10:\n",
    "        print(\"but is equal to 10\")\n",
    "    elif x < 10 and x >= 0:\n",
    "        print(\"but is less than 10\")\n",
    "    else:\n",
    "        print(\"Nevermind!\")"
   ]
  },
  {
   "cell_type": "code",
   "execution_count": 1,
   "id": "c75bddc6",
   "metadata": {},
   "outputs": [
    {
     "name": "stdout",
     "output_type": "stream",
     "text": [
      "Enter number: -238.9\n",
      "The number is an odd number!\n"
     ]
    }
   ],
   "source": [
    "\"\"\"User will enter a floating point number lets say 238.915. Your task is to find out the integer portion before the point\n",
    "(in this case 238) and then check is that integer portion is an even number or not\n",
    "\"\"\"\n",
    "number = float(input(\"Enter number: \"))\n",
    "number_1 = round(number)\n",
    "x = number_1%2\n",
    "if x == 0:\n",
    "    print(\"The number is an even number!\")\n",
    "else:\n",
    "    print(\"The number is an odd number!\")"
   ]
  },
  {
   "cell_type": "code",
   "execution_count": 95,
   "id": "3018b3d3",
   "metadata": {},
   "outputs": [
    {
     "name": "stdout",
     "output_type": "stream",
     "text": [
      "Enter a real number: 32.3\n",
      "Even\n"
     ]
    }
   ],
   "source": [
    "x = float(input(\"Enter a real number: \")) \n",
    "y = round(x)\n",
    "if x>0:\n",
    "   \n",
    "    if y>x:\n",
    "        intportion = y-1\n",
    "    else:\n",
    "        intportion = y\n",
    "else:\n",
    "    if y<x:\n",
    "        intportion = y+1\n",
    "    else:\n",
    "        intportion = y\n",
    "if intportion%2 == 0:\n",
    "    print(\"Even\")\n",
    "else:\n",
    "    print(\"Odd\")\n",
    "    "
   ]
  },
  {
   "cell_type": "markdown",
   "id": "610e4ab0",
   "metadata": {},
   "source": [
    "# Loops"
   ]
  },
  {
   "cell_type": "markdown",
   "id": "b9d4c414",
   "metadata": {},
   "source": [
    "WHILE LOOP"
   ]
  },
  {
   "cell_type": "code",
   "execution_count": 98,
   "id": "bb8b04b5",
   "metadata": {},
   "outputs": [
    {
     "name": "stdout",
     "output_type": "stream",
     "text": [
      "Enter number of iterations4\n",
      "1\n",
      "2\n",
      "3\n",
      "4\n"
     ]
    }
   ],
   "source": [
    "n = int(input(\"Enter number of iterations\"))\n",
    "i = 1\n",
    "while (i <= n):\n",
    "    print(i)\n",
    "    i+=1"
   ]
  },
  {
   "cell_type": "code",
   "execution_count": 102,
   "id": "f6b9905b",
   "metadata": {},
   "outputs": [
    {
     "name": "stdout",
     "output_type": "stream",
     "text": [
      "Enter number of iterations9\n",
      "2\n",
      "4\n",
      "6\n",
      "8\n",
      "Done\n"
     ]
    }
   ],
   "source": [
    "n = int(input(\"Enter number of iterations\"))\n",
    "i = 1\n",
    "while (i <= n):\n",
    "    if i%2 == 0:\n",
    "        print(i)\n",
    "    else:\n",
    "        pass\n",
    "    i+=1\n",
    "print(\"Done\")"
   ]
  },
  {
   "cell_type": "code",
   "execution_count": 2,
   "id": "e23c0ab9",
   "metadata": {},
   "outputs": [
    {
     "name": "stdout",
     "output_type": "stream",
     "text": [
      "20\n",
      "0\n",
      "2\n",
      "4\n",
      "6\n",
      "8\n",
      "10\n",
      "12\n",
      "14\n",
      "16\n",
      "18\n"
     ]
    }
   ],
   "source": [
    "# A program to state all even numbers between 0 and 20\n",
    "n = int(input(\"\"))\n",
    "i = 0\n",
    "while (i < n):\n",
    "    if i%2 == 0:\n",
    "        print(i)\n",
    "    else:\n",
    "        pass\n",
    "    i+=1"
   ]
  },
  {
   "cell_type": "code",
   "execution_count": 4,
   "id": "6e2f1600",
   "metadata": {},
   "outputs": [
    {
     "name": "stdout",
     "output_type": "stream",
     "text": [
      "Inside If\n",
      "Inside If\n",
      "Inside If\n",
      "Inside If\n",
      "Inside If\n",
      "Inside If\n",
      "Inside If\n",
      "Inside If\n",
      "something\n",
      "something else\n",
      "done\n"
     ]
    }
   ],
   "source": [
    "n = 10\n",
    "i = 1\n",
    "while True:\n",
    "    if i%9 != 0:\n",
    "        print(\"Inside If\")\n",
    "        i += 1\n",
    "        continue\n",
    "    print(\"something\")\n",
    "    print(\"something else\")\n",
    "    break\n",
    "print (\"done\")"
   ]
  },
  {
   "cell_type": "markdown",
   "id": "2bb7c765",
   "metadata": {},
   "source": [
    "FOR LOOP\n",
    "\n"
   ]
  },
  {
   "cell_type": "code",
   "execution_count": 6,
   "id": "cc19176a",
   "metadata": {},
   "outputs": [
    {
     "name": "stdout",
     "output_type": "stream",
     "text": [
      "1\n",
      "2\n",
      "3\n",
      "4\n",
      "5\n",
      "6\n",
      "7\n",
      "8\n",
      "9\n",
      "10\n",
      "[0, 1, 4, 9, 16, 25, 36, 49, 64, 81]\n"
     ]
    }
   ],
   "source": [
    "#Exploring a list\n",
    "L = []\n",
    "for i in range(10):\n",
    "    print (i + 1)\n",
    "    L.append(i**2)\n",
    "print(L)"
   ]
  },
  {
   "cell_type": "code",
   "execution_count": 3,
   "id": "8c85ef91",
   "metadata": {},
   "outputs": [
    {
     "name": "stdout",
     "output_type": "stream",
     "text": [
      "0\n",
      "1\n",
      "2\n",
      "3\n",
      "4\n",
      "5\n",
      "6\n",
      "7\n",
      "8\n",
      "9\n"
     ]
    },
    {
     "data": {
      "text/plain": [
       "range(0, 10)"
      ]
     },
     "execution_count": 3,
     "metadata": {},
     "output_type": "execute_result"
    }
   ],
   "source": [
    "for i in range(10):\n",
    "    print(i)\n",
    "range(10)"
   ]
  },
  {
   "cell_type": "code",
   "execution_count": 9,
   "id": "33a259f2",
   "metadata": {},
   "outputs": [
    {
     "name": "stdout",
     "output_type": "stream",
     "text": [
      "1\n",
      "3\n",
      "5\n",
      "7\n",
      "9\n",
      "[0, 4, 16, 36, 64]\n"
     ]
    }
   ],
   "source": [
    "L = []\n",
    "for i in range(0,10,2):\n",
    "    print (i + 1)\n",
    "    L.append(i**2)\n",
    "print(L)"
   ]
  },
  {
   "cell_type": "code",
   "execution_count": 13,
   "id": "08c7056e",
   "metadata": {},
   "outputs": [
    {
     "name": "stdout",
     "output_type": "stream",
     "text": [
      "cherry\n",
      "apple\n",
      "Outside the loop\n"
     ]
    }
   ],
   "source": [
    "# Exploring a set\n",
    "S = {\"apple\", 4.9, \"cherry\"}\n",
    "i = 1\n",
    "for x in S:\n",
    "    print(x)\n",
    "    i += 1\n",
    "    if i == 3:\n",
    "        break\n",
    "    else:\n",
    "        pass\n",
    "else:\n",
    "    print(\"loop completes its iterations\")\n",
    "print(\"Outside the loop\")\n",
    "# the loop did not finish all its iterations due to the certain condition. Thus, its else part did not execute"
   ]
  },
  {
   "cell_type": "code",
   "execution_count": 15,
   "id": "7c4d2e02",
   "metadata": {},
   "outputs": [
    {
     "name": "stdout",
     "output_type": "stream",
     "text": [
      "A 10\n",
      "B -19\n",
      "C abc\n"
     ]
    }
   ],
   "source": [
    "# Exploring A Dictionary\n",
    "D = {\"A\": 10, \"B\": -19, \"C\": \"abc\"}\n",
    "for x in D:\n",
    "    print (x,D[x])"
   ]
  },
  {
   "cell_type": "code",
   "execution_count": 16,
   "id": "a81d0569",
   "metadata": {},
   "outputs": [
    {
     "name": "stdout",
     "output_type": "stream",
     "text": [
      "23\n",
      "happy\n",
      "23\n"
     ]
    }
   ],
   "source": [
    "L = [23, \"happy\", 23]\n",
    "for x in L:\n",
    "    print(x)"
   ]
  },
  {
   "cell_type": "code",
   "execution_count": 21,
   "id": "3d808a1b",
   "metadata": {},
   "outputs": [
    {
     "name": "stdout",
     "output_type": "stream",
     "text": [
      "3 -5\n"
     ]
    }
   ],
   "source": [
    "'''\n",
    "given a list of numbers i.e [1,4,2,-5,7,9,3,2], make another list that contains all the items in sorted order from\n",
    "minimum to maximum.\n",
    "ie, your result will be another list like [-5,1,2,]\n",
    "'''\n",
    "L = [1,4,2,-5,7,9,3,2]\n",
    "L1 = []\n",
    "index = 0\n",
    "counter = 0\n",
    "m = L[0]\n",
    "for i in L:\n",
    "    if i < m:\n",
    "        m = i\n",
    "        index = counter\n",
    "    counter += 1\n",
    "print(index, m)"
   ]
  },
  {
   "cell_type": "code",
   "execution_count": 26,
   "id": "b344c05d",
   "metadata": {},
   "outputs": [
    {
     "name": "stdout",
     "output_type": "stream",
     "text": [
      "[1, 2, 3, 3]\n"
     ]
    }
   ],
   "source": [
    "L = [1,4,2,-5,7,9,3,2]\n",
    "L1 = L\n",
    "L2 = []\n",
    "m = L[0]\n",
    "for i in L:\n",
    "    if i < m:\n",
    "        m = i\n",
    "    L2.append(m)\n",
    "    del L[m]\n",
    "    m+=1\n",
    "print(L2)"
   ]
  },
  {
   "cell_type": "markdown",
   "id": "d46c845a",
   "metadata": {},
   "source": [
    "# Functions"
   ]
  },
  {
   "cell_type": "code",
   "execution_count": 30,
   "id": "b695bf43",
   "metadata": {},
   "outputs": [
    {
     "name": "stdout",
     "output_type": "stream",
     "text": [
      "The task was successful\n",
      "Moving to the next task\n",
      "Send me the next task\n"
     ]
    }
   ],
   "source": [
    "def printSuccess():\n",
    "    print(\"The task was successful\")\n",
    "    print(\"Moving to the next task\")\n",
    "    print(\"Send me the next task\")\n",
    "printSuccess()"
   ]
  },
  {
   "cell_type": "code",
   "execution_count": 31,
   "id": "71b976e5",
   "metadata": {},
   "outputs": [],
   "source": [
    "def work():\n",
    "    \"\"\"This function is doing nothing except printing a message.\n",
    "    that message is \"hello\"\n",
    "    \"\"\"\n",
    "    print(\"hello\")"
   ]
  },
  {
   "cell_type": "code",
   "execution_count": 35,
   "id": "cac40a29",
   "metadata": {},
   "outputs": [
    {
     "name": "stdout",
     "output_type": "stream",
     "text": [
      "Help on function work in module __main__:\n",
      "\n",
      "work()\n",
      "    This function is doing nothing except printing a message.\n",
      "    that message is \"hello\"\n",
      "\n"
     ]
    }
   ],
   "source": [
    "help (work)"
   ]
  },
  {
   "cell_type": "code",
   "execution_count": 34,
   "id": "df54b659",
   "metadata": {},
   "outputs": [
    {
     "name": "stdout",
     "output_type": "stream",
     "text": [
      "hello\n"
     ]
    }
   ],
   "source": [
    "work()"
   ]
  },
  {
   "cell_type": "code",
   "execution_count": 9,
   "id": "3101a634",
   "metadata": {},
   "outputs": [
    {
     "name": "stdout",
     "output_type": "stream",
     "text": [
      "Hello Hassan\n"
     ]
    }
   ],
   "source": [
    "def greetings(name):\n",
    "    \"\"\"\n",
    "    This function greets the user.\n",
    "    \"\"\"\n",
    "    print(\"Hello \" + name)\n",
    "greetings(\"Hassan\")"
   ]
  },
  {
   "cell_type": "code",
   "execution_count": 27,
   "id": "2937d241",
   "metadata": {},
   "outputs": [],
   "source": [
    "def printMsg(msg):\n",
    "    if isinstance(msg, str):\n",
    "        print(msg)\n",
    "    else:\n",
    "        print(\"Your input argument is not a string\")\n",
    "        print(\"Here is what you have supplied\", msg)\n",
    "        print(\"And here is the type of what you have supplied: \" , type(msg))"
   ]
  },
  {
   "cell_type": "code",
   "execution_count": 11,
   "id": "7d48b23b",
   "metadata": {},
   "outputs": [
    {
     "name": "stdout",
     "output_type": "stream",
     "text": [
      "Help on function printMsg in module __main__:\n",
      "\n",
      "printMsg(msg)\n",
      "\n"
     ]
    }
   ],
   "source": [
    "help (printMsg)"
   ]
  },
  {
   "cell_type": "code",
   "execution_count": 16,
   "id": "3304f4a9",
   "metadata": {},
   "outputs": [
    {
     "name": "stdout",
     "output_type": "stream",
     "text": [
      "Your input argument is not a string\n",
      "Here is what you have supplied 23\n",
      "And here is the type of what you have supplied:  <class 'int'>\n"
     ]
    }
   ],
   "source": [
    "printMsg(23)"
   ]
  },
  {
   "cell_type": "code",
   "execution_count": 26,
   "id": "a100db42",
   "metadata": {},
   "outputs": [
    {
     "name": "stdout",
     "output_type": "stream",
     "text": [
      "Hello There\n",
      "Your input argument is not a string\n",
      "Here is what you have supplied 26\n",
      "And here is the type of what you have supplied:  <class 'int'>\n"
     ]
    }
   ],
   "source": [
    "y = \"Hello There\"\n",
    "x = 26\n",
    "printMsg(y)\n",
    "printMsg(x)"
   ]
  },
  {
   "cell_type": "code",
   "execution_count": 29,
   "id": "d7060d70",
   "metadata": {},
   "outputs": [],
   "source": [
    "def mypow(a,b):\n",
    "    \"\"\"\n",
    "    this function computes power just like built in power function\n",
    "    \"\"\"\n",
    "    c = a ** b\n",
    "    print(c)\n",
    "    "
   ]
  },
  {
   "cell_type": "code",
   "execution_count": 30,
   "id": "f7158a66",
   "metadata": {},
   "outputs": [],
   "source": [
    "mypow?"
   ]
  },
  {
   "cell_type": "code",
   "execution_count": 31,
   "id": "a9dccfb1",
   "metadata": {},
   "outputs": [
    {
     "name": "stdout",
     "output_type": "stream",
     "text": [
      "81\n"
     ]
    }
   ],
   "source": [
    "mypow(3,4)"
   ]
  },
  {
   "cell_type": "code",
   "execution_count": 32,
   "id": "d2cac328",
   "metadata": {},
   "outputs": [
    {
     "data": {
      "text/plain": [
       "81"
      ]
     },
     "execution_count": 32,
     "metadata": {},
     "output_type": "execute_result"
    }
   ],
   "source": [
    "pow(3,4)"
   ]
  },
  {
   "cell_type": "code",
   "execution_count": 37,
   "id": "2e6d4496",
   "metadata": {},
   "outputs": [],
   "source": [
    "def checkArgs(a,b,c,d):\n",
    "    if isinstance(a,(int, float)) and isinstance(b,(int, float)) and isinstance(c,(int, float)) and isinstance(d,(int, float)):\n",
    "        print((a+b+c+d)**2)\n",
    "    else:\n",
    "        print(\"Error!!! The input arguments are not of the expected types\")"
   ]
  },
  {
   "cell_type": "code",
   "execution_count": 38,
   "id": "830d4eed",
   "metadata": {},
   "outputs": [
    {
     "name": "stdout",
     "output_type": "stream",
     "text": [
      "361\n"
     ]
    }
   ],
   "source": [
    "checkArgs(3,4,5,7)"
   ]
  },
  {
   "cell_type": "code",
   "execution_count": 40,
   "id": "c4d38edf",
   "metadata": {},
   "outputs": [
    {
     "name": "stdout",
     "output_type": "stream",
     "text": [
      "Error!!! The input arguments are not of the expected types\n"
     ]
    }
   ],
   "source": [
    "checkArgs(3,4,5,\"g\")"
   ]
  },
  {
   "cell_type": "markdown",
   "id": "1de79de8",
   "metadata": {},
   "source": [
    "ORDER OF INPUT ARGUMENTS"
   ]
  },
  {
   "cell_type": "code",
   "execution_count": 42,
   "id": "7bbb4183",
   "metadata": {},
   "outputs": [
    {
     "name": "stdout",
     "output_type": "stream",
     "text": [
      "3 1 2\n"
     ]
    }
   ],
   "source": [
    "def f(c1,c2,c3):\n",
    "    print(c3,c1,c2)\n",
    "f(1,2,3)"
   ]
  },
  {
   "cell_type": "code",
   "execution_count": 43,
   "id": "1e32e5ee",
   "metadata": {},
   "outputs": [
    {
     "name": "stdout",
     "output_type": "stream",
     "text": [
      "1 2 3\n"
     ]
    }
   ],
   "source": [
    "def f(c1,c2,c3):\n",
    "    print(c3,c1,c2)\n",
    "f(c3=1, c1=2, c2=3)"
   ]
  },
  {
   "cell_type": "code",
   "execution_count": 45,
   "id": "2c2d0451",
   "metadata": {},
   "outputs": [
    {
     "name": "stdout",
     "output_type": "stream",
     "text": [
      "3 1 2\n"
     ]
    }
   ],
   "source": [
    "def f(c1,c2,c3):\n",
    "    print(c3,c1,c2)\n",
    "f(1,2,c3=3)"
   ]
  },
  {
   "cell_type": "code",
   "execution_count": 46,
   "id": "8e7ba626",
   "metadata": {},
   "outputs": [],
   "source": [
    "def g(a,b,c):\n",
    "    print(\"A is: \", a)\n",
    "    print(\"B is: \", b)\n",
    "    print(\"C is: \", c)"
   ]
  },
  {
   "cell_type": "code",
   "execution_count": 48,
   "id": "6961704e",
   "metadata": {},
   "outputs": [
    {
     "name": "stdout",
     "output_type": "stream",
     "text": [
      "A is:  haloween\n",
      "B is:  3\n",
      "C is:  game\n"
     ]
    }
   ],
   "source": [
    "g('haloween',3,'game')"
   ]
  },
  {
   "cell_type": "markdown",
   "id": "c773a105",
   "metadata": {},
   "source": [
    "Functions(variables inside)"
   ]
  },
  {
   "cell_type": "code",
   "execution_count": 67,
   "id": "d7b4ad16",
   "metadata": {},
   "outputs": [],
   "source": [
    "def myadd(a,b):\n",
    "    sumValue = a + b\n",
    "    return sumValue"
   ]
  },
  {
   "cell_type": "code",
   "execution_count": 68,
   "id": "7f0452be",
   "metadata": {},
   "outputs": [
    {
     "data": {
      "text/plain": [
       "5"
      ]
     },
     "execution_count": 68,
     "metadata": {},
     "output_type": "execute_result"
    }
   ],
   "source": [
    "myadd(2,3)"
   ]
  },
  {
   "cell_type": "code",
   "execution_count": 69,
   "id": "d70c2e75",
   "metadata": {},
   "outputs": [
    {
     "name": "stdout",
     "output_type": "stream",
     "text": [
      "5\n"
     ]
    }
   ],
   "source": [
    "d = myadd(2,3)\n",
    "print(d)"
   ]
  },
  {
   "cell_type": "code",
   "execution_count": 60,
   "id": "7ca0b5eb",
   "metadata": {},
   "outputs": [],
   "source": [
    "var = 4\n",
    "def g():\n",
    "    var = 5\n",
    "    print(var)\n"
   ]
  },
  {
   "cell_type": "code",
   "execution_count": 61,
   "id": "6dd3fc17",
   "metadata": {},
   "outputs": [
    {
     "name": "stdout",
     "output_type": "stream",
     "text": [
      "5\n"
     ]
    }
   ],
   "source": [
    "g()"
   ]
  },
  {
   "cell_type": "code",
   "execution_count": 62,
   "id": "c38577d5",
   "metadata": {},
   "outputs": [
    {
     "name": "stdout",
     "output_type": "stream",
     "text": [
      "4\n"
     ]
    }
   ],
   "source": [
    "print(var)"
   ]
  },
  {
   "cell_type": "code",
   "execution_count": 79,
   "id": "f3c2c6b7",
   "metadata": {},
   "outputs": [],
   "source": [
    "def c():\n",
    "    print(\"A\")\n",
    "    a = 5\n",
    "    b = 45\n",
    "    c = a + b\n",
    "    return c, a\n",
    "    print (\"Something\")\n",
    "    print (\"Something else\")\n"
   ]
  },
  {
   "cell_type": "code",
   "execution_count": 80,
   "id": "92f2abac",
   "metadata": {},
   "outputs": [
    {
     "name": "stdout",
     "output_type": "stream",
     "text": [
      "A\n"
     ]
    },
    {
     "data": {
      "text/plain": [
       "(50, 5)"
      ]
     },
     "execution_count": 80,
     "metadata": {},
     "output_type": "execute_result"
    }
   ],
   "source": [
    "c()"
   ]
  },
  {
   "cell_type": "code",
   "execution_count": 78,
   "id": "cfec3dfd",
   "metadata": {},
   "outputs": [
    {
     "name": "stdout",
     "output_type": "stream",
     "text": [
      "None\n"
     ]
    }
   ],
   "source": [
    "def h():\n",
    "    2 \n",
    "    \n",
    "print(h())"
   ]
  },
  {
   "cell_type": "markdown",
   "id": "4b6470ac",
   "metadata": {},
   "source": [
    "FUNCTIONS WITH VARIABLE NUMBER OF INPUTS"
   ]
  },
  {
   "cell_type": "code",
   "execution_count": 121,
   "id": "7039530b",
   "metadata": {},
   "outputs": [],
   "source": [
    "def myAdd(*args):\n",
    "    sum = 0\n",
    "    for i in range(len(args)):\n",
    "        sum += args[i] # sum = sum + args[1]\n",
    "    return sum"
   ]
  },
  {
   "cell_type": "code",
   "execution_count": 122,
   "id": "f33b8c13",
   "metadata": {},
   "outputs": [
    {
     "data": {
      "text/plain": [
       "1021"
      ]
     },
     "execution_count": 122,
     "metadata": {},
     "output_type": "execute_result"
    }
   ],
   "source": [
    "myAdd(2,4,5,45,78,542,345)"
   ]
  },
  {
   "cell_type": "code",
   "execution_count": 91,
   "id": "bdcc88d3",
   "metadata": {},
   "outputs": [],
   "source": [
    "def printAllVariableNamesAndValues(**args):\n",
    "    for x in args:\n",
    "        print(\"Variable Name is: \", x, \" And Value is :  \", args[x])"
   ]
  },
  {
   "cell_type": "code",
   "execution_count": 92,
   "id": "fff49fe4",
   "metadata": {},
   "outputs": [
    {
     "name": "stdout",
     "output_type": "stream",
     "text": [
      "Variable Name is:  a  And Value is :   3\n",
      "Variable Name is:  b  And Value is :   B\n",
      "Variable Name is:  c  And Value is :   CCC\n"
     ]
    }
   ],
   "source": [
    "printAllVariableNamesAndValues(a=3, b='B', c='CCC')"
   ]
  },
  {
   "cell_type": "markdown",
   "id": "c9ce2f09",
   "metadata": {},
   "source": [
    "FUNCTIONS(DEFAULT VALUES)"
   ]
  },
  {
   "cell_type": "code",
   "execution_count": 103,
   "id": "dfa78791",
   "metadata": {},
   "outputs": [],
   "source": [
    "def f(sum=0):\n",
    "    print(sum)"
   ]
  },
  {
   "cell_type": "code",
   "execution_count": 104,
   "id": "01f02bfa",
   "metadata": {},
   "outputs": [
    {
     "name": "stdout",
     "output_type": "stream",
     "text": [
      "0\n"
     ]
    }
   ],
   "source": [
    "f()"
   ]
  },
  {
   "cell_type": "code",
   "execution_count": 110,
   "id": "0e443073",
   "metadata": {},
   "outputs": [
    {
     "name": "stdout",
     "output_type": "stream",
     "text": [
      "4\n"
     ]
    }
   ],
   "source": [
    "f(4)"
   ]
  },
  {
   "cell_type": "code",
   "execution_count": 111,
   "id": "56d630ea",
   "metadata": {},
   "outputs": [
    {
     "name": "stdout",
     "output_type": "stream",
     "text": [
      "[-9, 2, 3]\n"
     ]
    }
   ],
   "source": [
    "L = [1,2,3]\n",
    "L2 = L\n",
    "L2[0] = -9\n",
    "print(L)"
   ]
  },
  {
   "cell_type": "code",
   "execution_count": 112,
   "id": "6ab3e80b",
   "metadata": {},
   "outputs": [],
   "source": [
    "def ff(L=[1,2,3]):\n",
    "    for i in L:\n",
    "        print(i)"
   ]
  },
  {
   "cell_type": "code",
   "execution_count": 115,
   "id": "4b129cb5",
   "metadata": {},
   "outputs": [
    {
     "name": "stdout",
     "output_type": "stream",
     "text": [
      "1\n",
      "2\n",
      "3\n"
     ]
    }
   ],
   "source": [
    "L2 = [12,3,4]\n",
    "ff()"
   ]
  },
  {
   "cell_type": "code",
   "execution_count": 114,
   "id": "88b29503",
   "metadata": {},
   "outputs": [
    {
     "name": "stdout",
     "output_type": "stream",
     "text": [
      "12\n",
      "3\n",
      "4\n"
     ]
    }
   ],
   "source": [
    "ff(L2)"
   ]
  },
  {
   "cell_type": "markdown",
   "id": "6e625071",
   "metadata": {},
   "source": [
    "MODULES"
   ]
  },
  {
   "cell_type": "code",
   "execution_count": 147,
   "id": "5d1c1532",
   "metadata": {},
   "outputs": [],
   "source": [
    "import sys\n",
    "sys.path.append('D:\\my Modules')"
   ]
  },
  {
   "cell_type": "code",
   "execution_count": 148,
   "id": "646fbc49",
   "metadata": {},
   "outputs": [],
   "source": [
    "import my_Universal_Functions as myUni"
   ]
  },
  {
   "cell_type": "code",
   "execution_count": 142,
   "id": "dce2f703",
   "metadata": {},
   "outputs": [],
   "source": [
    "#Check implementation\n",
    "myUni??"
   ]
  },
  {
   "cell_type": "code",
   "execution_count": 150,
   "id": "6b56f12c",
   "metadata": {},
   "outputs": [
    {
     "data": {
      "text/plain": [
       "True"
      ]
     },
     "execution_count": 150,
     "metadata": {},
     "output_type": "execute_result"
    }
   ],
   "source": [
    "myUni.checkIfNotNumeric(2)"
   ]
  },
  {
   "cell_type": "code",
   "execution_count": 151,
   "id": "4c731a35",
   "metadata": {},
   "outputs": [
    {
     "ename": "IndexError",
     "evalue": "tuple index out of range",
     "output_type": "error",
     "traceback": [
      "\u001b[1;31m---------------------------------------------------------------------------\u001b[0m",
      "\u001b[1;31mIndexError\u001b[0m                                Traceback (most recent call last)",
      "Input \u001b[1;32mIn [151]\u001b[0m, in \u001b[0;36m<cell line: 1>\u001b[1;34m()\u001b[0m\n\u001b[1;32m----> 1\u001b[0m \u001b[43mmyUni\u001b[49m\u001b[38;5;241;43m.\u001b[39;49m\u001b[43maddAllNumerics\u001b[49m\u001b[43m(\u001b[49m\u001b[38;5;241;43m1\u001b[39;49m\u001b[43m,\u001b[49m\u001b[38;5;241;43m2\u001b[39;49m\u001b[43m)\u001b[49m\n",
      "File \u001b[1;32mD:\\my Modules\\my_Universal_Functions.py:15\u001b[0m, in \u001b[0;36maddAllNumerics\u001b[1;34m(*args)\u001b[0m\n\u001b[0;32m     13\u001b[0m s \u001b[38;5;241m=\u001b[39m \u001b[38;5;241m0\u001b[39m\n\u001b[0;32m     14\u001b[0m \u001b[38;5;28;01mfor\u001b[39;00m x \u001b[38;5;129;01min\u001b[39;00m args:\n\u001b[1;32m---> 15\u001b[0m     s \u001b[38;5;241m+\u001b[39m\u001b[38;5;241m=\u001b[39m \u001b[43margs\u001b[49m\u001b[43m[\u001b[49m\u001b[43mx\u001b[49m\u001b[43m]\u001b[49m\n\u001b[0;32m     16\u001b[0m \u001b[38;5;28;01mreturn\u001b[39;00m s\n",
      "\u001b[1;31mIndexError\u001b[0m: tuple index out of range"
     ]
    }
   ],
   "source": [
    "myUni.addAllNumerics(1,2)"
   ]
  },
  {
   "cell_type": "code",
   "execution_count": 152,
   "id": "cc0845e6",
   "metadata": {},
   "outputs": [
    {
     "data": {
      "text/plain": [
       "'Python Course'"
      ]
     },
     "execution_count": 152,
     "metadata": {},
     "output_type": "execute_result"
    }
   ],
   "source": [
    "myUni.myName"
   ]
  },
  {
   "cell_type": "markdown",
   "id": "1181f439",
   "metadata": {},
   "source": [
    "# Practice Functions"
   ]
  },
  {
   "cell_type": "code",
   "execution_count": 3,
   "id": "17071ae5",
   "metadata": {},
   "outputs": [
    {
     "data": {
      "text/plain": [
       "'\\ngiven a list of numbers i.e [1,4,2,-5,7,9,3,2], make another list that contains all the items in sorted order from\\nminimum to maximum.\\nie, your result will be another list like [-5,1,2,] '"
      ]
     },
     "execution_count": 3,
     "metadata": {},
     "output_type": "execute_result"
    }
   ],
   "source": [
    "\"\"\"\n",
    "given a list of numbers i.e [1,4,2,-5,7,9,3,2], make another list that contains all the items in sorted order from\n",
    "minimum to maximum.\n",
    "ie, your result will be another list like [-5,1,2,] \"\"\""
   ]
  },
  {
   "cell_type": "code",
   "execution_count": 4,
   "id": "97c45923",
   "metadata": {},
   "outputs": [],
   "source": [
    "def findMin(L, startIndx):\n",
    "    m = L[startIndx]\n",
    "    ind = startIndx\n",
    "\n",
    "    for i in range (startIndx, len (L)):\n",
    "        x = L[i]\n",
    "        if x < m:\n",
    "            m = x\n",
    "            ind = i\n",
    "        else:\n",
    "            pass\n",
    "    return m, ind"
   ]
  },
  {
   "cell_type": "code",
   "execution_count": 7,
   "id": "f232ff00",
   "metadata": {},
   "outputs": [],
   "source": [
    "a,b = findMin([2,3,4,0,9])"
   ]
  },
  {
   "cell_type": "code",
   "execution_count": 8,
   "id": "8ee170ea",
   "metadata": {},
   "outputs": [
    {
     "name": "stdout",
     "output_type": "stream",
     "text": [
      "0 3\n"
     ]
    }
   ],
   "source": [
    "print(a,b)"
   ]
  },
  {
   "cell_type": "code",
   "execution_count": 35,
   "id": "5ece31b8",
   "metadata": {},
   "outputs": [],
   "source": [
    "def swapValue(L, indx1,indx2):\n",
    "    tmp = L[indx1]\n",
    "    L[indx1] = L[indx2]\n",
    "    L[indx2] = tmp\n",
    "    return L"
   ]
  },
  {
   "cell_type": "code",
   "execution_count": 36,
   "id": "43f9f3d9",
   "metadata": {},
   "outputs": [
    {
     "data": {
      "text/plain": [
       "[23, 34, 45, 21, 567]"
      ]
     },
     "execution_count": 36,
     "metadata": {},
     "output_type": "execute_result"
    }
   ],
   "source": [
    "swapValue([23,34,567,21,45], 2,4)"
   ]
  },
  {
   "cell_type": "code",
   "execution_count": 37,
   "id": "8ce41472",
   "metadata": {},
   "outputs": [],
   "source": [
    "def checkIfNotNumeric2(L):\n",
    "    for x in L:\n",
    "        if not(isinstance (x,(int,float))):\n",
    "            return False\n",
    "    return True"
   ]
  },
  {
   "cell_type": "code",
   "execution_count": 38,
   "id": "825904e3",
   "metadata": {},
   "outputs": [],
   "source": [
    "\n",
    "def sortList(L):\n",
    "    if not (checkIfNotNumeric2(L)):\n",
    "        print('Error: List does not contain numeric values')\n",
    "        return\n",
    "    else:\n",
    "        c = 0\n",
    "        for x in L:\n",
    "            m,idx = findMin(L,c)\n",
    "            L = swapValue(L,c,idx)\n",
    "            c+=1\n",
    "    return L\n",
    "        "
   ]
  },
  {
   "cell_type": "code",
   "execution_count": 39,
   "id": "93a0c9dd",
   "metadata": {},
   "outputs": [
    {
     "name": "stdout",
     "output_type": "stream",
     "text": [
      "True\n"
     ]
    }
   ],
   "source": [
    "print(checkIfNotNumeric2([2,1,5,3,-8,17]))"
   ]
  },
  {
   "cell_type": "code",
   "execution_count": 40,
   "id": "c3f91b84",
   "metadata": {},
   "outputs": [
    {
     "name": "stdout",
     "output_type": "stream",
     "text": [
      "[-8, 1, 2, 3, 5, 17]\n"
     ]
    }
   ],
   "source": [
    "L2 = sortList([2,1,5,3,-8,17])\n",
    "print(L2)"
   ]
  },
  {
   "cell_type": "markdown",
   "id": "de666e42",
   "metadata": {},
   "source": [
    "# STRINGS"
   ]
  },
  {
   "cell_type": "code",
   "execution_count": 46,
   "id": "d9b1b100",
   "metadata": {},
   "outputs": [],
   "source": [
    "s = \"Python is the best language for data science.\"\n",
    "t = ' It is a very good language'"
   ]
  },
  {
   "cell_type": "code",
   "execution_count": 47,
   "id": "f8c202e3",
   "metadata": {},
   "outputs": [
    {
     "data": {
      "text/plain": [
       "str"
      ]
     },
     "execution_count": 47,
     "metadata": {},
     "output_type": "execute_result"
    }
   ],
   "source": [
    "type (s)"
   ]
  },
  {
   "cell_type": "code",
   "execution_count": 48,
   "id": "a6f8488f",
   "metadata": {},
   "outputs": [
    {
     "name": "stdout",
     "output_type": "stream",
     "text": [
      "Python is the best language for data science.\n"
     ]
    }
   ],
   "source": [
    "print(s)"
   ]
  },
  {
   "cell_type": "code",
   "execution_count": 53,
   "id": "c1a6963c",
   "metadata": {},
   "outputs": [],
   "source": [
    "v = s + ' ' + t"
   ]
  },
  {
   "cell_type": "code",
   "execution_count": 54,
   "id": "ad065c6a",
   "metadata": {},
   "outputs": [
    {
     "name": "stdout",
     "output_type": "stream",
     "text": [
      "Python is the best language for data science.  It is a very good language\n"
     ]
    }
   ],
   "source": [
    "print(v)"
   ]
  },
  {
   "cell_type": "code",
   "execution_count": 57,
   "id": "992c43b6",
   "metadata": {},
   "outputs": [
    {
     "name": "stdout",
     "output_type": "stream",
     "text": [
      "The price of this book is: 12\n"
     ]
    }
   ],
   "source": [
    "price = 12\n",
    "s = 'The price of this book'\n",
    "v = s + ' is: ' + str(price)\n",
    "print (v)"
   ]
  },
  {
   "cell_type": "code",
   "execution_count": 58,
   "id": "a7758354",
   "metadata": {},
   "outputs": [
    {
     "name": "stdout",
     "output_type": "stream",
     "text": [
      "The price of this book is: 12\n"
     ]
    }
   ],
   "source": [
    "print(s, 'is:', price)"
   ]
  },
  {
   "cell_type": "code",
   "execution_count": 61,
   "id": "974de8e4",
   "metadata": {},
   "outputs": [
    {
     "name": "stdout",
     "output_type": "stream",
     "text": [
      "The price of this bookis: 12\n"
     ]
    }
   ],
   "source": [
    "print(s + 'is:',price)"
   ]
  },
  {
   "cell_type": "markdown",
   "id": "3bf62012",
   "metadata": {},
   "source": [
    "MULTILINE STRING"
   ]
  },
  {
   "cell_type": "code",
   "execution_count": 66,
   "id": "15a682f0",
   "metadata": {},
   "outputs": [],
   "source": [
    "a= \"\"\"This is line one.\n",
    "This is line two.\n",
    "This is last line. and this line is 3.\"\"\""
   ]
  },
  {
   "cell_type": "code",
   "execution_count": 68,
   "id": "b85af3ad",
   "metadata": {},
   "outputs": [
    {
     "name": "stdout",
     "output_type": "stream",
     "text": [
      "This is line one.\n",
      "This is line two.\n",
      "This is last line. and this line is 3.\n"
     ]
    }
   ],
   "source": [
    "print(a)"
   ]
  },
  {
   "cell_type": "markdown",
   "id": "ede4286d",
   "metadata": {},
   "source": [
    "INDEXING AND SLICING"
   ]
  },
  {
   "cell_type": "code",
   "execution_count": 81,
   "id": "964589ac",
   "metadata": {},
   "outputs": [
    {
     "name": "stdout",
     "output_type": "stream",
     "text": [
      "e of \n",
      "gramm\n",
      "19\n",
      "5\n"
     ]
    }
   ],
   "source": [
    "a = 'Game of programming'\n",
    "print(a[3:8])\n",
    "print(a[-8:-3])\n",
    "\n",
    "print(len(a))\n",
    "print(len(a[3:8]))"
   ]
  },
  {
   "cell_type": "code",
   "execution_count": 75,
   "id": "b2ad2e1c",
   "metadata": {},
   "outputs": [
    {
     "name": "stdout",
     "output_type": "stream",
     "text": [
      "H\n",
      "r\n"
     ]
    },
    {
     "data": {
      "text/plain": [
       "str"
      ]
     },
     "execution_count": 75,
     "metadata": {},
     "output_type": "execute_result"
    }
   ],
   "source": [
    "s = \"How are you and who are you\"\n",
    "print(s[0])\n",
    "print(s[5])\n",
    "type(s[5])"
   ]
  },
  {
   "cell_type": "code",
   "execution_count": 77,
   "id": "678a4010",
   "metadata": {},
   "outputs": [
    {
     "name": "stdout",
     "output_type": "stream",
     "text": [
      "How are yo\n"
     ]
    }
   ],
   "source": [
    "print(s[0:10])"
   ]
  },
  {
   "cell_type": "code",
   "execution_count": 78,
   "id": "04ff721a",
   "metadata": {},
   "outputs": [
    {
     "name": "stdout",
     "output_type": "stream",
     "text": [
      "u\n"
     ]
    }
   ],
   "source": [
    "print(s[-1])"
   ]
  },
  {
   "cell_type": "code",
   "execution_count": 80,
   "id": "b1a66602",
   "metadata": {},
   "outputs": [
    {
     "name": "stdout",
     "output_type": "stream",
     "text": [
      " who are \n"
     ]
    }
   ],
   "source": [
    "print(s[-12:-3])"
   ]
  },
  {
   "cell_type": "code",
   "execution_count": 82,
   "id": "9a14952b",
   "metadata": {},
   "outputs": [
    {
     "name": "stdout",
     "output_type": "stream",
     "text": [
      "27\n"
     ]
    }
   ],
   "source": [
    "print(len(s))"
   ]
  },
  {
   "cell_type": "code",
   "execution_count": 83,
   "id": "ce0cb40c",
   "metadata": {},
   "outputs": [
    {
     "name": "stdout",
     "output_type": "stream",
     "text": [
      "Hwaeyu\n"
     ]
    }
   ],
   "source": [
    "print(s[0:12:2])"
   ]
  },
  {
   "cell_type": "code",
   "execution_count": 84,
   "id": "e8b0ab87",
   "metadata": {},
   "outputs": [
    {
     "name": "stdout",
     "output_type": "stream",
     "text": [
      "How are you \n"
     ]
    }
   ],
   "source": [
    "#s[startindex:endindex:stepsize]\n",
    "print(s[:12])"
   ]
  },
  {
   "cell_type": "code",
   "execution_count": 85,
   "id": "439a4d96",
   "metadata": {},
   "outputs": [
    {
     "name": "stdout",
     "output_type": "stream",
     "text": [
      " are you and who are you\n"
     ]
    }
   ],
   "source": [
    "print(s[3:])"
   ]
  },
  {
   "cell_type": "code",
   "execution_count": 97,
   "id": "bce3b5a5",
   "metadata": {},
   "outputs": [
    {
     "name": "stdout",
     "output_type": "stream",
     "text": [
      "uoy era ohw dna uoy era woH\n",
      "      A  Lot Of Spaces At The      Beginning And End      \n"
     ]
    }
   ],
   "source": [
    "#Reversing the string\n",
    "print(s[: : -1])\n",
    "a = \"      A  lot of spaces at The      beGINNing and enD      \"\n",
    "print(a.title())"
   ]
  },
  {
   "cell_type": "markdown",
   "id": "ae0612e2",
   "metadata": {},
   "source": [
    "# string methods"
   ]
  },
  {
   "cell_type": "markdown",
   "id": "87421657",
   "metadata": {},
   "source": [
    "STRIP( EG: a.strip())"
   ]
  },
  {
   "cell_type": "code",
   "execution_count": 91,
   "id": "6e5a34cf",
   "metadata": {},
   "outputs": [
    {
     "name": "stdout",
     "output_type": "stream",
     "text": [
      "A  lot of spaces at The      beGINNing and enD\n",
      "      A  lot of spaces at The      beGINNing and enD      \n"
     ]
    }
   ],
   "source": [
    "a = \"      A  lot of spaces at The      beGINNing and enD      \"\n",
    "b = a.strip()\n",
    "print(b)\n",
    "print(a)"
   ]
  },
  {
   "cell_type": "markdown",
   "id": "70a3632d",
   "metadata": {},
   "source": [
    "LOWER (EG: a.lower())"
   ]
  },
  {
   "cell_type": "code",
   "execution_count": 92,
   "id": "c386cb0a",
   "metadata": {},
   "outputs": [
    {
     "name": "stdout",
     "output_type": "stream",
     "text": [
      "      a  lot of spaces at the      beginning and end      \n"
     ]
    }
   ],
   "source": [
    "a = \"      A  lot of spaces at The      beGINNing and enD      \"\n",
    "b = a.lower()\n",
    "print(b)"
   ]
  },
  {
   "cell_type": "markdown",
   "id": "725f3b25",
   "metadata": {},
   "source": [
    "UPPER (EG: a.upper())"
   ]
  },
  {
   "cell_type": "code",
   "execution_count": 93,
   "id": "51c9d16a",
   "metadata": {},
   "outputs": [
    {
     "name": "stdout",
     "output_type": "stream",
     "text": [
      "      A  LOT OF SPACES AT THE      BEGINNING AND END      \n"
     ]
    }
   ],
   "source": [
    "a = \"      A  lot of spaces at The      beGINNing and enD      \"\n",
    "c = a.upper()\n",
    "print(c)"
   ]
  },
  {
   "cell_type": "markdown",
   "id": "664fc9b8",
   "metadata": {},
   "source": [
    "REPLACE(EG: a.replace('',''))"
   ]
  },
  {
   "cell_type": "code",
   "execution_count": 94,
   "id": "dc96aad6",
   "metadata": {},
   "outputs": [
    {
     "name": "stdout",
     "output_type": "stream",
     "text": [
      "      A  lot of spaces at The      beGINNizg azd ezD      \n"
     ]
    }
   ],
   "source": [
    "a = \"      A  lot of spaces at The      beGINNing and enD      \"\n",
    "d = a.replace('n', 'z')\n",
    "print(d)"
   ]
  },
  {
   "cell_type": "code",
   "execution_count": 96,
   "id": "87eb6779",
   "metadata": {},
   "outputs": [
    {
     "name": "stdout",
     "output_type": "stream",
     "text": [
      "      a  lot of spaces at the      begizzizg azd ezd      \n"
     ]
    }
   ],
   "source": [
    "a = \"      A  lot of spaces at The      beGINNing and enD      \"\n",
    "e = a.lower().replace(\"n\",\"z\")\n",
    "print(e)"
   ]
  },
  {
   "cell_type": "markdown",
   "id": "bedc47c8",
   "metadata": {},
   "source": [
    "SPLIT (EG: a.split(':'))"
   ]
  },
  {
   "cell_type": "code",
   "execution_count": 106,
   "id": "d17d4906",
   "metadata": {},
   "outputs": [
    {
     "name": "stdout",
     "output_type": "stream",
     "text": [
      "[' A  ', 'lot of spaces', ' at The', '  beGINNing', ' and enD  ']\n",
      "  beGINNing\n"
     ]
    }
   ],
   "source": [
    "a = \" A  ;lot of spaces; at The;  beGINNing; and enD  \"\n",
    "L = a.split(';')\n",
    "print(L)\n",
    "print(L[3])"
   ]
  },
  {
   "cell_type": "code",
   "execution_count": 112,
   "id": "31861760",
   "metadata": {},
   "outputs": [
    {
     "name": "stdout",
     "output_type": "stream",
     "text": [
      "9\n",
      "False\n"
     ]
    }
   ],
   "source": [
    "a = \"a lot of spaces at The      beGINNing and enD      \"\n",
    "z = a.find('s')\n",
    "print(z)\n",
    "print('python' in a)"
   ]
  },
  {
   "cell_type": "code",
   "execution_count": 113,
   "id": "31467e61",
   "metadata": {},
   "outputs": [
    {
     "data": {
      "text/plain": [
       "'A lot of spaces at the      beginning and end      '"
      ]
     },
     "execution_count": 113,
     "metadata": {},
     "output_type": "execute_result"
    }
   ],
   "source": [
    "a.capitalize()"
   ]
  },
  {
   "cell_type": "code",
   "execution_count": 116,
   "id": "5e9dff5f",
   "metadata": {},
   "outputs": [
    {
     "data": {
      "text/plain": [
       "2"
      ]
     },
     "execution_count": 116,
     "metadata": {},
     "output_type": "execute_result"
    }
   ],
   "source": [
    "a.count('s')"
   ]
  },
  {
   "cell_type": "code",
   "execution_count": 117,
   "id": "758751c5",
   "metadata": {},
   "outputs": [
    {
     "name": "stdout",
     "output_type": "stream",
     "text": [
      "False\n"
     ]
    }
   ],
   "source": [
    "print('abc' in a)"
   ]
  },
  {
   "cell_type": "code",
   "execution_count": 118,
   "id": "8cb75096",
   "metadata": {},
   "outputs": [
    {
     "name": "stdout",
     "output_type": "stream",
     "text": [
      "True\n"
     ]
    }
   ],
   "source": [
    "print('a' in a)"
   ]
  },
  {
   "cell_type": "code",
   "execution_count": 119,
   "id": "50fe91e2",
   "metadata": {},
   "outputs": [
    {
     "data": {
      "text/plain": [
       "True"
      ]
     },
     "execution_count": 119,
     "metadata": {},
     "output_type": "execute_result"
    }
   ],
   "source": [
    "'abc' == 'abc'"
   ]
  },
  {
   "cell_type": "code",
   "execution_count": 120,
   "id": "dc05f96b",
   "metadata": {},
   "outputs": [
    {
     "data": {
      "text/plain": [
       "False"
      ]
     },
     "execution_count": 120,
     "metadata": {},
     "output_type": "execute_result"
    }
   ],
   "source": [
    "'acb'== 'asd'"
   ]
  },
  {
   "cell_type": "code",
   "execution_count": 121,
   "id": "a48a92bb",
   "metadata": {},
   "outputs": [
    {
     "data": {
      "text/plain": [
       "True"
      ]
     },
     "execution_count": 121,
     "metadata": {},
     "output_type": "execute_result"
    }
   ],
   "source": [
    "'sdr' > 'adc'"
   ]
  },
  {
   "cell_type": "code",
   "execution_count": 126,
   "id": "ca829ee1",
   "metadata": {},
   "outputs": [
    {
     "name": "stdout",
     "output_type": "stream",
     "text": [
      "We are learning \"strings\" here\n",
      "We are learning \"strings\" here\n",
      "We are learning \n",
      "strings here\n",
      "We \t are learning strings here\n"
     ]
    }
   ],
   "source": [
    "print(\"We are learning \\\"strings\\\" here\")\n",
    "print('We are learning \"strings\" here')\n",
    "print(\"We are learning \\nstrings here\")\n",
    "print(\"We \\t are learning strings here\")"
   ]
  },
  {
   "cell_type": "code",
   "execution_count": 128,
   "id": "c1a7dac2",
   "metadata": {},
   "outputs": [
    {
     "name": "stdout",
     "output_type": "stream",
     "text": [
      "C:\n",
      "ame\\drive\n",
      "C:\\name\\drive\n"
     ]
    }
   ],
   "source": [
    "print(\"C:\\name\\drive\")\n",
    "print(r\"C:\\name\\drive\")"
   ]
  },
  {
   "cell_type": "markdown",
   "id": "2f338ff3",
   "metadata": {},
   "source": [
    "# Data Structures"
   ]
  },
  {
   "cell_type": "markdown",
   "id": "a48b3033",
   "metadata": {},
   "source": [
    "LISTS, TUPLES, SETS, DICTIONARIES"
   ]
  },
  {
   "cell_type": "code",
   "execution_count": 132,
   "id": "a5b94467",
   "metadata": {},
   "outputs": [],
   "source": [
    "L = [1,2,'name',5,4,4]"
   ]
  },
  {
   "cell_type": "code",
   "execution_count": 133,
   "id": "8c5733b4",
   "metadata": {},
   "outputs": [],
   "source": [
    "T = (1,3,'NAME',3)"
   ]
  },
  {
   "cell_type": "code",
   "execution_count": 134,
   "id": "3c45cea3",
   "metadata": {},
   "outputs": [],
   "source": [
    "S = {1,3,4.9,'name',3}"
   ]
  },
  {
   "cell_type": "code",
   "execution_count": 135,
   "id": "c4e23fad",
   "metadata": {},
   "outputs": [],
   "source": [
    "D = {'value': 23, 'teo': 'marie', 'halima': 234, 7 : 'Austin'}"
   ]
  },
  {
   "cell_type": "code",
   "execution_count": 137,
   "id": "c307de20",
   "metadata": {},
   "outputs": [
    {
     "name": "stdout",
     "output_type": "stream",
     "text": [
      "The type of L is:  <class 'list'>\n",
      "The type of L is:  <class 'tuple'>\n",
      "The type of L is:  <class 'set'>\n",
      "The type of L is:  <class 'dict'>\n"
     ]
    }
   ],
   "source": [
    "print(\"The type of L is: \", type(L))\n",
    "print(\"The type of L is: \",type(T))\n",
    "print(\"The type of L is: \",type(S))\n",
    "print(\"The type of L is: \",type(D))"
   ]
  },
  {
   "cell_type": "markdown",
   "id": "9abc3ba9",
   "metadata": {},
   "source": [
    "TO CHECK THE PRESENCE OF OR ACCESS AN ELEMENT IN THE DATA SET"
   ]
  },
  {
   "cell_type": "code",
   "execution_count": 143,
   "id": "ed5cb933",
   "metadata": {},
   "outputs": [
    {
     "data": {
      "text/plain": [
       "2"
      ]
     },
     "execution_count": 143,
     "metadata": {},
     "output_type": "execute_result"
    }
   ],
   "source": [
    "#LISTS\n",
    "L[1]"
   ]
  },
  {
   "cell_type": "code",
   "execution_count": 144,
   "id": "2a838600",
   "metadata": {},
   "outputs": [
    {
     "data": {
      "text/plain": [
       "3"
      ]
     },
     "execution_count": 144,
     "metadata": {},
     "output_type": "execute_result"
    }
   ],
   "source": [
    "#TUPLES\n",
    "T[1]"
   ]
  },
  {
   "cell_type": "code",
   "execution_count": 145,
   "id": "a2bddcfd",
   "metadata": {},
   "outputs": [
    {
     "data": {
      "text/plain": [
       "False"
      ]
     },
     "execution_count": 145,
     "metadata": {},
     "output_type": "execute_result"
    }
   ],
   "source": [
    "#SET\n",
    "'R' in S"
   ]
  },
  {
   "cell_type": "code",
   "execution_count": 149,
   "id": "79a5aa33",
   "metadata": {},
   "outputs": [
    {
     "data": {
      "text/plain": [
       "234"
      ]
     },
     "execution_count": 149,
     "metadata": {},
     "output_type": "execute_result"
    }
   ],
   "source": [
    "#DICTIONARIES\n",
    "D['halima']"
   ]
  },
  {
   "cell_type": "code",
   "execution_count": 151,
   "id": "39e9392f",
   "metadata": {},
   "outputs": [
    {
     "data": {
      "text/plain": [
       "{1, 3, 4.9, 'name'}"
      ]
     },
     "execution_count": 151,
     "metadata": {},
     "output_type": "execute_result"
    }
   ],
   "source": [
    "S"
   ]
  },
  {
   "cell_type": "code",
   "execution_count": 152,
   "id": "ea3a1be7",
   "metadata": {},
   "outputs": [
    {
     "data": {
      "text/plain": [
       "[1, 2, 'name', 5, 4, 4]"
      ]
     },
     "execution_count": 152,
     "metadata": {},
     "output_type": "execute_result"
    }
   ],
   "source": [
    "L"
   ]
  },
  {
   "cell_type": "code",
   "execution_count": 153,
   "id": "95044bbf",
   "metadata": {},
   "outputs": [
    {
     "data": {
      "text/plain": [
       "[2, 'name']"
      ]
     },
     "execution_count": 153,
     "metadata": {},
     "output_type": "execute_result"
    }
   ],
   "source": [
    "L[1:3]"
   ]
  },
  {
   "cell_type": "code",
   "execution_count": 154,
   "id": "fbc0859a",
   "metadata": {},
   "outputs": [
    {
     "data": {
      "text/plain": [
       "(1, 3, 'NAME', 3)"
      ]
     },
     "execution_count": 154,
     "metadata": {},
     "output_type": "execute_result"
    }
   ],
   "source": [
    "T"
   ]
  },
  {
   "cell_type": "code",
   "execution_count": 155,
   "id": "86170677",
   "metadata": {},
   "outputs": [
    {
     "data": {
      "text/plain": [
       "(1, 3, 'NAME', 3)"
      ]
     },
     "execution_count": 155,
     "metadata": {},
     "output_type": "execute_result"
    }
   ],
   "source": [
    "T[:]"
   ]
  },
  {
   "cell_type": "code",
   "execution_count": 161,
   "id": "5ed31175",
   "metadata": {},
   "outputs": [
    {
     "data": {
      "text/plain": [
       "[1, 2, 'name', 5, 4, 4, 'hello', 'hello', 'hello']"
      ]
     },
     "execution_count": 161,
     "metadata": {},
     "output_type": "execute_result"
    }
   ],
   "source": [
    "L"
   ]
  },
  {
   "cell_type": "code",
   "execution_count": 162,
   "id": "4d1f2d97",
   "metadata": {},
   "outputs": [],
   "source": [
    "del L[1]"
   ]
  },
  {
   "cell_type": "code",
   "execution_count": 163,
   "id": "2d041739",
   "metadata": {},
   "outputs": [
    {
     "data": {
      "text/plain": [
       "[1, 'name', 5, 4, 4, 'hello', 'hello', 'hello']"
      ]
     },
     "execution_count": 163,
     "metadata": {},
     "output_type": "execute_result"
    }
   ],
   "source": [
    "L"
   ]
  },
  {
   "cell_type": "code",
   "execution_count": 164,
   "id": "7546fccd",
   "metadata": {},
   "outputs": [
    {
     "data": {
      "text/plain": [
       "{'value': 23, 'teo': 'marie', 'halima': 234, 7: 'Austin'}"
      ]
     },
     "execution_count": 164,
     "metadata": {},
     "output_type": "execute_result"
    }
   ],
   "source": [
    "D"
   ]
  },
  {
   "cell_type": "code",
   "execution_count": 165,
   "id": "1335625f",
   "metadata": {},
   "outputs": [
    {
     "data": {
      "text/plain": [
       "{'value': 23, 'teo': 'marie', 'halima': 234, 7: 'Austin', 'newKey': 'newValue'}"
      ]
     },
     "execution_count": 165,
     "metadata": {},
     "output_type": "execute_result"
    }
   ],
   "source": [
    "D['newKey'] = 'newValue'\n",
    "D"
   ]
  },
  {
   "cell_type": "code",
   "execution_count": 166,
   "id": "b061e996",
   "metadata": {},
   "outputs": [
    {
     "data": {
      "text/plain": [
       "{'HAY': 67, 786: 6777}"
      ]
     },
     "execution_count": 166,
     "metadata": {},
     "output_type": "execute_result"
    }
   ],
   "source": [
    "D1 = {'HAY': 67, 786: 6777}\n",
    "D1"
   ]
  },
  {
   "cell_type": "code",
   "execution_count": 168,
   "id": "dad44b70",
   "metadata": {},
   "outputs": [
    {
     "data": {
      "text/plain": [
       "[1, 'name', 5, 4, 4, 'hello', 'hello', 'hello']"
      ]
     },
     "execution_count": 168,
     "metadata": {},
     "output_type": "execute_result"
    }
   ],
   "source": [
    "L"
   ]
  },
  {
   "cell_type": "code",
   "execution_count": 169,
   "id": "e7d5f081",
   "metadata": {},
   "outputs": [],
   "source": [
    "L3 = L[1:5]"
   ]
  },
  {
   "cell_type": "code",
   "execution_count": 170,
   "id": "418c6c6b",
   "metadata": {},
   "outputs": [
    {
     "data": {
      "text/plain": [
       "['name', 5, 4, 4]"
      ]
     },
     "execution_count": 170,
     "metadata": {},
     "output_type": "execute_result"
    }
   ],
   "source": [
    "L3"
   ]
  },
  {
   "cell_type": "code",
   "execution_count": 171,
   "id": "f25501f8",
   "metadata": {},
   "outputs": [
    {
     "data": {
      "text/plain": [
       "[6, 5, 4, 4]"
      ]
     },
     "execution_count": 171,
     "metadata": {},
     "output_type": "execute_result"
    }
   ],
   "source": [
    "L3[0]= 6\n",
    "L3"
   ]
  },
  {
   "cell_type": "code",
   "execution_count": 172,
   "id": "4b5a4f1b",
   "metadata": {},
   "outputs": [
    {
     "data": {
      "text/plain": [
       "[1, 'name', 5, 4, 4, 'hello', 'hello', 'hello']"
      ]
     },
     "execution_count": 172,
     "metadata": {},
     "output_type": "execute_result"
    }
   ],
   "source": [
    "L"
   ]
  },
  {
   "cell_type": "code",
   "execution_count": 4,
   "id": "110d1ca3",
   "metadata": {},
   "outputs": [
    {
     "data": {
      "text/plain": [
       "[4, 16, 36, 64]"
      ]
     },
     "execution_count": 4,
     "metadata": {},
     "output_type": "execute_result"
    }
   ],
   "source": [
    "L3 = [x**2 for x in range(2,10,2)]\n",
    "L3"
   ]
  },
  {
   "cell_type": "markdown",
   "id": "a84a5b87",
   "metadata": {},
   "source": [
    "# USING DATA STRUCTURES"
   ]
  },
  {
   "cell_type": "code",
   "execution_count": 24,
   "id": "5f80308a",
   "metadata": {},
   "outputs": [],
   "source": [
    "\"\"\"Lets say you are a teacher and you have different student records containing id of a \n",
    "student and the marks list in each subject where different students have taken different number of subjects. All these records\n",
    "are in hard copy. You want to enter all the data in computer and want to compute the average marks of each student and display.\n",
    "\n",
    "\"\"\"\n",
    "def getDataFromUser():\n",
    "    D={}\n",
    "    while True:\n",
    "        studentId = input(\"Enter student ID: \")\n",
    "        marksList = input(\"Enter the marks by comma separated values: \")\n",
    "        \n",
    "        if studentId in D:\n",
    "            print(studentId, \"is already inserted\")\n",
    "        else:\n",
    "            D[studentId] = marksList.split(',')\n",
    "        moreStudents = input(\"Enter 'no' to quit insertion: \")\n",
    "        if moreStudents.lower() == 'no':\n",
    "            return D\n",
    "\n",
    "\n",
    "\n",
    "        "
   ]
  },
  {
   "cell_type": "code",
   "execution_count": 38,
   "id": "e0d3a7c5",
   "metadata": {},
   "outputs": [
    {
     "name": "stdout",
     "output_type": "stream",
     "text": [
      "Enter student ID: 12\n",
      "Enter the marks by comma separated values: 23,45,67\n",
      "Enter 'no' to quit insertion: dd\n",
      "Enter student ID: 23\n",
      "Enter the marks by comma separated values: 345,566,666\n",
      "Enter 'no' to quit insertion: ft\n",
      "Enter student ID: 23\n",
      "Enter the marks by comma separated values: 345,5556\n",
      "23 is already inserted\n",
      "Enter 'no' to quit insertion: no\n"
     ]
    }
   ],
   "source": [
    "studentData = getDataFromUser()"
   ]
  },
  {
   "cell_type": "code",
   "execution_count": 39,
   "id": "f5e529ef",
   "metadata": {},
   "outputs": [
    {
     "data": {
      "text/plain": [
       "{'12': ['23', '45', '67'], '23': ['345', '566', '666']}"
      ]
     },
     "execution_count": 39,
     "metadata": {},
     "output_type": "execute_result"
    }
   ],
   "source": [
    "studentData\n"
   ]
  },
  {
   "cell_type": "code",
   "execution_count": 40,
   "id": "b88f885f",
   "metadata": {},
   "outputs": [],
   "source": [
    "#studentData['234'] = ['23,44,32']"
   ]
  },
  {
   "cell_type": "code",
   "execution_count": 41,
   "id": "7c1be8c6",
   "metadata": {},
   "outputs": [
    {
     "data": {
      "text/plain": [
       "{'12': ['23', '45', '67'], '23': ['345', '566', '666']}"
      ]
     },
     "execution_count": 41,
     "metadata": {},
     "output_type": "execute_result"
    }
   ],
   "source": [
    "#del studentData['234'][2]\n",
    "studentData"
   ]
  },
  {
   "cell_type": "code",
   "execution_count": 45,
   "id": "bd336898",
   "metadata": {},
   "outputs": [],
   "source": [
    "def getAvgMarks(D):\n",
    "    avgMarks = {}\n",
    "    for x in D:\n",
    "        L = D[x]\n",
    "        sum = 0\n",
    "        for marks in L:\n",
    "            sum += int(marks)\n",
    "        avgMarks[x] = sum/len(L)\n",
    "    return avgMarks\n",
    "        "
   ]
  },
  {
   "cell_type": "code",
   "execution_count": 46,
   "id": "cc150aa6",
   "metadata": {},
   "outputs": [],
   "source": [
    "avgM = getAvgMarks(studentData)"
   ]
  },
  {
   "cell_type": "code",
   "execution_count": 47,
   "id": "3b8d3eb3",
   "metadata": {},
   "outputs": [
    {
     "name": "stdout",
     "output_type": "stream",
     "text": [
      "student:  12 Got average marks as:  45.0\n",
      "student:  23 Got average marks as:  525.6666666666666\n"
     ]
    }
   ],
   "source": [
    "for x in avgM:\n",
    "    print('student: ', x, \"Got average marks as: \", avgM[x])"
   ]
  },
  {
   "cell_type": "markdown",
   "id": "b27e39e7",
   "metadata": {},
   "source": [
    "# DATA SCIENCE PACKAGES"
   ]
  },
  {
   "cell_type": "markdown",
   "id": "636d850b",
   "metadata": {},
   "source": [
    "NUMPY"
   ]
  },
  {
   "cell_type": "code",
   "execution_count": 1,
   "id": "8b6c6c4f",
   "metadata": {},
   "outputs": [],
   "source": [
    "import numpy as np"
   ]
  },
  {
   "cell_type": "code",
   "execution_count": 2,
   "id": "fab6ce96",
   "metadata": {},
   "outputs": [
    {
     "data": {
      "text/plain": [
       "<module 'numpy.version' from 'C:\\\\Users\\\\DEBRA\\\\AppData\\\\Local\\\\Programs\\\\Python\\\\Python310\\\\lib\\\\site-packages\\\\numpy\\\\version.py'>"
      ]
     },
     "execution_count": 2,
     "metadata": {},
     "output_type": "execute_result"
    }
   ],
   "source": [
    "np.version"
   ]
  },
  {
   "cell_type": "code",
   "execution_count": 7,
   "id": "d20a17be",
   "metadata": {},
   "outputs": [
    {
     "name": "stdout",
     "output_type": "stream",
     "text": [
      "[1 2 3 5 7]\n",
      "[2. 3. 5.]\n"
     ]
    }
   ],
   "source": [
    "a = np.array([1,2,3,5,7])  #defined using a list\n",
    "b = np.array((2,3,5), dtype='f')    # defined using a tuple\n",
    "print(a)\n",
    "print(b)"
   ]
  },
  {
   "cell_type": "code",
   "execution_count": 4,
   "id": "8432670c",
   "metadata": {},
   "outputs": [
    {
     "data": {
      "text/plain": [
       "numpy.ndarray"
      ]
     },
     "execution_count": 4,
     "metadata": {},
     "output_type": "execute_result"
    }
   ],
   "source": [
    "type(a)"
   ]
  },
  {
   "cell_type": "code",
   "execution_count": 8,
   "id": "09c9d765",
   "metadata": {},
   "outputs": [
    {
     "data": {
      "text/plain": [
       "numpy.ndarray"
      ]
     },
     "execution_count": 8,
     "metadata": {},
     "output_type": "execute_result"
    }
   ],
   "source": [
    "type(b)"
   ]
  },
  {
   "cell_type": "code",
   "execution_count": 9,
   "id": "c544878b",
   "metadata": {},
   "outputs": [
    {
     "data": {
      "text/plain": [
       "dtype('int32')"
      ]
     },
     "execution_count": 9,
     "metadata": {},
     "output_type": "execute_result"
    }
   ],
   "source": [
    "a.dtype"
   ]
  },
  {
   "cell_type": "code",
   "execution_count": 12,
   "id": "f7aecd26",
   "metadata": {},
   "outputs": [
    {
     "data": {
      "text/plain": [
       "dtype('float32')"
      ]
     },
     "execution_count": 12,
     "metadata": {},
     "output_type": "execute_result"
    }
   ],
   "source": [
    "b.dtype"
   ]
  },
  {
   "cell_type": "code",
   "execution_count": 17,
   "id": "26f19e71",
   "metadata": {},
   "outputs": [],
   "source": [
    "\n",
    "a = np.array([[1,2,3],[4,5,6]])\n"
   ]
  },
  {
   "cell_type": "code",
   "execution_count": 18,
   "id": "72c0aed2",
   "metadata": {},
   "outputs": [
    {
     "data": {
      "text/plain": [
       "2"
      ]
     },
     "execution_count": 18,
     "metadata": {},
     "output_type": "execute_result"
    }
   ],
   "source": [
    "a.ndim"
   ]
  },
  {
   "cell_type": "code",
   "execution_count": 20,
   "id": "c67865b6",
   "metadata": {},
   "outputs": [
    {
     "data": {
      "text/plain": [
       "5"
      ]
     },
     "execution_count": 20,
     "metadata": {},
     "output_type": "execute_result"
    }
   ],
   "source": [
    "a[1,1]"
   ]
  },
  {
   "cell_type": "code",
   "execution_count": 28,
   "id": "12c89dca",
   "metadata": {},
   "outputs": [],
   "source": [
    "b = np.array([[1,2,3], [2,4,5], [3,4,67]])"
   ]
  },
  {
   "cell_type": "code",
   "execution_count": 29,
   "id": "f19bd72e",
   "metadata": {},
   "outputs": [
    {
     "data": {
      "text/plain": [
       "2"
      ]
     },
     "execution_count": 29,
     "metadata": {},
     "output_type": "execute_result"
    }
   ],
   "source": [
    "b.ndim"
   ]
  },
  {
   "cell_type": "code",
   "execution_count": 30,
   "id": "9609398e",
   "metadata": {},
   "outputs": [
    {
     "data": {
      "text/plain": [
       "5"
      ]
     },
     "execution_count": 30,
     "metadata": {},
     "output_type": "execute_result"
    }
   ],
   "source": [
    "b[1,2]"
   ]
  },
  {
   "cell_type": "code",
   "execution_count": 42,
   "id": "189eeef7",
   "metadata": {},
   "outputs": [],
   "source": [
    "c = np.array([[[1,2,3], [2,4,5], [3,4,67]],[[37,988,453], [2234,4431,545], [333,442,6457]]])"
   ]
  },
  {
   "cell_type": "code",
   "execution_count": 32,
   "id": "de66f291",
   "metadata": {},
   "outputs": [
    {
     "data": {
      "text/plain": [
       "3"
      ]
     },
     "execution_count": 32,
     "metadata": {},
     "output_type": "execute_result"
    }
   ],
   "source": [
    "c.ndim"
   ]
  },
  {
   "cell_type": "code",
   "execution_count": 33,
   "id": "6a2a6513",
   "metadata": {},
   "outputs": [
    {
     "data": {
      "text/plain": [
       "67"
      ]
     },
     "execution_count": 33,
     "metadata": {},
     "output_type": "execute_result"
    }
   ],
   "source": [
    "c[0,2,2]"
   ]
  },
  {
   "cell_type": "code",
   "execution_count": 34,
   "id": "cd51885f",
   "metadata": {},
   "outputs": [
    {
     "data": {
      "text/plain": [
       "6457"
      ]
     },
     "execution_count": 34,
     "metadata": {},
     "output_type": "execute_result"
    }
   ],
   "source": [
    "c[1,2,2]"
   ]
  },
  {
   "cell_type": "code",
   "execution_count": 37,
   "id": "92e20745",
   "metadata": {},
   "outputs": [
    {
     "data": {
      "text/plain": [
       "453"
      ]
     },
     "execution_count": 37,
     "metadata": {},
     "output_type": "execute_result"
    }
   ],
   "source": [
    "c[1,0,2]"
   ]
  },
  {
   "cell_type": "code",
   "execution_count": 38,
   "id": "c6e8d84e",
   "metadata": {},
   "outputs": [
    {
     "data": {
      "text/plain": [
       "array([[  37,  988,  453],\n",
       "       [2234, 4431,  545],\n",
       "       [ 333,  442, 6457]])"
      ]
     },
     "execution_count": 38,
     "metadata": {},
     "output_type": "execute_result"
    }
   ],
   "source": [
    "c[1]"
   ]
  },
  {
   "cell_type": "markdown",
   "id": "f53978e5",
   "metadata": {},
   "source": [
    "shape property"
   ]
  },
  {
   "cell_type": "code",
   "execution_count": 39,
   "id": "48f13b93",
   "metadata": {},
   "outputs": [
    {
     "data": {
      "text/plain": [
       "(2, 3, 3)"
      ]
     },
     "execution_count": 39,
     "metadata": {},
     "output_type": "execute_result"
    }
   ],
   "source": [
    "c.shape"
   ]
  },
  {
   "cell_type": "code",
   "execution_count": 40,
   "id": "4fa25c35",
   "metadata": {},
   "outputs": [
    {
     "data": {
      "text/plain": [
       "(2, 3)"
      ]
     },
     "execution_count": 40,
     "metadata": {},
     "output_type": "execute_result"
    }
   ],
   "source": [
    "a.shape"
   ]
  },
  {
   "cell_type": "code",
   "execution_count": 44,
   "id": "7fbea78e",
   "metadata": {},
   "outputs": [
    {
     "data": {
      "text/plain": [
       "<function numpy.zeros>"
      ]
     },
     "execution_count": 44,
     "metadata": {},
     "output_type": "execute_result"
    }
   ],
   "source": [
    "np.zeros"
   ]
  },
  {
   "cell_type": "code",
   "execution_count": 45,
   "id": "21ba2942",
   "metadata": {},
   "outputs": [],
   "source": [
    "A = np.arange(100)"
   ]
  },
  {
   "cell_type": "code",
   "execution_count": 46,
   "id": "a67567c5",
   "metadata": {},
   "outputs": [
    {
     "data": {
      "text/plain": [
       "array([ 0,  1,  2,  3,  4,  5,  6,  7,  8,  9, 10, 11, 12, 13, 14, 15, 16,\n",
       "       17, 18, 19, 20, 21, 22, 23, 24, 25, 26, 27, 28, 29, 30, 31, 32, 33,\n",
       "       34, 35, 36, 37, 38, 39, 40, 41, 42, 43, 44, 45, 46, 47, 48, 49, 50,\n",
       "       51, 52, 53, 54, 55, 56, 57, 58, 59, 60, 61, 62, 63, 64, 65, 66, 67,\n",
       "       68, 69, 70, 71, 72, 73, 74, 75, 76, 77, 78, 79, 80, 81, 82, 83, 84,\n",
       "       85, 86, 87, 88, 89, 90, 91, 92, 93, 94, 95, 96, 97, 98, 99])"
      ]
     },
     "execution_count": 46,
     "metadata": {},
     "output_type": "execute_result"
    }
   ],
   "source": [
    "A"
   ]
  },
  {
   "cell_type": "code",
   "execution_count": 47,
   "id": "dcc4102d",
   "metadata": {},
   "outputs": [],
   "source": [
    "B = np.arange(20,100)"
   ]
  },
  {
   "cell_type": "code",
   "execution_count": 48,
   "id": "0d7873cf",
   "metadata": {},
   "outputs": [
    {
     "data": {
      "text/plain": [
       "array([20, 21, 22, 23, 24, 25, 26, 27, 28, 29, 30, 31, 32, 33, 34, 35, 36,\n",
       "       37, 38, 39, 40, 41, 42, 43, 44, 45, 46, 47, 48, 49, 50, 51, 52, 53,\n",
       "       54, 55, 56, 57, 58, 59, 60, 61, 62, 63, 64, 65, 66, 67, 68, 69, 70,\n",
       "       71, 72, 73, 74, 75, 76, 77, 78, 79, 80, 81, 82, 83, 84, 85, 86, 87,\n",
       "       88, 89, 90, 91, 92, 93, 94, 95, 96, 97, 98, 99])"
      ]
     },
     "execution_count": 48,
     "metadata": {},
     "output_type": "execute_result"
    }
   ],
   "source": [
    "B"
   ]
  },
  {
   "cell_type": "code",
   "execution_count": 49,
   "id": "ef0c0c27",
   "metadata": {},
   "outputs": [],
   "source": [
    "C = np.arange(0,101,2)"
   ]
  },
  {
   "cell_type": "code",
   "execution_count": 50,
   "id": "a179f912",
   "metadata": {},
   "outputs": [
    {
     "data": {
      "text/plain": [
       "array([  0,   2,   4,   6,   8,  10,  12,  14,  16,  18,  20,  22,  24,\n",
       "        26,  28,  30,  32,  34,  36,  38,  40,  42,  44,  46,  48,  50,\n",
       "        52,  54,  56,  58,  60,  62,  64,  66,  68,  70,  72,  74,  76,\n",
       "        78,  80,  82,  84,  86,  88,  90,  92,  94,  96,  98, 100])"
      ]
     },
     "execution_count": 50,
     "metadata": {},
     "output_type": "execute_result"
    }
   ],
   "source": [
    "C"
   ]
  },
  {
   "cell_type": "code",
   "execution_count": 52,
   "id": "1677fd1f",
   "metadata": {},
   "outputs": [
    {
     "name": "stdout",
     "output_type": "stream",
     "text": [
      "[4 7 3 2 5 8 1 9 0 6]\n"
     ]
    }
   ],
   "source": [
    "D = np.random.permutation(np.arange(10))\n",
    "print(D)"
   ]
  },
  {
   "cell_type": "code",
   "execution_count": 55,
   "id": "d50cbeb5",
   "metadata": {},
   "outputs": [
    {
     "data": {
      "text/plain": [
       "288"
      ]
     },
     "execution_count": 55,
     "metadata": {},
     "output_type": "execute_result"
    }
   ],
   "source": [
    "np.random.randint(20,300)"
   ]
  },
  {
   "cell_type": "code",
   "execution_count": 60,
   "id": "436b6283",
   "metadata": {},
   "outputs": [],
   "source": [
    "P = np.random.rand(10)"
   ]
  },
  {
   "cell_type": "code",
   "execution_count": 61,
   "id": "5e0bb8fe",
   "metadata": {},
   "outputs": [
    {
     "data": {
      "text/plain": [
       "array([0.54541478, 0.70002126, 0.78298461, 0.38004885, 0.36262315,\n",
       "       0.10409967, 0.47970003, 0.05829521, 0.05667408, 0.6775083 ])"
      ]
     },
     "execution_count": 61,
     "metadata": {},
     "output_type": "execute_result"
    }
   ],
   "source": [
    "P"
   ]
  },
  {
   "cell_type": "code",
   "execution_count": 63,
   "id": "8a6542eb",
   "metadata": {},
   "outputs": [
    {
     "name": "stderr",
     "output_type": "stream",
     "text": [
      "Matplotlib is building the font cache; this may take a moment.\n"
     ]
    }
   ],
   "source": [
    "import matplotlib.pyplot as plt"
   ]
  },
  {
   "cell_type": "code",
   "execution_count": 67,
   "id": "e300b57c",
   "metadata": {},
   "outputs": [
    {
     "data": {
      "text/plain": [
       "(array([2., 0., 0., 0., 0., 0., 1., 0., 0., 0., 0., 0., 0., 0., 0., 0., 0.,\n",
       "        0., 0., 0., 0., 0., 0., 0., 0., 0., 0., 0., 0., 0., 0., 0., 0., 0.,\n",
       "        0., 0., 0., 0., 0., 0., 0., 0., 1., 0., 1., 0., 0., 0., 0., 0., 0.,\n",
       "        0., 0., 0., 0., 0., 0., 0., 1., 0., 0., 0., 0., 0., 0., 0., 0., 1.,\n",
       "        0., 0., 0., 0., 0., 0., 0., 0., 0., 0., 0., 0., 0., 0., 0., 0., 0.,\n",
       "        1., 0., 0., 1., 0., 0., 0., 0., 0., 0., 0., 0., 0., 0., 1.]),\n",
       " array([0.05667408, 0.06393719, 0.07120029, 0.0784634 , 0.08572651,\n",
       "        0.09298961, 0.10025272, 0.10751582, 0.11477893, 0.12204203,\n",
       "        0.12930514, 0.13656824, 0.14383135, 0.15109445, 0.15835756,\n",
       "        0.16562066, 0.17288377, 0.18014687, 0.18740998, 0.19467308,\n",
       "        0.20193619, 0.20919929, 0.2164624 , 0.2237255 , 0.23098861,\n",
       "        0.23825172, 0.24551482, 0.25277793, 0.26004103, 0.26730414,\n",
       "        0.27456724, 0.28183035, 0.28909345, 0.29635656, 0.30361966,\n",
       "        0.31088277, 0.31814587, 0.32540898, 0.33267208, 0.33993519,\n",
       "        0.34719829, 0.3544614 , 0.3617245 , 0.36898761, 0.37625072,\n",
       "        0.38351382, 0.39077693, 0.39804003, 0.40530314, 0.41256624,\n",
       "        0.41982935, 0.42709245, 0.43435556, 0.44161866, 0.44888177,\n",
       "        0.45614487, 0.46340798, 0.47067108, 0.47793419, 0.48519729,\n",
       "        0.4924604 , 0.4997235 , 0.50698661, 0.51424972, 0.52151282,\n",
       "        0.52877593, 0.53603903, 0.54330214, 0.55056524, 0.55782835,\n",
       "        0.56509145, 0.57235456, 0.57961766, 0.58688077, 0.59414387,\n",
       "        0.60140698, 0.60867008, 0.61593319, 0.62319629, 0.6304594 ,\n",
       "        0.6377225 , 0.64498561, 0.65224871, 0.65951182, 0.66677493,\n",
       "        0.67403803, 0.68130114, 0.68856424, 0.69582735, 0.70309045,\n",
       "        0.71035356, 0.71761666, 0.72487977, 0.73214287, 0.73940598,\n",
       "        0.74666908, 0.75393219, 0.76119529, 0.7684584 , 0.7757215 ,\n",
       "        0.78298461]),\n",
       " <BarContainer object of 100 artists>)"
      ]
     },
     "execution_count": 67,
     "metadata": {},
     "output_type": "execute_result"
    },
    {
     "data": {
      "image/png": "[encoded data removed]",
      "text/plain": [
       "<Figure size 432x288 with 1 Axes>"
      ]
     },
     "metadata": {
      "needs_background": "light"
     },
     "output_type": "display_data"
    }
   ],
   "source": [
    "plt.hist(P, bins=100)"
   ]
  },
  {
   "cell_type": "code",
   "execution_count": 68,
   "id": "6b240ad3",
   "metadata": {},
   "outputs": [
    {
     "data": {
      "text/plain": [
       "(array([ 1.,  0.,  1.,  0.,  0.,  0.,  0.,  0.,  0.,  0.,  0.,  0.,  0.,\n",
       "         0.,  1.,  0.,  0.,  1.,  0.,  2.,  0.,  1.,  2.,  0.,  1.,  1.,\n",
       "         1.,  1.,  0.,  0.,  2.,  1.,  0.,  6.,  3.,  2.,  0.,  1.,  3.,\n",
       "         2.,  1.,  1.,  2.,  1.,  3.,  3.,  3.,  5.,  5.,  3.,  1.,  6.,\n",
       "         7.,  6.,  8.,  7., 10.,  8., 13.,  5.,  3.,  7.,  9.,  3.,  6.,\n",
       "         6.,  9.,  8.,  8., 11.,  8.,  5., 11.,  6.,  9., 10., 12., 10.,\n",
       "        13., 12., 10., 14., 12., 10., 11., 12., 13., 10.,  8., 13., 10.,\n",
       "        13., 14., 13., 11., 12., 10., 20., 11., 10., 13., 13.,  9., 14.,\n",
       "        14., 18., 14., 13., 14., 14.,  7., 11., 13., 11., 10., 13.,  9.,\n",
       "        10., 10., 12., 14., 11.,  7., 14., 12.,  9.,  8.,  6.,  6.,  9.,\n",
       "         3.,  8.,  6.,  9.,  9.,  3.,  8.,  2.,  5.,  4.,  4.,  1.,  6.,\n",
       "         0.,  5.,  4.,  4.,  3.,  4.,  2.,  2.,  1.,  2.,  2.,  2.,  2.,\n",
       "         1.,  0.,  0.,  1.,  2.,  0.,  1.,  3.,  2.,  1.,  1.,  1.,  2.,\n",
       "         1.,  1.,  1.,  2.,  0.,  0.,  0.,  2.,  2.,  0.,  0.,  0.,  0.,\n",
       "         0.,  0.,  1.,  0.,  0.,  0.,  0.,  1.,  0.,  0.,  0.,  0.,  0.,\n",
       "         0.,  0.,  0.,  0.,  1.]),\n",
       " array([-3.10829831e+00, -3.07557859e+00, -3.04285888e+00, -3.01013916e+00,\n",
       "        -2.97741945e+00, -2.94469973e+00, -2.91198002e+00, -2.87926030e+00,\n",
       "        -2.84654059e+00, -2.81382087e+00, -2.78110115e+00, -2.74838144e+00,\n",
       "        -2.71566172e+00, -2.68294201e+00, -2.65022229e+00, -2.61750258e+00,\n",
       "        -2.58478286e+00, -2.55206315e+00, -2.51934343e+00, -2.48662372e+00,\n",
       "        -2.45390400e+00, -2.42118428e+00, -2.38846457e+00, -2.35574485e+00,\n",
       "        -2.32302514e+00, -2.29030542e+00, -2.25758571e+00, -2.22486599e+00,\n",
       "        -2.19214628e+00, -2.15942656e+00, -2.12670685e+00, -2.09398713e+00,\n",
       "        -2.06126741e+00, -2.02854770e+00, -1.99582798e+00, -1.96310827e+00,\n",
       "        -1.93038855e+00, -1.89766884e+00, -1.86494912e+00, -1.83222941e+00,\n",
       "        -1.79950969e+00, -1.76678998e+00, -1.73407026e+00, -1.70135054e+00,\n",
       "        -1.66863083e+00, -1.63591111e+00, -1.60319140e+00, -1.57047168e+00,\n",
       "        -1.53775197e+00, -1.50503225e+00, -1.47231254e+00, -1.43959282e+00,\n",
       "        -1.40687311e+00, -1.37415339e+00, -1.34143367e+00, -1.30871396e+00,\n",
       "        -1.27599424e+00, -1.24327453e+00, -1.21055481e+00, -1.17783510e+00,\n",
       "        -1.14511538e+00, -1.11239567e+00, -1.07967595e+00, -1.04695623e+00,\n",
       "        -1.01423652e+00, -9.81516804e-01, -9.48797088e-01, -9.16077373e-01,\n",
       "        -8.83357657e-01, -8.50637942e-01, -8.17918227e-01, -7.85198511e-01,\n",
       "        -7.52478796e-01, -7.19759080e-01, -6.87039365e-01, -6.54319649e-01,\n",
       "        -6.21599934e-01, -5.88880218e-01, -5.56160503e-01, -5.23440787e-01,\n",
       "        -4.90721072e-01, -4.58001356e-01, -4.25281641e-01, -3.92561925e-01,\n",
       "        -3.59842210e-01, -3.27122494e-01, -2.94402779e-01, -2.61683063e-01,\n",
       "        -2.28963348e-01, -1.96243633e-01, -1.63523917e-01, -1.30804202e-01,\n",
       "        -9.80844861e-02, -6.53647706e-02, -3.26450552e-02,  7.46602981e-05,\n",
       "         3.27943758e-02,  6.55140912e-02,  9.82338067e-02,  1.30953522e-01,\n",
       "         1.63673238e-01,  1.96392953e-01,  2.29112669e-01,  2.61832384e-01,\n",
       "         2.94552100e-01,  3.27271815e-01,  3.59991531e-01,  3.92711246e-01,\n",
       "         4.25430961e-01,  4.58150677e-01,  4.90870392e-01,  5.23590108e-01,\n",
       "         5.56309823e-01,  5.89029539e-01,  6.21749254e-01,  6.54468970e-01,\n",
       "         6.87188685e-01,  7.19908401e-01,  7.52628116e-01,  7.85347832e-01,\n",
       "         8.18067547e-01,  8.50787263e-01,  8.83506978e-01,  9.16226694e-01,\n",
       "         9.48946409e-01,  9.81666125e-01,  1.01438584e+00,  1.04710556e+00,\n",
       "         1.07982527e+00,  1.11254499e+00,  1.14526470e+00,  1.17798442e+00,\n",
       "         1.21070413e+00,  1.24342385e+00,  1.27614356e+00,  1.30886328e+00,\n",
       "         1.34158299e+00,  1.37430271e+00,  1.40702243e+00,  1.43974214e+00,\n",
       "         1.47246186e+00,  1.50518157e+00,  1.53790129e+00,  1.57062100e+00,\n",
       "         1.60334072e+00,  1.63606043e+00,  1.66878015e+00,  1.70149986e+00,\n",
       "         1.73421958e+00,  1.76693930e+00,  1.79965901e+00,  1.83237873e+00,\n",
       "         1.86509844e+00,  1.89781816e+00,  1.93053787e+00,  1.96325759e+00,\n",
       "         1.99597730e+00,  2.02869702e+00,  2.06141674e+00,  2.09413645e+00,\n",
       "         2.12685617e+00,  2.15957588e+00,  2.19229560e+00,  2.22501531e+00,\n",
       "         2.25773503e+00,  2.29045474e+00,  2.32317446e+00,  2.35589417e+00,\n",
       "         2.38861389e+00,  2.42133361e+00,  2.45405332e+00,  2.48677304e+00,\n",
       "         2.51949275e+00,  2.55221247e+00,  2.58493218e+00,  2.61765190e+00,\n",
       "         2.65037161e+00,  2.68309133e+00,  2.71581104e+00,  2.74853076e+00,\n",
       "         2.78125048e+00,  2.81397019e+00,  2.84668991e+00,  2.87940962e+00,\n",
       "         2.91212934e+00,  2.94484905e+00,  2.97756877e+00,  3.01028848e+00,\n",
       "         3.04300820e+00,  3.07572791e+00,  3.10844763e+00,  3.14116735e+00,\n",
       "         3.17388706e+00,  3.20660678e+00,  3.23932649e+00,  3.27204621e+00,\n",
       "         3.30476592e+00,  3.33748564e+00,  3.37020535e+00,  3.40292507e+00,\n",
       "         3.43564479e+00]),\n",
       " <BarContainer object of 200 artists>)"
      ]
     },
     "execution_count": 68,
     "metadata": {},
     "output_type": "execute_result"
    },
    {
     "data": {
      "image/png": "[encoded data removed]",
      "text/plain": [
       "<Figure size 432x288 with 1 Axes>"
      ]
     },
     "metadata": {
      "needs_background": "light"
     },
     "output_type": "display_data"
    }
   ],
   "source": [
    "J = np.random.randn(1000)\n",
    "plt.hist(J, bins=200)"
   ]
  },
  {
   "cell_type": "code",
   "execution_count": 70,
   "id": "076934e2",
   "metadata": {},
   "outputs": [
    {
     "data": {
      "text/plain": [
       "(4, 25)"
      ]
     },
     "execution_count": 70,
     "metadata": {},
     "output_type": "execute_result"
    }
   ],
   "source": [
    "F = np.arange(100).reshape(4,25)\n",
    "F.shape"
   ]
  },
  {
   "cell_type": "code",
   "execution_count": 71,
   "id": "ec6b67a4",
   "metadata": {},
   "outputs": [
    {
     "data": {
      "text/plain": [
       "array([[ 0,  1,  2,  3,  4,  5,  6,  7,  8,  9, 10, 11, 12, 13, 14, 15,\n",
       "        16, 17, 18, 19, 20, 21, 22, 23, 24],\n",
       "       [25, 26, 27, 28, 29, 30, 31, 32, 33, 34, 35, 36, 37, 38, 39, 40,\n",
       "        41, 42, 43, 44, 45, 46, 47, 48, 49],\n",
       "       [50, 51, 52, 53, 54, 55, 56, 57, 58, 59, 60, 61, 62, 63, 64, 65,\n",
       "        66, 67, 68, 69, 70, 71, 72, 73, 74],\n",
       "       [75, 76, 77, 78, 79, 80, 81, 82, 83, 84, 85, 86, 87, 88, 89, 90,\n",
       "        91, 92, 93, 94, 95, 96, 97, 98, 99]])"
      ]
     },
     "execution_count": 71,
     "metadata": {},
     "output_type": "execute_result"
    }
   ],
   "source": [
    "F"
   ]
  },
  {
   "cell_type": "markdown",
   "id": "8cc11814",
   "metadata": {},
   "source": [
    "slicing in numpy"
   ]
  },
  {
   "cell_type": "code",
   "execution_count": 72,
   "id": "838e4aa7",
   "metadata": {},
   "outputs": [
    {
     "name": "stdout",
     "output_type": "stream",
     "text": [
      "[3 4 5 6 7 8 9]\n"
     ]
    }
   ],
   "source": [
    "A = np.arange(100)\n",
    "b = A[3:10]\n",
    "print(b)"
   ]
  },
  {
   "cell_type": "code",
   "execution_count": 73,
   "id": "983d7646",
   "metadata": {},
   "outputs": [],
   "source": [
    "b[0] = -1200"
   ]
  },
  {
   "cell_type": "code",
   "execution_count": 74,
   "id": "cd4fb62d",
   "metadata": {},
   "outputs": [
    {
     "data": {
      "text/plain": [
       "array([-1200,     4,     5,     6,     7,     8,     9])"
      ]
     },
     "execution_count": 74,
     "metadata": {},
     "output_type": "execute_result"
    }
   ],
   "source": [
    "b"
   ]
  },
  {
   "cell_type": "code",
   "execution_count": 75,
   "id": "03492ebe",
   "metadata": {},
   "outputs": [
    {
     "data": {
      "text/plain": [
       "array([    0,     1,     2, -1200,     4,     5,     6,     7,     8,\n",
       "           9,    10,    11,    12,    13,    14,    15,    16,    17,\n",
       "          18,    19,    20,    21,    22,    23,    24,    25,    26,\n",
       "          27,    28,    29,    30,    31,    32,    33,    34,    35,\n",
       "          36,    37,    38,    39,    40,    41,    42,    43,    44,\n",
       "          45,    46,    47,    48,    49,    50,    51,    52,    53,\n",
       "          54,    55,    56,    57,    58,    59,    60,    61,    62,\n",
       "          63,    64,    65,    66,    67,    68,    69,    70,    71,\n",
       "          72,    73,    74,    75,    76,    77,    78,    79,    80,\n",
       "          81,    82,    83,    84,    85,    86,    87,    88,    89,\n",
       "          90,    91,    92,    93,    94,    95,    96,    97,    98,\n",
       "          99])"
      ]
     },
     "execution_count": 75,
     "metadata": {},
     "output_type": "execute_result"
    }
   ],
   "source": [
    "A"
   ]
  },
  {
   "cell_type": "code",
   "execution_count": 76,
   "id": "2563a8fa",
   "metadata": {},
   "outputs": [],
   "source": [
    "h = A[3:28].copy()"
   ]
  },
  {
   "cell_type": "code",
   "execution_count": 77,
   "id": "0d956458",
   "metadata": {},
   "outputs": [
    {
     "data": {
      "text/plain": [
       "array([ 0,  5, 10, 15, 20, 25, 30, 35, 40, 45, 50, 55, 60, 65, 70, 75, 80,\n",
       "       85, 90, 95])"
      ]
     },
     "execution_count": 77,
     "metadata": {},
     "output_type": "execute_result"
    }
   ],
   "source": [
    "A[: : 5]"
   ]
  },
  {
   "cell_type": "code",
   "execution_count": 78,
   "id": "fbb829c0",
   "metadata": {},
   "outputs": [
    {
     "data": {
      "text/plain": [
       "1"
      ]
     },
     "execution_count": 78,
     "metadata": {},
     "output_type": "execute_result"
    }
   ],
   "source": [
    "A.ndim"
   ]
  },
  {
   "cell_type": "code",
   "execution_count": 79,
   "id": "7d82c9e0",
   "metadata": {},
   "outputs": [
    {
     "data": {
      "text/plain": [
       "array([99, 94, 89, 84, 79, 74, 69, 64, 59, 54, 49, 44, 39, 34, 29, 24, 19,\n",
       "       14,  9,  4])"
      ]
     },
     "execution_count": 79,
     "metadata": {},
     "output_type": "execute_result"
    }
   ],
   "source": [
    "A[::-5]"
   ]
  },
  {
   "cell_type": "code",
   "execution_count": 80,
   "id": "693246f3",
   "metadata": {},
   "outputs": [
    {
     "data": {
      "text/plain": [
       "array([   99,    98,    97,    96,    95,    94,    93,    92,    91,\n",
       "          90,    89,    88,    87,    86,    85,    84,    83,    82,\n",
       "          81,    80,    79,    78,    77,    76,    75,    74,    73,\n",
       "          72,    71,    70,    69,    68,    67,    66,    65,    64,\n",
       "          63,    62,    61,    60,    59,    58,    57,    56,    55,\n",
       "          54,    53,    52,    51,    50,    49,    48,    47,    46,\n",
       "          45,    44,    43,    42,    41,    40,    39,    38,    37,\n",
       "          36,    35,    34,    33,    32,    31,    30,    29,    28,\n",
       "          27,    26,    25,    24,    23,    22,    21,    20,    19,\n",
       "          18,    17,    16,    15,    14,    13,    12,    11,    10,\n",
       "           9,     8,     7,     6,     5,     4, -1200,     2,     1,\n",
       "           0])"
      ]
     },
     "execution_count": 80,
     "metadata": {},
     "output_type": "execute_result"
    }
   ],
   "source": [
    "A[::-1]"
   ]
  },
  {
   "cell_type": "markdown",
   "id": "323b7f5b",
   "metadata": {},
   "source": [
    "speed"
   ]
  },
  {
   "cell_type": "code",
   "execution_count": 81,
   "id": "c545df64",
   "metadata": {},
   "outputs": [
    {
     "name": "stdout",
     "output_type": "stream",
     "text": [
      "96.8 ms ± 1.42 ms per loop (mean ± std. dev. of 7 runs, 10 loops each)\n",
      "1.03 ms ± 3.53 µs per loop (mean ± std. dev. of 7 runs, 1,000 loops each)\n"
     ]
    }
   ],
   "source": [
    "B = np.random.rand(1000000)\n",
    "%timeit sum(B)\n",
    "%timeit np.sum(B) #B.sum()"
   ]
  },
  {
   "cell_type": "code",
   "execution_count": 82,
   "id": "ee1c25d9",
   "metadata": {},
   "outputs": [],
   "source": [
    "def mySum(G):\n",
    "    s = 0\n",
    "    for x in G:\n",
    "        s+=x\n",
    "    return s"
   ]
  },
  {
   "cell_type": "code",
   "execution_count": 83,
   "id": "05ad0586",
   "metadata": {},
   "outputs": [
    {
     "name": "stdout",
     "output_type": "stream",
     "text": [
      "204 ms ± 22.4 ms per loop (mean ± std. dev. of 7 runs, 1 loop each)\n"
     ]
    }
   ],
   "source": [
    "%timeit mySum(B)"
   ]
  },
  {
   "cell_type": "markdown",
   "id": "6d10fb95",
   "metadata": {},
   "source": [
    "# PANDAS"
   ]
  },
  {
   "cell_type": "code",
   "execution_count": 84,
   "id": "48183b7e",
   "metadata": {},
   "outputs": [],
   "source": [
    "import pandas as pd"
   ]
  },
  {
   "cell_type": "code",
   "execution_count": 90,
   "id": "3719e156",
   "metadata": {},
   "outputs": [
    {
     "name": "stdout",
     "output_type": "stream",
     "text": [
      "1.4.1\n"
     ]
    }
   ],
   "source": [
    "print(pd.__version__)"
   ]
  },
  {
   "cell_type": "markdown",
   "id": "a7e04d4d",
   "metadata": {},
   "source": [
    "SERIES"
   ]
  },
  {
   "cell_type": "code",
   "execution_count": 99,
   "id": "757d0201",
   "metadata": {},
   "outputs": [],
   "source": [
    "A = pd.Series([2,3,4,5], index=['a','b','c','d'])"
   ]
  },
  {
   "cell_type": "code",
   "execution_count": 100,
   "id": "86f59f1f",
   "metadata": {},
   "outputs": [
    {
     "data": {
      "text/plain": [
       "array([2, 3, 4, 5], dtype=int64)"
      ]
     },
     "execution_count": 100,
     "metadata": {},
     "output_type": "execute_result"
    }
   ],
   "source": [
    "A.values"
   ]
  },
  {
   "cell_type": "code",
   "execution_count": 101,
   "id": "d587fa0e",
   "metadata": {},
   "outputs": [
    {
     "data": {
      "text/plain": [
       "numpy.ndarray"
      ]
     },
     "execution_count": 101,
     "metadata": {},
     "output_type": "execute_result"
    }
   ],
   "source": [
    "type(A.values)"
   ]
  },
  {
   "cell_type": "code",
   "execution_count": 102,
   "id": "e1fbfdf5",
   "metadata": {},
   "outputs": [
    {
     "data": {
      "text/plain": [
       "pandas.core.series.Series"
      ]
     },
     "execution_count": 102,
     "metadata": {},
     "output_type": "execute_result"
    }
   ],
   "source": [
    "type(A)"
   ]
  },
  {
   "cell_type": "code",
   "execution_count": 103,
   "id": "0ae4f49c",
   "metadata": {},
   "outputs": [
    {
     "data": {
      "text/plain": [
       "Index(['a', 'b', 'c', 'd'], dtype='object')"
      ]
     },
     "execution_count": 103,
     "metadata": {},
     "output_type": "execute_result"
    }
   ],
   "source": [
    "A.index"
   ]
  },
  {
   "cell_type": "code",
   "execution_count": 104,
   "id": "f789e096",
   "metadata": {},
   "outputs": [
    {
     "data": {
      "text/plain": [
       "2"
      ]
     },
     "execution_count": 104,
     "metadata": {},
     "output_type": "execute_result"
    }
   ],
   "source": [
    "A['a']"
   ]
  },
  {
   "cell_type": "code",
   "execution_count": 105,
   "id": "18d083f5",
   "metadata": {},
   "outputs": [
    {
     "data": {
      "text/plain": [
       "a    2\n",
       "b    3\n",
       "c    4\n",
       "dtype: int64"
      ]
     },
     "execution_count": 105,
     "metadata": {},
     "output_type": "execute_result"
    }
   ],
   "source": [
    "A['a': 'c']"
   ]
  },
  {
   "cell_type": "code",
   "execution_count": 111,
   "id": "27d7ad86",
   "metadata": {},
   "outputs": [
    {
     "name": "stdout",
     "output_type": "stream",
     "text": [
      "A     4.0\n",
      "A-    3.5\n",
      "B     3.0\n",
      "B-    2.5\n",
      "C     2.0\n",
      "dtype: float64\n",
      "Index(['A', 'A-', 'B', 'B-', 'C'], dtype='object')\n",
      "<class 'pandas.core.series.Series'>\n",
      "<class 'numpy.ndarray'>\n",
      "<class 'pandas.core.indexes.base.Index'>\n",
      "<class 'dict'>\n"
     ]
    }
   ],
   "source": [
    "grades_dict = {'A': 4, 'A-': 3.5,'B': 3, 'B-': 2.5, 'C':2 }\n",
    "grades = pd.Series(grades_dict)\n",
    "print(grades)\n",
    "\n",
    "print(grades.index)\n",
    "print(type(grades))\n",
    "print(type(grades.values))\n",
    "print(type(grades.index))\n",
    "print(type(grades_dict))"
   ]
  },
  {
   "cell_type": "code",
   "execution_count": 110,
   "id": "919e5f81",
   "metadata": {},
   "outputs": [
    {
     "name": "stdout",
     "output_type": "stream",
     "text": [
      "[4.  3.5 3.  2.5 2. ]\n",
      "[2 3 4 5]\n"
     ]
    }
   ],
   "source": [
    "print(grades.values)\n",
    "print(A.values)"
   ]
  },
  {
   "cell_type": "code",
   "execution_count": 113,
   "id": "f3a206fe",
   "metadata": {},
   "outputs": [],
   "source": [
    "marks_dict = {'A': 85, 'A-': 80, 'B': 75, 'B-': 70, 'C': 65}\n",
    "marks = pd.Series(marks_dict)"
   ]
  },
  {
   "cell_type": "code",
   "execution_count": 116,
   "id": "3fa88e1c",
   "metadata": {},
   "outputs": [
    {
     "data": {
      "text/plain": [
       "array([85, 80, 75, 70, 65], dtype=int64)"
      ]
     },
     "execution_count": 116,
     "metadata": {},
     "output_type": "execute_result"
    }
   ],
   "source": [
    "marks.values"
   ]
  },
  {
   "cell_type": "code",
   "execution_count": 119,
   "id": "7a09736d",
   "metadata": {},
   "outputs": [
    {
     "data": {
      "text/plain": [
       "A     85\n",
       "A-    80\n",
       "B     75\n",
       "B-    70\n",
       "C     65\n",
       "dtype: int64"
      ]
     },
     "execution_count": 119,
     "metadata": {},
     "output_type": "execute_result"
    }
   ],
   "source": [
    "marks"
   ]
  },
  {
   "cell_type": "code",
   "execution_count": 121,
   "id": "b9e53c1d",
   "metadata": {},
   "outputs": [
    {
     "data": {
      "text/plain": [
       "80"
      ]
     },
     "execution_count": 121,
     "metadata": {},
     "output_type": "execute_result"
    }
   ],
   "source": [
    "marks['A-']"
   ]
  },
  {
   "cell_type": "markdown",
   "id": "b3962f4d",
   "metadata": {},
   "source": [
    "DATA FRAME"
   ]
  },
  {
   "cell_type": "code",
   "execution_count": 122,
   "id": "ce307426",
   "metadata": {},
   "outputs": [
    {
     "data": {
      "text/plain": [
       "A     85\n",
       "A-    80\n",
       "B     75\n",
       "B-    70\n",
       "C     65\n",
       "dtype: int64"
      ]
     },
     "execution_count": 122,
     "metadata": {},
     "output_type": "execute_result"
    }
   ],
   "source": [
    "marks"
   ]
  },
  {
   "cell_type": "code",
   "execution_count": 123,
   "id": "a11fcfda",
   "metadata": {},
   "outputs": [
    {
     "data": {
      "text/plain": [
       "A     4.0\n",
       "A-    3.5\n",
       "B     3.0\n",
       "B-    2.5\n",
       "C     2.0\n",
       "dtype: float64"
      ]
     },
     "execution_count": 123,
     "metadata": {},
     "output_type": "execute_result"
    }
   ],
   "source": [
    "grades"
   ]
  },
  {
   "cell_type": "code",
   "execution_count": 124,
   "id": "e11b85f6",
   "metadata": {},
   "outputs": [],
   "source": [
    "D = pd.DataFrame({'Marks': marks, 'Grades': grades})"
   ]
  },
  {
   "cell_type": "code",
   "execution_count": 126,
   "id": "5bcde0f2",
   "metadata": {},
   "outputs": [
    {
     "name": "stdout",
     "output_type": "stream",
     "text": [
      "    Marks  Grades\n",
      "A      85     4.0\n",
      "A-     80     3.5\n",
      "B      75     3.0\n",
      "B-     70     2.5\n",
      "C      65     2.0\n"
     ]
    }
   ],
   "source": [
    "print(D)"
   ]
  },
  {
   "cell_type": "code",
   "execution_count": 127,
   "id": "0a6fad99",
   "metadata": {},
   "outputs": [
    {
     "data": {
      "text/html": [
       "<div>\n",
       "<style scoped>\n",
       "    .dataframe tbody tr th:only-of-type {\n",
       "        vertical-align: middle;\n",
       "    }\n",
       "\n",
       "    .dataframe tbody tr th {\n",
       "        vertical-align: top;\n",
       "    }\n",
       "\n",
       "    .dataframe thead th {\n",
       "        text-align: right;\n",
       "    }\n",
       "</style>\n",
       "<table border=\"1\" class=\"dataframe\">\n",
       "  <thead>\n",
       "    <tr style=\"text-align: right;\">\n",
       "      <th></th>\n",
       "      <th>Marks</th>\n",
       "      <th>Grades</th>\n",
       "    </tr>\n",
       "  </thead>\n",
       "  <tbody>\n",
       "    <tr>\n",
       "      <th>A</th>\n",
       "      <td>85</td>\n",
       "      <td>4.0</td>\n",
       "    </tr>\n",
       "    <tr>\n",
       "      <th>A-</th>\n",
       "      <td>80</td>\n",
       "      <td>3.5</td>\n",
       "    </tr>\n",
       "    <tr>\n",
       "      <th>B</th>\n",
       "      <td>75</td>\n",
       "      <td>3.0</td>\n",
       "    </tr>\n",
       "    <tr>\n",
       "      <th>B-</th>\n",
       "      <td>70</td>\n",
       "      <td>2.5</td>\n",
       "    </tr>\n",
       "    <tr>\n",
       "      <th>C</th>\n",
       "      <td>65</td>\n",
       "      <td>2.0</td>\n",
       "    </tr>\n",
       "  </tbody>\n",
       "</table>\n",
       "</div>"
      ],
      "text/plain": [
       "    Marks  Grades\n",
       "A      85     4.0\n",
       "A-     80     3.5\n",
       "B      75     3.0\n",
       "B-     70     2.5\n",
       "C      65     2.0"
      ]
     },
     "execution_count": 127,
     "metadata": {},
     "output_type": "execute_result"
    }
   ],
   "source": [
    "D"
   ]
  },
  {
   "cell_type": "code",
   "execution_count": 129,
   "id": "3a1c4b78",
   "metadata": {},
   "outputs": [
    {
     "data": {
      "text/html": [
       "<div>\n",
       "<style scoped>\n",
       "    .dataframe tbody tr th:only-of-type {\n",
       "        vertical-align: middle;\n",
       "    }\n",
       "\n",
       "    .dataframe tbody tr th {\n",
       "        vertical-align: top;\n",
       "    }\n",
       "\n",
       "    .dataframe thead th {\n",
       "        text-align: right;\n",
       "    }\n",
       "</style>\n",
       "<table border=\"1\" class=\"dataframe\">\n",
       "  <thead>\n",
       "    <tr style=\"text-align: right;\">\n",
       "      <th></th>\n",
       "      <th>A</th>\n",
       "      <th>A-</th>\n",
       "      <th>B</th>\n",
       "      <th>B-</th>\n",
       "      <th>C</th>\n",
       "    </tr>\n",
       "  </thead>\n",
       "  <tbody>\n",
       "    <tr>\n",
       "      <th>Marks</th>\n",
       "      <td>85.0</td>\n",
       "      <td>80.0</td>\n",
       "      <td>75.0</td>\n",
       "      <td>70.0</td>\n",
       "      <td>65.0</td>\n",
       "    </tr>\n",
       "    <tr>\n",
       "      <th>Grades</th>\n",
       "      <td>4.0</td>\n",
       "      <td>3.5</td>\n",
       "      <td>3.0</td>\n",
       "      <td>2.5</td>\n",
       "      <td>2.0</td>\n",
       "    </tr>\n",
       "  </tbody>\n",
       "</table>\n",
       "</div>"
      ],
      "text/plain": [
       "           A    A-     B    B-     C\n",
       "Marks   85.0  80.0  75.0  70.0  65.0\n",
       "Grades   4.0   3.5   3.0   2.5   2.0"
      ]
     },
     "execution_count": 129,
     "metadata": {},
     "output_type": "execute_result"
    }
   ],
   "source": [
    "D.T"
   ]
  },
  {
   "cell_type": "code",
   "execution_count": 130,
   "id": "5564f647",
   "metadata": {},
   "outputs": [
    {
     "data": {
      "text/html": [
       "<div>\n",
       "<style scoped>\n",
       "    .dataframe tbody tr th:only-of-type {\n",
       "        vertical-align: middle;\n",
       "    }\n",
       "\n",
       "    .dataframe tbody tr th {\n",
       "        vertical-align: top;\n",
       "    }\n",
       "\n",
       "    .dataframe thead th {\n",
       "        text-align: right;\n",
       "    }\n",
       "</style>\n",
       "<table border=\"1\" class=\"dataframe\">\n",
       "  <thead>\n",
       "    <tr style=\"text-align: right;\">\n",
       "      <th></th>\n",
       "      <th>Marks</th>\n",
       "      <th>Grades</th>\n",
       "    </tr>\n",
       "  </thead>\n",
       "  <tbody>\n",
       "    <tr>\n",
       "      <th>A</th>\n",
       "      <td>85</td>\n",
       "      <td>4.0</td>\n",
       "    </tr>\n",
       "    <tr>\n",
       "      <th>A-</th>\n",
       "      <td>80</td>\n",
       "      <td>3.5</td>\n",
       "    </tr>\n",
       "    <tr>\n",
       "      <th>B</th>\n",
       "      <td>75</td>\n",
       "      <td>3.0</td>\n",
       "    </tr>\n",
       "    <tr>\n",
       "      <th>B-</th>\n",
       "      <td>70</td>\n",
       "      <td>2.5</td>\n",
       "    </tr>\n",
       "    <tr>\n",
       "      <th>C</th>\n",
       "      <td>65</td>\n",
       "      <td>2.0</td>\n",
       "    </tr>\n",
       "  </tbody>\n",
       "</table>\n",
       "</div>"
      ],
      "text/plain": [
       "    Marks  Grades\n",
       "A      85     4.0\n",
       "A-     80     3.5\n",
       "B      75     3.0\n",
       "B-     70     2.5\n",
       "C      65     2.0"
      ]
     },
     "execution_count": 130,
     "metadata": {},
     "output_type": "execute_result"
    }
   ],
   "source": [
    "D"
   ]
  },
  {
   "cell_type": "code",
   "execution_count": 131,
   "id": "b0c97c98",
   "metadata": {},
   "outputs": [
    {
     "data": {
      "text/plain": [
       "array([[85. ,  4. ],\n",
       "       [80. ,  3.5],\n",
       "       [75. ,  3. ],\n",
       "       [70. ,  2.5],\n",
       "       [65. ,  2. ]])"
      ]
     },
     "execution_count": 131,
     "metadata": {},
     "output_type": "execute_result"
    }
   ],
   "source": [
    "D.values"
   ]
  },
  {
   "cell_type": "code",
   "execution_count": 136,
   "id": "13a7622c",
   "metadata": {},
   "outputs": [
    {
     "data": {
      "text/plain": [
       "65.0"
      ]
     },
     "execution_count": 136,
     "metadata": {},
     "output_type": "execute_result"
    }
   ],
   "source": [
    "D.values[4,0]"
   ]
  },
  {
   "cell_type": "code",
   "execution_count": 137,
   "id": "6bf0a07b",
   "metadata": {},
   "outputs": [
    {
     "data": {
      "text/plain": [
       "Index(['A', 'A-', 'B', 'B-', 'C'], dtype='object')"
      ]
     },
     "execution_count": 137,
     "metadata": {},
     "output_type": "execute_result"
    }
   ],
   "source": [
    "D.index"
   ]
  },
  {
   "cell_type": "code",
   "execution_count": 138,
   "id": "f5b37c8e",
   "metadata": {},
   "outputs": [
    {
     "data": {
      "text/plain": [
       "Index(['Marks', 'Grades'], dtype='object')"
      ]
     },
     "execution_count": 138,
     "metadata": {},
     "output_type": "execute_result"
    }
   ],
   "source": [
    "D.columns"
   ]
  },
  {
   "cell_type": "code",
   "execution_count": 139,
   "id": "9a7d5ecb",
   "metadata": {},
   "outputs": [
    {
     "data": {
      "text/html": [
       "<div>\n",
       "<style scoped>\n",
       "    .dataframe tbody tr th:only-of-type {\n",
       "        vertical-align: middle;\n",
       "    }\n",
       "\n",
       "    .dataframe tbody tr th {\n",
       "        vertical-align: top;\n",
       "    }\n",
       "\n",
       "    .dataframe thead th {\n",
       "        text-align: right;\n",
       "    }\n",
       "</style>\n",
       "<table border=\"1\" class=\"dataframe\">\n",
       "  <thead>\n",
       "    <tr style=\"text-align: right;\">\n",
       "      <th></th>\n",
       "      <th>Marks</th>\n",
       "      <th>Grades</th>\n",
       "    </tr>\n",
       "  </thead>\n",
       "  <tbody>\n",
       "    <tr>\n",
       "      <th>A</th>\n",
       "      <td>85</td>\n",
       "      <td>4.0</td>\n",
       "    </tr>\n",
       "    <tr>\n",
       "      <th>A-</th>\n",
       "      <td>80</td>\n",
       "      <td>3.5</td>\n",
       "    </tr>\n",
       "    <tr>\n",
       "      <th>B</th>\n",
       "      <td>75</td>\n",
       "      <td>3.0</td>\n",
       "    </tr>\n",
       "    <tr>\n",
       "      <th>B-</th>\n",
       "      <td>70</td>\n",
       "      <td>2.5</td>\n",
       "    </tr>\n",
       "    <tr>\n",
       "      <th>C</th>\n",
       "      <td>65</td>\n",
       "      <td>2.0</td>\n",
       "    </tr>\n",
       "  </tbody>\n",
       "</table>\n",
       "</div>"
      ],
      "text/plain": [
       "    Marks  Grades\n",
       "A      85     4.0\n",
       "A-     80     3.5\n",
       "B      75     3.0\n",
       "B-     70     2.5\n",
       "C      65     2.0"
      ]
     },
     "execution_count": 139,
     "metadata": {},
     "output_type": "execute_result"
    }
   ],
   "source": [
    "D"
   ]
  },
  {
   "cell_type": "code",
   "execution_count": 145,
   "id": "a5711af5",
   "metadata": {},
   "outputs": [],
   "source": [
    "D['ScaledMarks'] = 100* (D['Marks']/ 90)"
   ]
  },
  {
   "cell_type": "code",
   "execution_count": 146,
   "id": "2754e9d4",
   "metadata": {},
   "outputs": [
    {
     "data": {
      "text/html": [
       "<div>\n",
       "<style scoped>\n",
       "    .dataframe tbody tr th:only-of-type {\n",
       "        vertical-align: middle;\n",
       "    }\n",
       "\n",
       "    .dataframe tbody tr th {\n",
       "        vertical-align: top;\n",
       "    }\n",
       "\n",
       "    .dataframe thead th {\n",
       "        text-align: right;\n",
       "    }\n",
       "</style>\n",
       "<table border=\"1\" class=\"dataframe\">\n",
       "  <thead>\n",
       "    <tr style=\"text-align: right;\">\n",
       "      <th></th>\n",
       "      <th>Marks</th>\n",
       "      <th>Grades</th>\n",
       "      <th>ScaledMarks</th>\n",
       "    </tr>\n",
       "  </thead>\n",
       "  <tbody>\n",
       "    <tr>\n",
       "      <th>A</th>\n",
       "      <td>85</td>\n",
       "      <td>4.0</td>\n",
       "      <td>94.444444</td>\n",
       "    </tr>\n",
       "    <tr>\n",
       "      <th>A-</th>\n",
       "      <td>80</td>\n",
       "      <td>3.5</td>\n",
       "      <td>88.888889</td>\n",
       "    </tr>\n",
       "    <tr>\n",
       "      <th>B</th>\n",
       "      <td>75</td>\n",
       "      <td>3.0</td>\n",
       "      <td>83.333333</td>\n",
       "    </tr>\n",
       "    <tr>\n",
       "      <th>B-</th>\n",
       "      <td>70</td>\n",
       "      <td>2.5</td>\n",
       "      <td>77.777778</td>\n",
       "    </tr>\n",
       "    <tr>\n",
       "      <th>C</th>\n",
       "      <td>65</td>\n",
       "      <td>2.0</td>\n",
       "      <td>72.222222</td>\n",
       "    </tr>\n",
       "  </tbody>\n",
       "</table>\n",
       "</div>"
      ],
      "text/plain": [
       "    Marks  Grades  ScaledMarks\n",
       "A      85     4.0    94.444444\n",
       "A-     80     3.5    88.888889\n",
       "B      75     3.0    83.333333\n",
       "B-     70     2.5    77.777778\n",
       "C      65     2.0    72.222222"
      ]
     },
     "execution_count": 146,
     "metadata": {},
     "output_type": "execute_result"
    }
   ],
   "source": [
    "D"
   ]
  },
  {
   "cell_type": "code",
   "execution_count": 147,
   "id": "82139b15",
   "metadata": {},
   "outputs": [],
   "source": [
    "G = D[D['Marks']>70]"
   ]
  },
  {
   "cell_type": "code",
   "execution_count": 148,
   "id": "6734f351",
   "metadata": {},
   "outputs": [
    {
     "data": {
      "text/html": [
       "<div>\n",
       "<style scoped>\n",
       "    .dataframe tbody tr th:only-of-type {\n",
       "        vertical-align: middle;\n",
       "    }\n",
       "\n",
       "    .dataframe tbody tr th {\n",
       "        vertical-align: top;\n",
       "    }\n",
       "\n",
       "    .dataframe thead th {\n",
       "        text-align: right;\n",
       "    }\n",
       "</style>\n",
       "<table border=\"1\" class=\"dataframe\">\n",
       "  <thead>\n",
       "    <tr style=\"text-align: right;\">\n",
       "      <th></th>\n",
       "      <th>Marks</th>\n",
       "      <th>Grades</th>\n",
       "      <th>ScaledMarks</th>\n",
       "    </tr>\n",
       "  </thead>\n",
       "  <tbody>\n",
       "    <tr>\n",
       "      <th>A</th>\n",
       "      <td>85</td>\n",
       "      <td>4.0</td>\n",
       "      <td>94.444444</td>\n",
       "    </tr>\n",
       "    <tr>\n",
       "      <th>A-</th>\n",
       "      <td>80</td>\n",
       "      <td>3.5</td>\n",
       "      <td>88.888889</td>\n",
       "    </tr>\n",
       "    <tr>\n",
       "      <th>B</th>\n",
       "      <td>75</td>\n",
       "      <td>3.0</td>\n",
       "      <td>83.333333</td>\n",
       "    </tr>\n",
       "  </tbody>\n",
       "</table>\n",
       "</div>"
      ],
      "text/plain": [
       "    Marks  Grades  ScaledMarks\n",
       "A      85     4.0    94.444444\n",
       "A-     80     3.5    88.888889\n",
       "B      75     3.0    83.333333"
      ]
     },
     "execution_count": 148,
     "metadata": {},
     "output_type": "execute_result"
    }
   ],
   "source": [
    "G"
   ]
  },
  {
   "cell_type": "code",
   "execution_count": 149,
   "id": "576e3a04",
   "metadata": {},
   "outputs": [],
   "source": [
    "del D['ScaledMarks']"
   ]
  },
  {
   "cell_type": "code",
   "execution_count": 150,
   "id": "03366e59",
   "metadata": {},
   "outputs": [
    {
     "data": {
      "text/html": [
       "<div>\n",
       "<style scoped>\n",
       "    .dataframe tbody tr th:only-of-type {\n",
       "        vertical-align: middle;\n",
       "    }\n",
       "\n",
       "    .dataframe tbody tr th {\n",
       "        vertical-align: top;\n",
       "    }\n",
       "\n",
       "    .dataframe thead th {\n",
       "        text-align: right;\n",
       "    }\n",
       "</style>\n",
       "<table border=\"1\" class=\"dataframe\">\n",
       "  <thead>\n",
       "    <tr style=\"text-align: right;\">\n",
       "      <th></th>\n",
       "      <th>Marks</th>\n",
       "      <th>Grades</th>\n",
       "    </tr>\n",
       "  </thead>\n",
       "  <tbody>\n",
       "    <tr>\n",
       "      <th>A</th>\n",
       "      <td>85</td>\n",
       "      <td>4.0</td>\n",
       "    </tr>\n",
       "    <tr>\n",
       "      <th>A-</th>\n",
       "      <td>80</td>\n",
       "      <td>3.5</td>\n",
       "    </tr>\n",
       "    <tr>\n",
       "      <th>B</th>\n",
       "      <td>75</td>\n",
       "      <td>3.0</td>\n",
       "    </tr>\n",
       "    <tr>\n",
       "      <th>B-</th>\n",
       "      <td>70</td>\n",
       "      <td>2.5</td>\n",
       "    </tr>\n",
       "    <tr>\n",
       "      <th>C</th>\n",
       "      <td>65</td>\n",
       "      <td>2.0</td>\n",
       "    </tr>\n",
       "  </tbody>\n",
       "</table>\n",
       "</div>"
      ],
      "text/plain": [
       "    Marks  Grades\n",
       "A      85     4.0\n",
       "A-     80     3.5\n",
       "B      75     3.0\n",
       "B-     70     2.5\n",
       "C      65     2.0"
      ]
     },
     "execution_count": 150,
     "metadata": {},
     "output_type": "execute_result"
    }
   ],
   "source": [
    "D"
   ]
  },
  {
   "cell_type": "code",
   "execution_count": 162,
   "id": "9da8f646",
   "metadata": {},
   "outputs": [],
   "source": [
    "A =pd.DataFrame([{'a': 1, 'b': 2}, {'b': -3, 'c':9}])"
   ]
  },
  {
   "cell_type": "code",
   "execution_count": 163,
   "id": "0dc078d3",
   "metadata": {},
   "outputs": [
    {
     "data": {
      "text/html": [
       "<div>\n",
       "<style scoped>\n",
       "    .dataframe tbody tr th:only-of-type {\n",
       "        vertical-align: middle;\n",
       "    }\n",
       "\n",
       "    .dataframe tbody tr th {\n",
       "        vertical-align: top;\n",
       "    }\n",
       "\n",
       "    .dataframe thead th {\n",
       "        text-align: right;\n",
       "    }\n",
       "</style>\n",
       "<table border=\"1\" class=\"dataframe\">\n",
       "  <thead>\n",
       "    <tr style=\"text-align: right;\">\n",
       "      <th></th>\n",
       "      <th>a</th>\n",
       "      <th>b</th>\n",
       "      <th>c</th>\n",
       "    </tr>\n",
       "  </thead>\n",
       "  <tbody>\n",
       "    <tr>\n",
       "      <th>0</th>\n",
       "      <td>1.0</td>\n",
       "      <td>2</td>\n",
       "      <td>NaN</td>\n",
       "    </tr>\n",
       "    <tr>\n",
       "      <th>1</th>\n",
       "      <td>NaN</td>\n",
       "      <td>-3</td>\n",
       "      <td>9.0</td>\n",
       "    </tr>\n",
       "  </tbody>\n",
       "</table>\n",
       "</div>"
      ],
      "text/plain": [
       "     a  b    c\n",
       "0  1.0  2  NaN\n",
       "1  NaN -3  9.0"
      ]
     },
     "execution_count": 163,
     "metadata": {},
     "output_type": "execute_result"
    }
   ],
   "source": [
    "A"
   ]
  },
  {
   "cell_type": "code",
   "execution_count": 166,
   "id": "ae7262cc",
   "metadata": {},
   "outputs": [],
   "source": [
    "B = A.fillna(0)"
   ]
  },
  {
   "cell_type": "code",
   "execution_count": 161,
   "id": "26ba47c0",
   "metadata": {},
   "outputs": [
    {
     "data": {
      "text/html": [
       "<div>\n",
       "<style scoped>\n",
       "    .dataframe tbody tr th:only-of-type {\n",
       "        vertical-align: middle;\n",
       "    }\n",
       "\n",
       "    .dataframe tbody tr th {\n",
       "        vertical-align: top;\n",
       "    }\n",
       "\n",
       "    .dataframe thead th {\n",
       "        text-align: right;\n",
       "    }\n",
       "</style>\n",
       "<table border=\"1\" class=\"dataframe\">\n",
       "  <thead>\n",
       "    <tr style=\"text-align: right;\">\n",
       "      <th></th>\n",
       "      <th>a</th>\n",
       "      <th>b</th>\n",
       "      <th>c</th>\n",
       "    </tr>\n",
       "  </thead>\n",
       "  <tbody>\n",
       "  </tbody>\n",
       "</table>\n",
       "</div>"
      ],
      "text/plain": [
       "Empty DataFrame\n",
       "Columns: [a, b, c]\n",
       "Index: []"
      ]
     },
     "execution_count": 161,
     "metadata": {},
     "output_type": "execute_result"
    }
   ],
   "source": [
    "#A.dropna()"
   ]
  },
  {
   "cell_type": "code",
   "execution_count": 165,
   "id": "d0b11aee",
   "metadata": {},
   "outputs": [
    {
     "data": {
      "text/html": [
       "<div>\n",
       "<style scoped>\n",
       "    .dataframe tbody tr th:only-of-type {\n",
       "        vertical-align: middle;\n",
       "    }\n",
       "\n",
       "    .dataframe tbody tr th {\n",
       "        vertical-align: top;\n",
       "    }\n",
       "\n",
       "    .dataframe thead th {\n",
       "        text-align: right;\n",
       "    }\n",
       "</style>\n",
       "<table border=\"1\" class=\"dataframe\">\n",
       "  <thead>\n",
       "    <tr style=\"text-align: right;\">\n",
       "      <th></th>\n",
       "      <th>a</th>\n",
       "      <th>b</th>\n",
       "      <th>c</th>\n",
       "    </tr>\n",
       "  </thead>\n",
       "  <tbody>\n",
       "    <tr>\n",
       "      <th>0</th>\n",
       "      <td>1.0</td>\n",
       "      <td>2</td>\n",
       "      <td>NaN</td>\n",
       "    </tr>\n",
       "    <tr>\n",
       "      <th>1</th>\n",
       "      <td>NaN</td>\n",
       "      <td>-3</td>\n",
       "      <td>9.0</td>\n",
       "    </tr>\n",
       "  </tbody>\n",
       "</table>\n",
       "</div>"
      ],
      "text/plain": [
       "     a  b    c\n",
       "0  1.0  2  NaN\n",
       "1  NaN -3  9.0"
      ]
     },
     "execution_count": 165,
     "metadata": {},
     "output_type": "execute_result"
    }
   ],
   "source": [
    "A"
   ]
  },
  {
   "cell_type": "code",
   "execution_count": 167,
   "id": "14270c1c",
   "metadata": {},
   "outputs": [
    {
     "data": {
      "text/html": [
       "<div>\n",
       "<style scoped>\n",
       "    .dataframe tbody tr th:only-of-type {\n",
       "        vertical-align: middle;\n",
       "    }\n",
       "\n",
       "    .dataframe tbody tr th {\n",
       "        vertical-align: top;\n",
       "    }\n",
       "\n",
       "    .dataframe thead th {\n",
       "        text-align: right;\n",
       "    }\n",
       "</style>\n",
       "<table border=\"1\" class=\"dataframe\">\n",
       "  <thead>\n",
       "    <tr style=\"text-align: right;\">\n",
       "      <th></th>\n",
       "      <th>a</th>\n",
       "      <th>b</th>\n",
       "      <th>c</th>\n",
       "    </tr>\n",
       "  </thead>\n",
       "  <tbody>\n",
       "    <tr>\n",
       "      <th>0</th>\n",
       "      <td>1.0</td>\n",
       "      <td>2</td>\n",
       "      <td>0.0</td>\n",
       "    </tr>\n",
       "    <tr>\n",
       "      <th>1</th>\n",
       "      <td>0.0</td>\n",
       "      <td>-3</td>\n",
       "      <td>9.0</td>\n",
       "    </tr>\n",
       "  </tbody>\n",
       "</table>\n",
       "</div>"
      ],
      "text/plain": [
       "     a  b    c\n",
       "0  1.0  2  0.0\n",
       "1  0.0 -3  9.0"
      ]
     },
     "execution_count": 167,
     "metadata": {},
     "output_type": "execute_result"
    }
   ],
   "source": [
    "B"
   ]
  },
  {
   "cell_type": "markdown",
   "id": "c1f81219",
   "metadata": {},
   "source": [
    "INDEXING(EXPLICIT AND IMPLICIT INDEXING)"
   ]
  },
  {
   "cell_type": "code",
   "execution_count": 171,
   "id": "78a7a5a7",
   "metadata": {},
   "outputs": [],
   "source": [
    "A = pd.Series(['a','b','c','d'], index=[1,4,3,5])"
   ]
  },
  {
   "cell_type": "code",
   "execution_count": 174,
   "id": "c757e349",
   "metadata": {},
   "outputs": [
    {
     "data": {
      "text/plain": [
       "'a'"
      ]
     },
     "execution_count": 174,
     "metadata": {},
     "output_type": "execute_result"
    }
   ],
   "source": [
    "A[1]  #explicit indices"
   ]
  },
  {
   "cell_type": "code",
   "execution_count": 175,
   "id": "91b20b66",
   "metadata": {},
   "outputs": [
    {
     "data": {
      "text/plain": [
       "4    b\n",
       "3    c\n",
       "dtype: object"
      ]
     },
     "execution_count": 175,
     "metadata": {},
     "output_type": "execute_result"
    }
   ],
   "source": [
    "A[1:3] #inplicit indices"
   ]
  },
  {
   "cell_type": "code",
   "execution_count": 176,
   "id": "b3f1b311",
   "metadata": {},
   "outputs": [
    {
     "data": {
      "text/plain": [
       "1    a\n",
       "4    b\n",
       "3    c\n",
       "dtype: object"
      ]
     },
     "execution_count": 176,
     "metadata": {},
     "output_type": "execute_result"
    }
   ],
   "source": [
    "A.loc[1:3]  #Explicit indices"
   ]
  },
  {
   "cell_type": "code",
   "execution_count": 177,
   "id": "46d07a33",
   "metadata": {},
   "outputs": [
    {
     "data": {
      "text/plain": [
       "'b'"
      ]
     },
     "execution_count": 177,
     "metadata": {},
     "output_type": "execute_result"
    }
   ],
   "source": [
    "A.iloc[1]"
   ]
  },
  {
   "cell_type": "code",
   "execution_count": 178,
   "id": "830709e9",
   "metadata": {},
   "outputs": [
    {
     "data": {
      "text/html": [
       "<div>\n",
       "<style scoped>\n",
       "    .dataframe tbody tr th:only-of-type {\n",
       "        vertical-align: middle;\n",
       "    }\n",
       "\n",
       "    .dataframe tbody tr th {\n",
       "        vertical-align: top;\n",
       "    }\n",
       "\n",
       "    .dataframe thead th {\n",
       "        text-align: right;\n",
       "    }\n",
       "</style>\n",
       "<table border=\"1\" class=\"dataframe\">\n",
       "  <thead>\n",
       "    <tr style=\"text-align: right;\">\n",
       "      <th></th>\n",
       "      <th>Marks</th>\n",
       "      <th>Grades</th>\n",
       "    </tr>\n",
       "  </thead>\n",
       "  <tbody>\n",
       "    <tr>\n",
       "      <th>A</th>\n",
       "      <td>85</td>\n",
       "      <td>4.0</td>\n",
       "    </tr>\n",
       "    <tr>\n",
       "      <th>A-</th>\n",
       "      <td>80</td>\n",
       "      <td>3.5</td>\n",
       "    </tr>\n",
       "    <tr>\n",
       "      <th>B</th>\n",
       "      <td>75</td>\n",
       "      <td>3.0</td>\n",
       "    </tr>\n",
       "    <tr>\n",
       "      <th>B-</th>\n",
       "      <td>70</td>\n",
       "      <td>2.5</td>\n",
       "    </tr>\n",
       "    <tr>\n",
       "      <th>C</th>\n",
       "      <td>65</td>\n",
       "      <td>2.0</td>\n",
       "    </tr>\n",
       "  </tbody>\n",
       "</table>\n",
       "</div>"
      ],
      "text/plain": [
       "    Marks  Grades\n",
       "A      85     4.0\n",
       "A-     80     3.5\n",
       "B      75     3.0\n",
       "B-     70     2.5\n",
       "C      65     2.0"
      ]
     },
     "execution_count": 178,
     "metadata": {},
     "output_type": "execute_result"
    }
   ],
   "source": [
    "D"
   ]
  },
  {
   "cell_type": "code",
   "execution_count": 179,
   "id": "4870af4e",
   "metadata": {},
   "outputs": [
    {
     "data": {
      "text/plain": [
       "65"
      ]
     },
     "execution_count": 179,
     "metadata": {},
     "output_type": "execute_result"
    }
   ],
   "source": [
    "D.iloc[4,0]"
   ]
  },
  {
   "cell_type": "code",
   "execution_count": 180,
   "id": "d041a788",
   "metadata": {},
   "outputs": [
    {
     "data": {
      "text/plain": [
       "Marks     75.0\n",
       "Grades     3.0\n",
       "Name: B, dtype: float64"
      ]
     },
     "execution_count": 180,
     "metadata": {},
     "output_type": "execute_result"
    }
   ],
   "source": [
    "D.iloc[2,:]"
   ]
  },
  {
   "cell_type": "markdown",
   "id": "cee12f49",
   "metadata": {},
   "source": [
    "CSV FILES"
   ]
  },
  {
   "cell_type": "code",
   "execution_count": 6,
   "id": "7d2c3b2d",
   "metadata": {},
   "outputs": [],
   "source": [
    "import pandas as pd\n",
    "import numpy as np\n",
    "from sklearn.impute import SimpleImputer"
   ]
  },
  {
   "cell_type": "code",
   "execution_count": 15,
   "id": "9b01db5d",
   "metadata": {},
   "outputs": [],
   "source": [
    "df = pd.read_excel('C:/Users/DEBRA/Desktop/MMUST MSSA CLUB/SPSS/sales extraversion.xls')"
   ]
  },
  {
   "cell_type": "code",
   "execution_count": 16,
   "id": "4fdb05dd",
   "metadata": {},
   "outputs": [
    {
     "data": {
      "text/html": [
       "<div>\n",
       "<style scoped>\n",
       "    .dataframe tbody tr th:only-of-type {\n",
       "        vertical-align: middle;\n",
       "    }\n",
       "\n",
       "    .dataframe tbody tr th {\n",
       "        vertical-align: top;\n",
       "    }\n",
       "\n",
       "    .dataframe thead th {\n",
       "        text-align: right;\n",
       "    }\n",
       "</style>\n",
       "<table border=\"1\" class=\"dataframe\">\n",
       "  <thead>\n",
       "    <tr style=\"text-align: right;\">\n",
       "      <th></th>\n",
       "      <th>ID</th>\n",
       "      <th>gender</th>\n",
       "      <th>extraversion</th>\n",
       "      <th>sales</th>\n",
       "    </tr>\n",
       "  </thead>\n",
       "  <tbody>\n",
       "    <tr>\n",
       "      <th>0</th>\n",
       "      <td>1</td>\n",
       "      <td>2</td>\n",
       "      <td>9</td>\n",
       "      <td>50</td>\n",
       "    </tr>\n",
       "    <tr>\n",
       "      <th>1</th>\n",
       "      <td>2</td>\n",
       "      <td>1</td>\n",
       "      <td>3</td>\n",
       "      <td>26</td>\n",
       "    </tr>\n",
       "    <tr>\n",
       "      <th>2</th>\n",
       "      <td>3</td>\n",
       "      <td>1</td>\n",
       "      <td>7</td>\n",
       "      <td>40</td>\n",
       "    </tr>\n",
       "    <tr>\n",
       "      <th>3</th>\n",
       "      <td>4</td>\n",
       "      <td>2</td>\n",
       "      <td>5</td>\n",
       "      <td>38</td>\n",
       "    </tr>\n",
       "    <tr>\n",
       "      <th>4</th>\n",
       "      <td>5</td>\n",
       "      <td>2</td>\n",
       "      <td>6</td>\n",
       "      <td>34</td>\n",
       "    </tr>\n",
       "    <tr>\n",
       "      <th>5</th>\n",
       "      <td>6</td>\n",
       "      <td>1</td>\n",
       "      <td>8</td>\n",
       "      <td>42</td>\n",
       "    </tr>\n",
       "  </tbody>\n",
       "</table>\n",
       "</div>"
      ],
      "text/plain": [
       "   ID  gender  extraversion  sales\n",
       "0   1       2             9     50\n",
       "1   2       1             3     26\n",
       "2   3       1             7     40\n",
       "3   4       2             5     38\n",
       "4   5       2             6     34\n",
       "5   6       1             8     42"
      ]
     },
     "execution_count": 16,
     "metadata": {},
     "output_type": "execute_result"
    }
   ],
   "source": [
    "df"
   ]
  },
  {
   "cell_type": "code",
   "execution_count": 18,
   "id": "a8d70379",
   "metadata": {},
   "outputs": [
    {
     "data": {
      "text/html": [
       "<div>\n",
       "<style scoped>\n",
       "    .dataframe tbody tr th:only-of-type {\n",
       "        vertical-align: middle;\n",
       "    }\n",
       "\n",
       "    .dataframe tbody tr th {\n",
       "        vertical-align: top;\n",
       "    }\n",
       "\n",
       "    .dataframe thead th {\n",
       "        text-align: right;\n",
       "    }\n",
       "</style>\n",
       "<table border=\"1\" class=\"dataframe\">\n",
       "  <thead>\n",
       "    <tr style=\"text-align: right;\">\n",
       "      <th></th>\n",
       "      <th>0</th>\n",
       "      <th>1</th>\n",
       "      <th>2</th>\n",
       "      <th>3</th>\n",
       "      <th>4</th>\n",
       "      <th>5</th>\n",
       "    </tr>\n",
       "  </thead>\n",
       "  <tbody>\n",
       "    <tr>\n",
       "      <th>ID</th>\n",
       "      <td>1</td>\n",
       "      <td>2</td>\n",
       "      <td>3</td>\n",
       "      <td>4</td>\n",
       "      <td>5</td>\n",
       "      <td>6</td>\n",
       "    </tr>\n",
       "    <tr>\n",
       "      <th>gender</th>\n",
       "      <td>2</td>\n",
       "      <td>1</td>\n",
       "      <td>1</td>\n",
       "      <td>2</td>\n",
       "      <td>2</td>\n",
       "      <td>1</td>\n",
       "    </tr>\n",
       "    <tr>\n",
       "      <th>extraversion</th>\n",
       "      <td>9</td>\n",
       "      <td>3</td>\n",
       "      <td>7</td>\n",
       "      <td>5</td>\n",
       "      <td>6</td>\n",
       "      <td>8</td>\n",
       "    </tr>\n",
       "    <tr>\n",
       "      <th>sales</th>\n",
       "      <td>50</td>\n",
       "      <td>26</td>\n",
       "      <td>40</td>\n",
       "      <td>38</td>\n",
       "      <td>34</td>\n",
       "      <td>42</td>\n",
       "    </tr>\n",
       "  </tbody>\n",
       "</table>\n",
       "</div>"
      ],
      "text/plain": [
       "               0   1   2   3   4   5\n",
       "ID             1   2   3   4   5   6\n",
       "gender         2   1   1   2   2   1\n",
       "extraversion   9   3   7   5   6   8\n",
       "sales         50  26  40  38  34  42"
      ]
     },
     "execution_count": 18,
     "metadata": {},
     "output_type": "execute_result"
    }
   ],
   "source": [
    "df.T   #df.transpose()"
   ]
  },
  {
   "cell_type": "code",
   "execution_count": 2,
   "id": "12d66b08",
   "metadata": {},
   "outputs": [
    {
     "data": {
      "text/html": [
       "<div>\n",
       "<style scoped>\n",
       "    .dataframe tbody tr th:only-of-type {\n",
       "        vertical-align: middle;\n",
       "    }\n",
       "\n",
       "    .dataframe tbody tr th {\n",
       "        vertical-align: top;\n",
       "    }\n",
       "\n",
       "    .dataframe thead th {\n",
       "        text-align: right;\n",
       "    }\n",
       "</style>\n",
       "<table border=\"1\" class=\"dataframe\">\n",
       "  <thead>\n",
       "    <tr style=\"text-align: right;\">\n",
       "      <th></th>\n",
       "      <th>Year</th>\n",
       "      <th>Barley</th>\n",
       "      <th>Cattle and Calves for slaughter</th>\n",
       "      <th>Coffee</th>\n",
       "      <th>Cotton</th>\n",
       "      <th>Cut flowers</th>\n",
       "      <th>Dairy products</th>\n",
       "      <th>Fruits</th>\n",
       "      <th>Grand Total</th>\n",
       "      <th>Hides and skins</th>\n",
       "      <th>...</th>\n",
       "      <th>Pyrethrum</th>\n",
       "      <th>Rice (paddy)</th>\n",
       "      <th>Sheep, goats and lambs for slaughter</th>\n",
       "      <th>Sugar-cane</th>\n",
       "      <th>Tea</th>\n",
       "      <th>Tobacco</th>\n",
       "      <th>Total Crops</th>\n",
       "      <th>Vegetables</th>\n",
       "      <th>Wheat</th>\n",
       "      <th>Wool</th>\n",
       "    </tr>\n",
       "  </thead>\n",
       "  <tbody>\n",
       "    <tr>\n",
       "      <th>0</th>\n",
       "      <td>2001</td>\n",
       "      <td>8.065350e+08</td>\n",
       "      <td>9078641509</td>\n",
       "      <td>6424188557</td>\n",
       "      <td>NaN</td>\n",
       "      <td>10627000000</td>\n",
       "      <td>1919632000</td>\n",
       "      <td>1.560000e+09</td>\n",
       "      <td>9.940383e+10</td>\n",
       "      <td>6.084000e+08</td>\n",
       "      <td>...</td>\n",
       "      <td>7.690970e+08</td>\n",
       "      <td>3.032644e+08</td>\n",
       "      <td>1457348062</td>\n",
       "      <td>7154845880</td>\n",
       "      <td>38564542833</td>\n",
       "      <td>8.061888e+08</td>\n",
       "      <td>8.393605e+10</td>\n",
       "      <td>8035000000</td>\n",
       "      <td>2375240000</td>\n",
       "      <td>11725000.00</td>\n",
       "    </tr>\n",
       "    <tr>\n",
       "      <th>1</th>\n",
       "      <td>2002</td>\n",
       "      <td>6.844705e+08</td>\n",
       "      <td>11592000000</td>\n",
       "      <td>5356100822</td>\n",
       "      <td>20088000.0</td>\n",
       "      <td>13376614634</td>\n",
       "      <td>2314000000</td>\n",
       "      <td>1.545706e+09</td>\n",
       "      <td>1.170000e+11</td>\n",
       "      <td>6.205680e+08</td>\n",
       "      <td>...</td>\n",
       "      <td>1.720357e+09</td>\n",
       "      <td>3.093297e+08</td>\n",
       "      <td>2421000000</td>\n",
       "      <td>9070246445</td>\n",
       "      <td>37578678600</td>\n",
       "      <td>8.168885e+08</td>\n",
       "      <td>9.827436e+10</td>\n",
       "      <td>20229658225</td>\n",
       "      <td>1031351153</td>\n",
       "      <td>19477999.62</td>\n",
       "    </tr>\n",
       "    <tr>\n",
       "      <th>2</th>\n",
       "      <td>2003</td>\n",
       "      <td>5.624060e+08</td>\n",
       "      <td>10432800000</td>\n",
       "      <td>7209886613</td>\n",
       "      <td>30204000.0</td>\n",
       "      <td>16073603836</td>\n",
       "      <td>2642842186</td>\n",
       "      <td>1.620061e+09</td>\n",
       "      <td>1.100000e+11</td>\n",
       "      <td>5.585112e+08</td>\n",
       "      <td>...</td>\n",
       "      <td>1.051028e+09</td>\n",
       "      <td>3.117510e+08</td>\n",
       "      <td>2179800000</td>\n",
       "      <td>8471170825</td>\n",
       "      <td>38438495667</td>\n",
       "      <td>8.739535e+08</td>\n",
       "      <td>9.232004e+10</td>\n",
       "      <td>11327851045</td>\n",
       "      <td>1297451196</td>\n",
       "      <td>14400000.00</td>\n",
       "    </tr>\n",
       "    <tr>\n",
       "      <th>3</th>\n",
       "      <td>2004</td>\n",
       "      <td>5.071852e+08</td>\n",
       "      <td>9126000000</td>\n",
       "      <td>5879310723</td>\n",
       "      <td>39600000.0</td>\n",
       "      <td>18140628113</td>\n",
       "      <td>3562782600</td>\n",
       "      <td>1.582544e+09</td>\n",
       "      <td>1.180000e+11</td>\n",
       "      <td>4.885258e+08</td>\n",
       "      <td>...</td>\n",
       "      <td>4.119664e+08</td>\n",
       "      <td>4.150144e+08</td>\n",
       "      <td>2070000000</td>\n",
       "      <td>9391904925</td>\n",
       "      <td>42487973581</td>\n",
       "      <td>7.089454e+08</td>\n",
       "      <td>1.000000e+11</td>\n",
       "      <td>11996722240</td>\n",
       "      <td>1514320898</td>\n",
       "      <td>9275000.00</td>\n",
       "    </tr>\n",
       "    <tr>\n",
       "      <th>4</th>\n",
       "      <td>2005</td>\n",
       "      <td>9.927379e+08</td>\n",
       "      <td>9936000000</td>\n",
       "      <td>5611287825</td>\n",
       "      <td>48996000.0</td>\n",
       "      <td>20848655820</td>\n",
       "      <td>4317014000</td>\n",
       "      <td>1.272134e+09</td>\n",
       "      <td>1.270000e+11</td>\n",
       "      <td>5.619000e+08</td>\n",
       "      <td>...</td>\n",
       "      <td>1.612940e+08</td>\n",
       "      <td>5.994854e+08</td>\n",
       "      <td>2268000000</td>\n",
       "      <td>9673652300</td>\n",
       "      <td>42997136070</td>\n",
       "      <td>8.882925e+08</td>\n",
       "      <td>1.070000e+11</td>\n",
       "      <td>14649341602</td>\n",
       "      <td>2207525529</td>\n",
       "      <td>7275000.00</td>\n",
       "    </tr>\n",
       "    <tr>\n",
       "      <th>5</th>\n",
       "      <td>2006</td>\n",
       "      <td>1.350471e+09</td>\n",
       "      <td>10629000000</td>\n",
       "      <td>5950202544</td>\n",
       "      <td>57024000.0</td>\n",
       "      <td>22200230935</td>\n",
       "      <td>4690413000</td>\n",
       "      <td>1.058623e+09</td>\n",
       "      <td>1.280000e+11</td>\n",
       "      <td>NaN</td>\n",
       "      <td>...</td>\n",
       "      <td>9.933350e+07</td>\n",
       "      <td>6.024418e+08</td>\n",
       "      <td>2566800000</td>\n",
       "      <td>9939670585</td>\n",
       "      <td>40651585478</td>\n",
       "      <td>6.159018e+08</td>\n",
       "      <td>1.070000e+11</td>\n",
       "      <td>14169167840</td>\n",
       "      <td>1775638100</td>\n",
       "      <td>4100000.00</td>\n",
       "    </tr>\n",
       "    <tr>\n",
       "      <th>6</th>\n",
       "      <td>2007</td>\n",
       "      <td>1.006745e+09</td>\n",
       "      <td>9564882186</td>\n",
       "      <td>6158900300</td>\n",
       "      <td>275280000.0</td>\n",
       "      <td>27884107544</td>\n",
       "      <td>5500441310</td>\n",
       "      <td>1.713092e+09</td>\n",
       "      <td>1.510000e+11</td>\n",
       "      <td>NaN</td>\n",
       "      <td>...</td>\n",
       "      <td>1.317890e+08</td>\n",
       "      <td>8.467889e+08</td>\n",
       "      <td>2694965036</td>\n",
       "      <td>10486491210</td>\n",
       "      <td>48376944000</td>\n",
       "      <td>6.789790e+08</td>\n",
       "      <td>1.300000e+11</td>\n",
       "      <td>20532415419</td>\n",
       "      <td>1978860000</td>\n",
       "      <td>4305000.00</td>\n",
       "    </tr>\n",
       "    <tr>\n",
       "      <th>7</th>\n",
       "      <td>2008</td>\n",
       "      <td>6.741444e+08</td>\n",
       "      <td>10521000000</td>\n",
       "      <td>4557350700</td>\n",
       "      <td>273640000.0</td>\n",
       "      <td>28648474527</td>\n",
       "      <td>5180648044</td>\n",
       "      <td>1.865852e+09</td>\n",
       "      <td>1.430000e+11</td>\n",
       "      <td>7.668706e+08</td>\n",
       "      <td>...</td>\n",
       "      <td>1.229375e+08</td>\n",
       "      <td>6.387386e+08</td>\n",
       "      <td>2964600000</td>\n",
       "      <td>10328529315</td>\n",
       "      <td>45261762000</td>\n",
       "      <td>6.200725e+08</td>\n",
       "      <td>1.210000e+11</td>\n",
       "      <td>19834361436</td>\n",
       "      <td>1511296800</td>\n",
       "      <td>1735350.00</td>\n",
       "    </tr>\n",
       "    <tr>\n",
       "      <th>8</th>\n",
       "      <td>2009</td>\n",
       "      <td>7.019583e+08</td>\n",
       "      <td>11439000000</td>\n",
       "      <td>5762399013</td>\n",
       "      <td>268200000.0</td>\n",
       "      <td>26599971012</td>\n",
       "      <td>5284898749</td>\n",
       "      <td>2.313220e+09</td>\n",
       "      <td>1.360000e+11</td>\n",
       "      <td>8.146500e+08</td>\n",
       "      <td>...</td>\n",
       "      <td>6.884500e+07</td>\n",
       "      <td>5.930346e+08</td>\n",
       "      <td>3123000000</td>\n",
       "      <td>11305564530</td>\n",
       "      <td>39816738000</td>\n",
       "      <td>7.467946e+08</td>\n",
       "      <td>1.130000e+11</td>\n",
       "      <td>17451349565</td>\n",
       "      <td>2265840720</td>\n",
       "      <td>925000.00</td>\n",
       "    </tr>\n",
       "    <tr>\n",
       "      <th>9</th>\n",
       "      <td>2010</td>\n",
       "      <td>7.950010e+08</td>\n",
       "      <td>10701000000</td>\n",
       "      <td>4580902900</td>\n",
       "      <td>212400000.0</td>\n",
       "      <td>20699057903</td>\n",
       "      <td>6704693791</td>\n",
       "      <td>2.105903e+09</td>\n",
       "      <td>1.430000e+11</td>\n",
       "      <td>7.618500e+08</td>\n",
       "      <td>...</td>\n",
       "      <td>5.704300e+07</td>\n",
       "      <td>1.141510e+09</td>\n",
       "      <td>3367800000</td>\n",
       "      <td>11504815790</td>\n",
       "      <td>52225110000</td>\n",
       "      <td>1.030373e+09</td>\n",
       "      <td>1.190000e+11</td>\n",
       "      <td>14466567018</td>\n",
       "      <td>3501201600</td>\n",
       "      <td>950000.00</td>\n",
       "    </tr>\n",
       "    <tr>\n",
       "      <th>10</th>\n",
       "      <td>2011</td>\n",
       "      <td>8.433925e+08</td>\n",
       "      <td>18930600000</td>\n",
       "      <td>3532830000</td>\n",
       "      <td>396000000.0</td>\n",
       "      <td>33617471411</td>\n",
       "      <td>7136956372</td>\n",
       "      <td>2.951646e+09</td>\n",
       "      <td>1.680000e+11</td>\n",
       "      <td>8.062971e+08</td>\n",
       "      <td>...</td>\n",
       "      <td>6.884500e+07</td>\n",
       "      <td>1.263440e+09</td>\n",
       "      <td>4041360000</td>\n",
       "      <td>10757202430</td>\n",
       "      <td>49463331000</td>\n",
       "      <td>9.598918e+08</td>\n",
       "      <td>1.330000e+11</td>\n",
       "      <td>19073723303</td>\n",
       "      <td>1857367200</td>\n",
       "      <td>695850.00</td>\n",
       "    </tr>\n",
       "    <tr>\n",
       "      <th>11</th>\n",
       "      <td>2012</td>\n",
       "      <td>6.660100e+08</td>\n",
       "      <td>19747940000</td>\n",
       "      <td>5422980000</td>\n",
       "      <td>211907516.4</td>\n",
       "      <td>33111660000</td>\n",
       "      <td>6464710000</td>\n",
       "      <td>3.390190e+09</td>\n",
       "      <td>1.680000e+11</td>\n",
       "      <td>8.411100e+08</td>\n",
       "      <td>...</td>\n",
       "      <td>9.840000e+06</td>\n",
       "      <td>1.315384e+09</td>\n",
       "      <td>4101430000</td>\n",
       "      <td>11732610000</td>\n",
       "      <td>48371970000</td>\n",
       "      <td>8.390900e+08</td>\n",
       "      <td>1.330000e+11</td>\n",
       "      <td>15971510000</td>\n",
       "      <td>2791320000</td>\n",
       "      <td>600000.00</td>\n",
       "    </tr>\n",
       "    <tr>\n",
       "      <th>12</th>\n",
       "      <td>2013</td>\n",
       "      <td>5.397840e+08</td>\n",
       "      <td>19325729443</td>\n",
       "      <td>4522394165</td>\n",
       "      <td>106318836.0</td>\n",
       "      <td>32272774417</td>\n",
       "      <td>6754311720</td>\n",
       "      <td>3.394264e+09</td>\n",
       "      <td>1.790000e+11</td>\n",
       "      <td>8.401928e+08</td>\n",
       "      <td>...</td>\n",
       "      <td>4.229050e+07</td>\n",
       "      <td>6.872533e+08</td>\n",
       "      <td>4212661542</td>\n",
       "      <td>13443497665</td>\n",
       "      <td>56603816415</td>\n",
       "      <td>4.032788e+08</td>\n",
       "      <td>1.440000e+11</td>\n",
       "      <td>18576018892</td>\n",
       "      <td>5369392570</td>\n",
       "      <td>119850.00</td>\n",
       "    </tr>\n",
       "    <tr>\n",
       "      <th>13</th>\n",
       "      <td>2014</td>\n",
       "      <td>1.008527e+09</td>\n",
       "      <td>18690417000</td>\n",
       "      <td>4998926513</td>\n",
       "      <td>274140000.0</td>\n",
       "      <td>35088658853</td>\n",
       "      <td>7037618133</td>\n",
       "      <td>NaN</td>\n",
       "      <td>1.830000e+11</td>\n",
       "      <td>8.384578e+08</td>\n",
       "      <td>...</td>\n",
       "      <td>3.560685e+07</td>\n",
       "      <td>7.596500e+08</td>\n",
       "      <td>4249752881</td>\n",
       "      <td>13052466765</td>\n",
       "      <td>58259803144</td>\n",
       "      <td>6.807040e+08</td>\n",
       "      <td>1.480000e+11</td>\n",
       "      <td>16930104468</td>\n",
       "      <td>3935493633</td>\n",
       "      <td>225000.00</td>\n",
       "    </tr>\n",
       "    <tr>\n",
       "      <th>14</th>\n",
       "      <td>2015</td>\n",
       "      <td>1.099036e+09</td>\n",
       "      <td>20470611834</td>\n",
       "      <td>3793812189</td>\n",
       "      <td>323540360.0</td>\n",
       "      <td>37553426914</td>\n",
       "      <td>7804824950</td>\n",
       "      <td>5.046130e+09</td>\n",
       "      <td>1.820000e+11</td>\n",
       "      <td>1.005765e+09</td>\n",
       "      <td>...</td>\n",
       "      <td>3.655527e+07</td>\n",
       "      <td>8.278237e+08</td>\n",
       "      <td>4542158081</td>\n",
       "      <td>13801198571</td>\n",
       "      <td>52252815355</td>\n",
       "      <td>6.309177e+08</td>\n",
       "      <td>1.430000e+11</td>\n",
       "      <td>16595009394</td>\n",
       "      <td>4015923218</td>\n",
       "      <td>200000.00</td>\n",
       "    </tr>\n",
       "  </tbody>\n",
       "</table>\n",
       "<p>15 rows × 28 columns</p>\n",
       "</div>"
      ],
      "text/plain": [
       "    Year        Barley  Cattle and Calves for slaughter      Coffee  \\\n",
       "0   2001  8.065350e+08                       9078641509  6424188557   \n",
       "1   2002  6.844705e+08                      11592000000  5356100822   \n",
       "2   2003  5.624060e+08                      10432800000  7209886613   \n",
       "3   2004  5.071852e+08                       9126000000  5879310723   \n",
       "4   2005  9.927379e+08                       9936000000  5611287825   \n",
       "5   2006  1.350471e+09                      10629000000  5950202544   \n",
       "6   2007  1.006745e+09                       9564882186  6158900300   \n",
       "7   2008  6.741444e+08                      10521000000  4557350700   \n",
       "8   2009  7.019583e+08                      11439000000  5762399013   \n",
       "9   2010  7.950010e+08                      10701000000  4580902900   \n",
       "10  2011  8.433925e+08                      18930600000  3532830000   \n",
       "11  2012  6.660100e+08                      19747940000  5422980000   \n",
       "12  2013  5.397840e+08                      19325729443  4522394165   \n",
       "13  2014  1.008527e+09                      18690417000  4998926513   \n",
       "14  2015  1.099036e+09                      20470611834  3793812189   \n",
       "\n",
       "         Cotton  Cut flowers  Dairy products        Fruits   Grand Total  \\\n",
       "0           NaN  10627000000      1919632000  1.560000e+09  9.940383e+10   \n",
       "1    20088000.0  13376614634      2314000000  1.545706e+09  1.170000e+11   \n",
       "2    30204000.0  16073603836      2642842186  1.620061e+09  1.100000e+11   \n",
       "3    39600000.0  18140628113      3562782600  1.582544e+09  1.180000e+11   \n",
       "4    48996000.0  20848655820      4317014000  1.272134e+09  1.270000e+11   \n",
       "5    57024000.0  22200230935      4690413000  1.058623e+09  1.280000e+11   \n",
       "6   275280000.0  27884107544      5500441310  1.713092e+09  1.510000e+11   \n",
       "7   273640000.0  28648474527      5180648044  1.865852e+09  1.430000e+11   \n",
       "8   268200000.0  26599971012      5284898749  2.313220e+09  1.360000e+11   \n",
       "9   212400000.0  20699057903      6704693791  2.105903e+09  1.430000e+11   \n",
       "10  396000000.0  33617471411      7136956372  2.951646e+09  1.680000e+11   \n",
       "11  211907516.4  33111660000      6464710000  3.390190e+09  1.680000e+11   \n",
       "12  106318836.0  32272774417      6754311720  3.394264e+09  1.790000e+11   \n",
       "13  274140000.0  35088658853      7037618133           NaN  1.830000e+11   \n",
       "14  323540360.0  37553426914      7804824950  5.046130e+09  1.820000e+11   \n",
       "\n",
       "    Hides and skins  ...     Pyrethrum  Rice (paddy)  \\\n",
       "0      6.084000e+08  ...  7.690970e+08  3.032644e+08   \n",
       "1      6.205680e+08  ...  1.720357e+09  3.093297e+08   \n",
       "2      5.585112e+08  ...  1.051028e+09  3.117510e+08   \n",
       "3      4.885258e+08  ...  4.119664e+08  4.150144e+08   \n",
       "4      5.619000e+08  ...  1.612940e+08  5.994854e+08   \n",
       "5               NaN  ...  9.933350e+07  6.024418e+08   \n",
       "6               NaN  ...  1.317890e+08  8.467889e+08   \n",
       "7      7.668706e+08  ...  1.229375e+08  6.387386e+08   \n",
       "8      8.146500e+08  ...  6.884500e+07  5.930346e+08   \n",
       "9      7.618500e+08  ...  5.704300e+07  1.141510e+09   \n",
       "10     8.062971e+08  ...  6.884500e+07  1.263440e+09   \n",
       "11     8.411100e+08  ...  9.840000e+06  1.315384e+09   \n",
       "12     8.401928e+08  ...  4.229050e+07  6.872533e+08   \n",
       "13     8.384578e+08  ...  3.560685e+07  7.596500e+08   \n",
       "14     1.005765e+09  ...  3.655527e+07  8.278237e+08   \n",
       "\n",
       "    Sheep, goats and lambs for slaughter   Sugar-cane          Tea  \\\n",
       "0                             1457348062   7154845880  38564542833   \n",
       "1                             2421000000   9070246445  37578678600   \n",
       "2                             2179800000   8471170825  38438495667   \n",
       "3                             2070000000   9391904925  42487973581   \n",
       "4                             2268000000   9673652300  42997136070   \n",
       "5                             2566800000   9939670585  40651585478   \n",
       "6                             2694965036  10486491210  48376944000   \n",
       "7                             2964600000  10328529315  45261762000   \n",
       "8                             3123000000  11305564530  39816738000   \n",
       "9                             3367800000  11504815790  52225110000   \n",
       "10                            4041360000  10757202430  49463331000   \n",
       "11                            4101430000  11732610000  48371970000   \n",
       "12                            4212661542  13443497665  56603816415   \n",
       "13                            4249752881  13052466765  58259803144   \n",
       "14                            4542158081  13801198571  52252815355   \n",
       "\n",
       "         Tobacco   Total Crops   Vegetables       Wheat         Wool  \n",
       "0   8.061888e+08  8.393605e+10   8035000000  2375240000  11725000.00  \n",
       "1   8.168885e+08  9.827436e+10  20229658225  1031351153  19477999.62  \n",
       "2   8.739535e+08  9.232004e+10  11327851045  1297451196  14400000.00  \n",
       "3   7.089454e+08  1.000000e+11  11996722240  1514320898   9275000.00  \n",
       "4   8.882925e+08  1.070000e+11  14649341602  2207525529   7275000.00  \n",
       "5   6.159018e+08  1.070000e+11  14169167840  1775638100   4100000.00  \n",
       "6   6.789790e+08  1.300000e+11  20532415419  1978860000   4305000.00  \n",
       "7   6.200725e+08  1.210000e+11  19834361436  1511296800   1735350.00  \n",
       "8   7.467946e+08  1.130000e+11  17451349565  2265840720    925000.00  \n",
       "9   1.030373e+09  1.190000e+11  14466567018  3501201600    950000.00  \n",
       "10  9.598918e+08  1.330000e+11  19073723303  1857367200    695850.00  \n",
       "11  8.390900e+08  1.330000e+11  15971510000  2791320000    600000.00  \n",
       "12  4.032788e+08  1.440000e+11  18576018892  5369392570    119850.00  \n",
       "13  6.807040e+08  1.480000e+11  16930104468  3935493633    225000.00  \n",
       "14  6.309177e+08  1.430000e+11  16595009394  4015923218    200000.00  \n",
       "\n",
       "[15 rows x 28 columns]"
      ]
     },
     "execution_count": 2,
     "metadata": {},
     "output_type": "execute_result"
    }
   ],
   "source": [
    "import pandas as pd\n",
    "df = pd.read_csv('C:/Users/DEBRA/Desktop/My DataSets/sample.csv')\n",
    "df"
   ]
  },
  {
   "cell_type": "code",
   "execution_count": 3,
   "id": "938e993f",
   "metadata": {},
   "outputs": [
    {
     "data": {
      "text/html": [
       "<div>\n",
       "<style scoped>\n",
       "    .dataframe tbody tr th:only-of-type {\n",
       "        vertical-align: middle;\n",
       "    }\n",
       "\n",
       "    .dataframe tbody tr th {\n",
       "        vertical-align: top;\n",
       "    }\n",
       "\n",
       "    .dataframe thead th {\n",
       "        text-align: right;\n",
       "    }\n",
       "</style>\n",
       "<table border=\"1\" class=\"dataframe\">\n",
       "  <thead>\n",
       "    <tr style=\"text-align: right;\">\n",
       "      <th></th>\n",
       "      <th>0</th>\n",
       "      <th>1</th>\n",
       "      <th>2</th>\n",
       "      <th>3</th>\n",
       "      <th>4</th>\n",
       "      <th>5</th>\n",
       "      <th>6</th>\n",
       "      <th>7</th>\n",
       "      <th>8</th>\n",
       "      <th>9</th>\n",
       "      <th>10</th>\n",
       "      <th>11</th>\n",
       "      <th>12</th>\n",
       "      <th>13</th>\n",
       "      <th>14</th>\n",
       "    </tr>\n",
       "  </thead>\n",
       "  <tbody>\n",
       "    <tr>\n",
       "      <th>Year</th>\n",
       "      <td>2.001000e+03</td>\n",
       "      <td>2.002000e+03</td>\n",
       "      <td>2.003000e+03</td>\n",
       "      <td>2.004000e+03</td>\n",
       "      <td>2.005000e+03</td>\n",
       "      <td>2.006000e+03</td>\n",
       "      <td>2.007000e+03</td>\n",
       "      <td>2.008000e+03</td>\n",
       "      <td>2.009000e+03</td>\n",
       "      <td>2.010000e+03</td>\n",
       "      <td>2.011000e+03</td>\n",
       "      <td>2.012000e+03</td>\n",
       "      <td>2.013000e+03</td>\n",
       "      <td>2.014000e+03</td>\n",
       "      <td>2.015000e+03</td>\n",
       "    </tr>\n",
       "    <tr>\n",
       "      <th>Barley</th>\n",
       "      <td>8.065350e+08</td>\n",
       "      <td>6.844705e+08</td>\n",
       "      <td>5.624060e+08</td>\n",
       "      <td>5.071852e+08</td>\n",
       "      <td>9.927379e+08</td>\n",
       "      <td>1.350471e+09</td>\n",
       "      <td>1.006745e+09</td>\n",
       "      <td>6.741444e+08</td>\n",
       "      <td>7.019583e+08</td>\n",
       "      <td>7.950010e+08</td>\n",
       "      <td>8.433925e+08</td>\n",
       "      <td>6.660100e+08</td>\n",
       "      <td>5.397840e+08</td>\n",
       "      <td>1.008527e+09</td>\n",
       "      <td>1.099036e+09</td>\n",
       "    </tr>\n",
       "    <tr>\n",
       "      <th>Cattle and Calves for slaughter</th>\n",
       "      <td>9.078642e+09</td>\n",
       "      <td>1.159200e+10</td>\n",
       "      <td>1.043280e+10</td>\n",
       "      <td>9.126000e+09</td>\n",
       "      <td>9.936000e+09</td>\n",
       "      <td>1.062900e+10</td>\n",
       "      <td>9.564882e+09</td>\n",
       "      <td>1.052100e+10</td>\n",
       "      <td>1.143900e+10</td>\n",
       "      <td>1.070100e+10</td>\n",
       "      <td>1.893060e+10</td>\n",
       "      <td>1.974794e+10</td>\n",
       "      <td>1.932573e+10</td>\n",
       "      <td>1.869042e+10</td>\n",
       "      <td>2.047061e+10</td>\n",
       "    </tr>\n",
       "    <tr>\n",
       "      <th>Coffee</th>\n",
       "      <td>6.424189e+09</td>\n",
       "      <td>5.356101e+09</td>\n",
       "      <td>7.209887e+09</td>\n",
       "      <td>5.879311e+09</td>\n",
       "      <td>5.611288e+09</td>\n",
       "      <td>5.950203e+09</td>\n",
       "      <td>6.158900e+09</td>\n",
       "      <td>4.557351e+09</td>\n",
       "      <td>5.762399e+09</td>\n",
       "      <td>4.580903e+09</td>\n",
       "      <td>3.532830e+09</td>\n",
       "      <td>5.422980e+09</td>\n",
       "      <td>4.522394e+09</td>\n",
       "      <td>4.998927e+09</td>\n",
       "      <td>3.793812e+09</td>\n",
       "    </tr>\n",
       "    <tr>\n",
       "      <th>Cotton</th>\n",
       "      <td>NaN</td>\n",
       "      <td>2.008800e+07</td>\n",
       "      <td>3.020400e+07</td>\n",
       "      <td>3.960000e+07</td>\n",
       "      <td>4.899600e+07</td>\n",
       "      <td>5.702400e+07</td>\n",
       "      <td>2.752800e+08</td>\n",
       "      <td>2.736400e+08</td>\n",
       "      <td>2.682000e+08</td>\n",
       "      <td>2.124000e+08</td>\n",
       "      <td>3.960000e+08</td>\n",
       "      <td>2.119075e+08</td>\n",
       "      <td>1.063188e+08</td>\n",
       "      <td>2.741400e+08</td>\n",
       "      <td>3.235404e+08</td>\n",
       "    </tr>\n",
       "    <tr>\n",
       "      <th>Cut flowers</th>\n",
       "      <td>1.062700e+10</td>\n",
       "      <td>1.337661e+10</td>\n",
       "      <td>1.607360e+10</td>\n",
       "      <td>1.814063e+10</td>\n",
       "      <td>2.084866e+10</td>\n",
       "      <td>2.220023e+10</td>\n",
       "      <td>2.788411e+10</td>\n",
       "      <td>2.864847e+10</td>\n",
       "      <td>2.659997e+10</td>\n",
       "      <td>2.069906e+10</td>\n",
       "      <td>3.361747e+10</td>\n",
       "      <td>3.311166e+10</td>\n",
       "      <td>3.227277e+10</td>\n",
       "      <td>3.508866e+10</td>\n",
       "      <td>3.755343e+10</td>\n",
       "    </tr>\n",
       "    <tr>\n",
       "      <th>Dairy products</th>\n",
       "      <td>1.919632e+09</td>\n",
       "      <td>2.314000e+09</td>\n",
       "      <td>2.642842e+09</td>\n",
       "      <td>3.562783e+09</td>\n",
       "      <td>4.317014e+09</td>\n",
       "      <td>4.690413e+09</td>\n",
       "      <td>5.500441e+09</td>\n",
       "      <td>5.180648e+09</td>\n",
       "      <td>5.284899e+09</td>\n",
       "      <td>6.704694e+09</td>\n",
       "      <td>7.136956e+09</td>\n",
       "      <td>6.464710e+09</td>\n",
       "      <td>6.754312e+09</td>\n",
       "      <td>7.037618e+09</td>\n",
       "      <td>7.804825e+09</td>\n",
       "    </tr>\n",
       "    <tr>\n",
       "      <th>Grand Total</th>\n",
       "      <td>9.940383e+10</td>\n",
       "      <td>1.170000e+11</td>\n",
       "      <td>1.100000e+11</td>\n",
       "      <td>1.180000e+11</td>\n",
       "      <td>1.270000e+11</td>\n",
       "      <td>1.280000e+11</td>\n",
       "      <td>1.510000e+11</td>\n",
       "      <td>1.430000e+11</td>\n",
       "      <td>1.360000e+11</td>\n",
       "      <td>1.430000e+11</td>\n",
       "      <td>1.680000e+11</td>\n",
       "      <td>1.680000e+11</td>\n",
       "      <td>1.790000e+11</td>\n",
       "      <td>1.830000e+11</td>\n",
       "      <td>1.820000e+11</td>\n",
       "    </tr>\n",
       "    <tr>\n",
       "      <th>Hides and skins</th>\n",
       "      <td>6.084000e+08</td>\n",
       "      <td>6.205680e+08</td>\n",
       "      <td>5.585112e+08</td>\n",
       "      <td>4.885258e+08</td>\n",
       "      <td>5.619000e+08</td>\n",
       "      <td>NaN</td>\n",
       "      <td>NaN</td>\n",
       "      <td>7.668706e+08</td>\n",
       "      <td>8.146500e+08</td>\n",
       "      <td>7.618500e+08</td>\n",
       "      <td>8.062971e+08</td>\n",
       "      <td>8.411100e+08</td>\n",
       "      <td>8.401928e+08</td>\n",
       "      <td>8.384578e+08</td>\n",
       "      <td>1.005765e+09</td>\n",
       "    </tr>\n",
       "    <tr>\n",
       "      <th>Maize</th>\n",
       "      <td>5.187450e+09</td>\n",
       "      <td>5.422041e+09</td>\n",
       "      <td>3.813988e+09</td>\n",
       "      <td>6.098432e+09</td>\n",
       "      <td>5.660054e+09</td>\n",
       "      <td>6.401069e+09</td>\n",
       "      <td>6.918662e+09</td>\n",
       "      <td>4.630119e+09</td>\n",
       "      <td>2.596606e+09</td>\n",
       "      <td>4.005971e+09</td>\n",
       "      <td>5.518538e+09</td>\n",
       "      <td>5.266560e+09</td>\n",
       "      <td>4.302557e+09</td>\n",
       "      <td>5.600619e+09</td>\n",
       "      <td>4.092723e+09</td>\n",
       "    </tr>\n",
       "    <tr>\n",
       "      <th>Number of Records</th>\n",
       "      <td>1.000000e+00</td>\n",
       "      <td>1.000000e+00</td>\n",
       "      <td>1.000000e+00</td>\n",
       "      <td>1.000000e+00</td>\n",
       "      <td>1.000000e+00</td>\n",
       "      <td>1.000000e+00</td>\n",
       "      <td>1.000000e+00</td>\n",
       "      <td>1.000000e+00</td>\n",
       "      <td>1.000000e+00</td>\n",
       "      <td>1.000000e+00</td>\n",
       "      <td>1.000000e+00</td>\n",
       "      <td>1.000000e+00</td>\n",
       "      <td>1.000000e+00</td>\n",
       "      <td>1.000000e+00</td>\n",
       "      <td>1.000000e+00</td>\n",
       "    </tr>\n",
       "    <tr>\n",
       "      <th>Other Cereals</th>\n",
       "      <td>7.971564e+08</td>\n",
       "      <td>6.773225e+08</td>\n",
       "      <td>7.294242e+08</td>\n",
       "      <td>7.867518e+08</td>\n",
       "      <td>1.173800e+09</td>\n",
       "      <td>1.224835e+09</td>\n",
       "      <td>1.477113e+09</td>\n",
       "      <td>5.893822e+08</td>\n",
       "      <td>9.746662e+08</td>\n",
       "      <td>1.375999e+09</td>\n",
       "      <td>1.473466e+09</td>\n",
       "      <td>1.920670e+09</td>\n",
       "      <td>2.213820e+09</td>\n",
       "      <td>2.324511e+09</td>\n",
       "      <td>2.343182e+09</td>\n",
       "    </tr>\n",
       "    <tr>\n",
       "      <th>Other Temporary Crops</th>\n",
       "      <td>1.234000e+08</td>\n",
       "      <td>6.132000e+07</td>\n",
       "      <td>6.515000e+07</td>\n",
       "      <td>7.053000e+07</td>\n",
       "      <td>1.642500e+08</td>\n",
       "      <td>1.413100e+08</td>\n",
       "      <td>NaN</td>\n",
       "      <td>1.271500e+08</td>\n",
       "      <td>1.271500e+08</td>\n",
       "      <td>1.366600e+08</td>\n",
       "      <td>2.013865e+08</td>\n",
       "      <td>NaN</td>\n",
       "      <td>2.328300e+08</td>\n",
       "      <td>1.820378e+08</td>\n",
       "      <td>2.449897e+08</td>\n",
       "    </tr>\n",
       "    <tr>\n",
       "      <th>Pigs for slaughter</th>\n",
       "      <td>3.174480e+08</td>\n",
       "      <td>2.857032e+08</td>\n",
       "      <td>3.285260e+08</td>\n",
       "      <td>3.879920e+08</td>\n",
       "      <td>4.068240e+08</td>\n",
       "      <td>3.526450e+08</td>\n",
       "      <td>3.339215e+08</td>\n",
       "      <td>3.957690e+08</td>\n",
       "      <td>4.516550e+08</td>\n",
       "      <td>4.100000e+08</td>\n",
       "      <td>3.975400e+08</td>\n",
       "      <td>4.186700e+08</td>\n",
       "      <td>5.546500e+08</td>\n",
       "      <td>5.421950e+08</td>\n",
       "      <td>4.192300e+08</td>\n",
       "    </tr>\n",
       "    <tr>\n",
       "      <th>Potatoes</th>\n",
       "      <td>1.125000e+08</td>\n",
       "      <td>4.050000e+07</td>\n",
       "      <td>4.500000e+07</td>\n",
       "      <td>5.760000e+07</td>\n",
       "      <td>1.592000e+08</td>\n",
       "      <td>1.273000e+08</td>\n",
       "      <td>1.624647e+08</td>\n",
       "      <td>1.299718e+08</td>\n",
       "      <td>6.497858e+07</td>\n",
       "      <td>1.299572e+08</td>\n",
       "      <td>1.915089e+08</td>\n",
       "      <td>1.862500e+08</td>\n",
       "      <td>1.823376e+08</td>\n",
       "      <td>1.572005e+08</td>\n",
       "      <td>1.925706e+08</td>\n",
       "    </tr>\n",
       "    <tr>\n",
       "      <th>Poultry and Eggs</th>\n",
       "      <td>2.074583e+09</td>\n",
       "      <td>1.816510e+09</td>\n",
       "      <td>1.890748e+09</td>\n",
       "      <td>1.907336e+09</td>\n",
       "      <td>2.126251e+09</td>\n",
       "      <td>2.065580e+09</td>\n",
       "      <td>1.891930e+09</td>\n",
       "      <td>1.927925e+09</td>\n",
       "      <td>2.299422e+09</td>\n",
       "      <td>2.479156e+09</td>\n",
       "      <td>3.162511e+09</td>\n",
       "      <td>3.330570e+09</td>\n",
       "      <td>3.478911e+09</td>\n",
       "      <td>3.614510e+09</td>\n",
       "      <td>4.659228e+09</td>\n",
       "    </tr>\n",
       "    <tr>\n",
       "      <th>Pulses</th>\n",
       "      <td>3.220000e+07</td>\n",
       "      <td>3.140000e+07</td>\n",
       "      <td>3.140000e+07</td>\n",
       "      <td>2.510000e+07</td>\n",
       "      <td>3.340000e+07</td>\n",
       "      <td>3.840000e+07</td>\n",
       "      <td>2.273772e+07</td>\n",
       "      <td>1.912567e+07</td>\n",
       "      <td>3.378165e+07</td>\n",
       "      <td>2.821426e+07</td>\n",
       "      <td>4.157742e+07</td>\n",
       "      <td>5.912000e+07</td>\n",
       "      <td>4.346904e+07</td>\n",
       "      <td>3.747638e+07</td>\n",
       "      <td>4.654187e+07</td>\n",
       "    </tr>\n",
       "    <tr>\n",
       "      <th>Pyrethrum</th>\n",
       "      <td>7.690970e+08</td>\n",
       "      <td>1.720357e+09</td>\n",
       "      <td>1.051028e+09</td>\n",
       "      <td>4.119664e+08</td>\n",
       "      <td>1.612940e+08</td>\n",
       "      <td>9.933350e+07</td>\n",
       "      <td>1.317890e+08</td>\n",
       "      <td>1.229375e+08</td>\n",
       "      <td>6.884500e+07</td>\n",
       "      <td>5.704300e+07</td>\n",
       "      <td>6.884500e+07</td>\n",
       "      <td>9.840000e+06</td>\n",
       "      <td>4.229050e+07</td>\n",
       "      <td>3.560685e+07</td>\n",
       "      <td>3.655527e+07</td>\n",
       "    </tr>\n",
       "    <tr>\n",
       "      <th>Rice (paddy)</th>\n",
       "      <td>3.032644e+08</td>\n",
       "      <td>3.093297e+08</td>\n",
       "      <td>3.117510e+08</td>\n",
       "      <td>4.150144e+08</td>\n",
       "      <td>5.994854e+08</td>\n",
       "      <td>6.024418e+08</td>\n",
       "      <td>8.467889e+08</td>\n",
       "      <td>6.387386e+08</td>\n",
       "      <td>5.930346e+08</td>\n",
       "      <td>1.141510e+09</td>\n",
       "      <td>1.263440e+09</td>\n",
       "      <td>1.315384e+09</td>\n",
       "      <td>6.872533e+08</td>\n",
       "      <td>7.596500e+08</td>\n",
       "      <td>8.278237e+08</td>\n",
       "    </tr>\n",
       "    <tr>\n",
       "      <th>Sheep, goats and lambs for slaughter</th>\n",
       "      <td>1.457348e+09</td>\n",
       "      <td>2.421000e+09</td>\n",
       "      <td>2.179800e+09</td>\n",
       "      <td>2.070000e+09</td>\n",
       "      <td>2.268000e+09</td>\n",
       "      <td>2.566800e+09</td>\n",
       "      <td>2.694965e+09</td>\n",
       "      <td>2.964600e+09</td>\n",
       "      <td>3.123000e+09</td>\n",
       "      <td>3.367800e+09</td>\n",
       "      <td>4.041360e+09</td>\n",
       "      <td>4.101430e+09</td>\n",
       "      <td>4.212662e+09</td>\n",
       "      <td>4.249753e+09</td>\n",
       "      <td>4.542158e+09</td>\n",
       "    </tr>\n",
       "    <tr>\n",
       "      <th>Sugar-cane</th>\n",
       "      <td>7.154846e+09</td>\n",
       "      <td>9.070246e+09</td>\n",
       "      <td>8.471171e+09</td>\n",
       "      <td>9.391905e+09</td>\n",
       "      <td>9.673652e+09</td>\n",
       "      <td>9.939671e+09</td>\n",
       "      <td>1.048649e+10</td>\n",
       "      <td>1.032853e+10</td>\n",
       "      <td>1.130556e+10</td>\n",
       "      <td>1.150482e+10</td>\n",
       "      <td>1.075720e+10</td>\n",
       "      <td>1.173261e+10</td>\n",
       "      <td>1.344350e+10</td>\n",
       "      <td>1.305247e+10</td>\n",
       "      <td>1.380120e+10</td>\n",
       "    </tr>\n",
       "    <tr>\n",
       "      <th>Tea</th>\n",
       "      <td>3.856454e+10</td>\n",
       "      <td>3.757868e+10</td>\n",
       "      <td>3.843850e+10</td>\n",
       "      <td>4.248797e+10</td>\n",
       "      <td>4.299714e+10</td>\n",
       "      <td>4.065159e+10</td>\n",
       "      <td>4.837694e+10</td>\n",
       "      <td>4.526176e+10</td>\n",
       "      <td>3.981674e+10</td>\n",
       "      <td>5.222511e+10</td>\n",
       "      <td>4.946333e+10</td>\n",
       "      <td>4.837197e+10</td>\n",
       "      <td>5.660382e+10</td>\n",
       "      <td>5.825980e+10</td>\n",
       "      <td>5.225282e+10</td>\n",
       "    </tr>\n",
       "    <tr>\n",
       "      <th>Tobacco</th>\n",
       "      <td>8.061888e+08</td>\n",
       "      <td>8.168885e+08</td>\n",
       "      <td>8.739535e+08</td>\n",
       "      <td>7.089454e+08</td>\n",
       "      <td>8.882925e+08</td>\n",
       "      <td>6.159018e+08</td>\n",
       "      <td>6.789790e+08</td>\n",
       "      <td>6.200725e+08</td>\n",
       "      <td>7.467946e+08</td>\n",
       "      <td>1.030373e+09</td>\n",
       "      <td>9.598918e+08</td>\n",
       "      <td>8.390900e+08</td>\n",
       "      <td>4.032788e+08</td>\n",
       "      <td>6.807040e+08</td>\n",
       "      <td>6.309177e+08</td>\n",
       "    </tr>\n",
       "    <tr>\n",
       "      <th>Total Crops</th>\n",
       "      <td>8.393605e+10</td>\n",
       "      <td>9.827436e+10</td>\n",
       "      <td>9.232004e+10</td>\n",
       "      <td>1.000000e+11</td>\n",
       "      <td>1.070000e+11</td>\n",
       "      <td>1.070000e+11</td>\n",
       "      <td>1.300000e+11</td>\n",
       "      <td>1.210000e+11</td>\n",
       "      <td>1.130000e+11</td>\n",
       "      <td>1.190000e+11</td>\n",
       "      <td>1.330000e+11</td>\n",
       "      <td>1.330000e+11</td>\n",
       "      <td>1.440000e+11</td>\n",
       "      <td>1.480000e+11</td>\n",
       "      <td>1.430000e+11</td>\n",
       "    </tr>\n",
       "    <tr>\n",
       "      <th>Vegetables</th>\n",
       "      <td>8.035000e+09</td>\n",
       "      <td>2.022966e+10</td>\n",
       "      <td>1.132785e+10</td>\n",
       "      <td>1.199672e+10</td>\n",
       "      <td>1.464934e+10</td>\n",
       "      <td>1.416917e+10</td>\n",
       "      <td>2.053242e+10</td>\n",
       "      <td>1.983436e+10</td>\n",
       "      <td>1.745135e+10</td>\n",
       "      <td>1.446657e+10</td>\n",
       "      <td>1.907372e+10</td>\n",
       "      <td>1.597151e+10</td>\n",
       "      <td>1.857602e+10</td>\n",
       "      <td>1.693010e+10</td>\n",
       "      <td>1.659501e+10</td>\n",
       "    </tr>\n",
       "    <tr>\n",
       "      <th>Wheat</th>\n",
       "      <td>2.375240e+09</td>\n",
       "      <td>1.031351e+09</td>\n",
       "      <td>1.297451e+09</td>\n",
       "      <td>1.514321e+09</td>\n",
       "      <td>2.207526e+09</td>\n",
       "      <td>1.775638e+09</td>\n",
       "      <td>1.978860e+09</td>\n",
       "      <td>1.511297e+09</td>\n",
       "      <td>2.265841e+09</td>\n",
       "      <td>3.501202e+09</td>\n",
       "      <td>1.857367e+09</td>\n",
       "      <td>2.791320e+09</td>\n",
       "      <td>5.369393e+09</td>\n",
       "      <td>3.935494e+09</td>\n",
       "      <td>4.015923e+09</td>\n",
       "    </tr>\n",
       "    <tr>\n",
       "      <th>Wool</th>\n",
       "      <td>1.172500e+07</td>\n",
       "      <td>1.947800e+07</td>\n",
       "      <td>1.440000e+07</td>\n",
       "      <td>9.275000e+06</td>\n",
       "      <td>7.275000e+06</td>\n",
       "      <td>4.100000e+06</td>\n",
       "      <td>4.305000e+06</td>\n",
       "      <td>1.735350e+06</td>\n",
       "      <td>9.250000e+05</td>\n",
       "      <td>9.500000e+05</td>\n",
       "      <td>6.958500e+05</td>\n",
       "      <td>6.000000e+05</td>\n",
       "      <td>1.198500e+05</td>\n",
       "      <td>2.250000e+05</td>\n",
       "      <td>2.000000e+05</td>\n",
       "    </tr>\n",
       "  </tbody>\n",
       "</table>\n",
       "</div>"
      ],
      "text/plain": [
       "                                                0             1   \\\n",
       "Year                                  2.001000e+03  2.002000e+03   \n",
       "Barley                                8.065350e+08  6.844705e+08   \n",
       "Cattle and Calves for slaughter       9.078642e+09  1.159200e+10   \n",
       "Coffee                                6.424189e+09  5.356101e+09   \n",
       "Cotton                                         NaN  2.008800e+07   \n",
       "Cut flowers                           1.062700e+10  1.337661e+10   \n",
       "Dairy products                        1.919632e+09  2.314000e+09   \n",
       "Grand Total                           9.940383e+10  1.170000e+11   \n",
       "Hides and skins                       6.084000e+08  6.205680e+08   \n",
       "Maize                                 5.187450e+09  5.422041e+09   \n",
       "Number of Records                     1.000000e+00  1.000000e+00   \n",
       "Other Cereals                         7.971564e+08  6.773225e+08   \n",
       "Other Temporary Crops                 1.234000e+08  6.132000e+07   \n",
       "Pigs for slaughter                    3.174480e+08  2.857032e+08   \n",
       "Potatoes                              1.125000e+08  4.050000e+07   \n",
       "Poultry and Eggs                      2.074583e+09  1.816510e+09   \n",
       "Pulses                                3.220000e+07  3.140000e+07   \n",
       "Pyrethrum                             7.690970e+08  1.720357e+09   \n",
       "Rice (paddy)                          3.032644e+08  3.093297e+08   \n",
       "Sheep, goats and lambs for slaughter  1.457348e+09  2.421000e+09   \n",
       "Sugar-cane                            7.154846e+09  9.070246e+09   \n",
       "Tea                                   3.856454e+10  3.757868e+10   \n",
       "Tobacco                               8.061888e+08  8.168885e+08   \n",
       "Total Crops                           8.393605e+10  9.827436e+10   \n",
       "Vegetables                            8.035000e+09  2.022966e+10   \n",
       "Wheat                                 2.375240e+09  1.031351e+09   \n",
       "Wool                                  1.172500e+07  1.947800e+07   \n",
       "\n",
       "                                                2             3   \\\n",
       "Year                                  2.003000e+03  2.004000e+03   \n",
       "Barley                                5.624060e+08  5.071852e+08   \n",
       "Cattle and Calves for slaughter       1.043280e+10  9.126000e+09   \n",
       "Coffee                                7.209887e+09  5.879311e+09   \n",
       "Cotton                                3.020400e+07  3.960000e+07   \n",
       "Cut flowers                           1.607360e+10  1.814063e+10   \n",
       "Dairy products                        2.642842e+09  3.562783e+09   \n",
       "Grand Total                           1.100000e+11  1.180000e+11   \n",
       "Hides and skins                       5.585112e+08  4.885258e+08   \n",
       "Maize                                 3.813988e+09  6.098432e+09   \n",
       "Number of Records                     1.000000e+00  1.000000e+00   \n",
       "Other Cereals                         7.294242e+08  7.867518e+08   \n",
       "Other Temporary Crops                 6.515000e+07  7.053000e+07   \n",
       "Pigs for slaughter                    3.285260e+08  3.879920e+08   \n",
       "Potatoes                              4.500000e+07  5.760000e+07   \n",
       "Poultry and Eggs                      1.890748e+09  1.907336e+09   \n",
       "Pulses                                3.140000e+07  2.510000e+07   \n",
       "Pyrethrum                             1.051028e+09  4.119664e+08   \n",
       "Rice (paddy)                          3.117510e+08  4.150144e+08   \n",
       "Sheep, goats and lambs for slaughter  2.179800e+09  2.070000e+09   \n",
       "Sugar-cane                            8.471171e+09  9.391905e+09   \n",
       "Tea                                   3.843850e+10  4.248797e+10   \n",
       "Tobacco                               8.739535e+08  7.089454e+08   \n",
       "Total Crops                           9.232004e+10  1.000000e+11   \n",
       "Vegetables                            1.132785e+10  1.199672e+10   \n",
       "Wheat                                 1.297451e+09  1.514321e+09   \n",
       "Wool                                  1.440000e+07  9.275000e+06   \n",
       "\n",
       "                                                4             5   \\\n",
       "Year                                  2.005000e+03  2.006000e+03   \n",
       "Barley                                9.927379e+08  1.350471e+09   \n",
       "Cattle and Calves for slaughter       9.936000e+09  1.062900e+10   \n",
       "Coffee                                5.611288e+09  5.950203e+09   \n",
       "Cotton                                4.899600e+07  5.702400e+07   \n",
       "Cut flowers                           2.084866e+10  2.220023e+10   \n",
       "Dairy products                        4.317014e+09  4.690413e+09   \n",
       "Grand Total                           1.270000e+11  1.280000e+11   \n",
       "Hides and skins                       5.619000e+08           NaN   \n",
       "Maize                                 5.660054e+09  6.401069e+09   \n",
       "Number of Records                     1.000000e+00  1.000000e+00   \n",
       "Other Cereals                         1.173800e+09  1.224835e+09   \n",
       "Other Temporary Crops                 1.642500e+08  1.413100e+08   \n",
       "Pigs for slaughter                    4.068240e+08  3.526450e+08   \n",
       "Potatoes                              1.592000e+08  1.273000e+08   \n",
       "Poultry and Eggs                      2.126251e+09  2.065580e+09   \n",
       "Pulses                                3.340000e+07  3.840000e+07   \n",
       "Pyrethrum                             1.612940e+08  9.933350e+07   \n",
       "Rice (paddy)                          5.994854e+08  6.024418e+08   \n",
       "Sheep, goats and lambs for slaughter  2.268000e+09  2.566800e+09   \n",
       "Sugar-cane                            9.673652e+09  9.939671e+09   \n",
       "Tea                                   4.299714e+10  4.065159e+10   \n",
       "Tobacco                               8.882925e+08  6.159018e+08   \n",
       "Total Crops                           1.070000e+11  1.070000e+11   \n",
       "Vegetables                            1.464934e+10  1.416917e+10   \n",
       "Wheat                                 2.207526e+09  1.775638e+09   \n",
       "Wool                                  7.275000e+06  4.100000e+06   \n",
       "\n",
       "                                                6             7   \\\n",
       "Year                                  2.007000e+03  2.008000e+03   \n",
       "Barley                                1.006745e+09  6.741444e+08   \n",
       "Cattle and Calves for slaughter       9.564882e+09  1.052100e+10   \n",
       "Coffee                                6.158900e+09  4.557351e+09   \n",
       "Cotton                                2.752800e+08  2.736400e+08   \n",
       "Cut flowers                           2.788411e+10  2.864847e+10   \n",
       "Dairy products                        5.500441e+09  5.180648e+09   \n",
       "Grand Total                           1.510000e+11  1.430000e+11   \n",
       "Hides and skins                                NaN  7.668706e+08   \n",
       "Maize                                 6.918662e+09  4.630119e+09   \n",
       "Number of Records                     1.000000e+00  1.000000e+00   \n",
       "Other Cereals                         1.477113e+09  5.893822e+08   \n",
       "Other Temporary Crops                          NaN  1.271500e+08   \n",
       "Pigs for slaughter                    3.339215e+08  3.957690e+08   \n",
       "Potatoes                              1.624647e+08  1.299718e+08   \n",
       "Poultry and Eggs                      1.891930e+09  1.927925e+09   \n",
       "Pulses                                2.273772e+07  1.912567e+07   \n",
       "Pyrethrum                             1.317890e+08  1.229375e+08   \n",
       "Rice (paddy)                          8.467889e+08  6.387386e+08   \n",
       "Sheep, goats and lambs for slaughter  2.694965e+09  2.964600e+09   \n",
       "Sugar-cane                            1.048649e+10  1.032853e+10   \n",
       "Tea                                   4.837694e+10  4.526176e+10   \n",
       "Tobacco                               6.789790e+08  6.200725e+08   \n",
       "Total Crops                           1.300000e+11  1.210000e+11   \n",
       "Vegetables                            2.053242e+10  1.983436e+10   \n",
       "Wheat                                 1.978860e+09  1.511297e+09   \n",
       "Wool                                  4.305000e+06  1.735350e+06   \n",
       "\n",
       "                                                8             9   \\\n",
       "Year                                  2.009000e+03  2.010000e+03   \n",
       "Barley                                7.019583e+08  7.950010e+08   \n",
       "Cattle and Calves for slaughter       1.143900e+10  1.070100e+10   \n",
       "Coffee                                5.762399e+09  4.580903e+09   \n",
       "Cotton                                2.682000e+08  2.124000e+08   \n",
       "Cut flowers                           2.659997e+10  2.069906e+10   \n",
       "Dairy products                        5.284899e+09  6.704694e+09   \n",
       "Grand Total                           1.360000e+11  1.430000e+11   \n",
       "Hides and skins                       8.146500e+08  7.618500e+08   \n",
       "Maize                                 2.596606e+09  4.005971e+09   \n",
       "Number of Records                     1.000000e+00  1.000000e+00   \n",
       "Other Cereals                         9.746662e+08  1.375999e+09   \n",
       "Other Temporary Crops                 1.271500e+08  1.366600e+08   \n",
       "Pigs for slaughter                    4.516550e+08  4.100000e+08   \n",
       "Potatoes                              6.497858e+07  1.299572e+08   \n",
       "Poultry and Eggs                      2.299422e+09  2.479156e+09   \n",
       "Pulses                                3.378165e+07  2.821426e+07   \n",
       "Pyrethrum                             6.884500e+07  5.704300e+07   \n",
       "Rice (paddy)                          5.930346e+08  1.141510e+09   \n",
       "Sheep, goats and lambs for slaughter  3.123000e+09  3.367800e+09   \n",
       "Sugar-cane                            1.130556e+10  1.150482e+10   \n",
       "Tea                                   3.981674e+10  5.222511e+10   \n",
       "Tobacco                               7.467946e+08  1.030373e+09   \n",
       "Total Crops                           1.130000e+11  1.190000e+11   \n",
       "Vegetables                            1.745135e+10  1.446657e+10   \n",
       "Wheat                                 2.265841e+09  3.501202e+09   \n",
       "Wool                                  9.250000e+05  9.500000e+05   \n",
       "\n",
       "                                                10            11  \\\n",
       "Year                                  2.011000e+03  2.012000e+03   \n",
       "Barley                                8.433925e+08  6.660100e+08   \n",
       "Cattle and Calves for slaughter       1.893060e+10  1.974794e+10   \n",
       "Coffee                                3.532830e+09  5.422980e+09   \n",
       "Cotton                                3.960000e+08  2.119075e+08   \n",
       "Cut flowers                           3.361747e+10  3.311166e+10   \n",
       "Dairy products                        7.136956e+09  6.464710e+09   \n",
       "Grand Total                           1.680000e+11  1.680000e+11   \n",
       "Hides and skins                       8.062971e+08  8.411100e+08   \n",
       "Maize                                 5.518538e+09  5.266560e+09   \n",
       "Number of Records                     1.000000e+00  1.000000e+00   \n",
       "Other Cereals                         1.473466e+09  1.920670e+09   \n",
       "Other Temporary Crops                 2.013865e+08           NaN   \n",
       "Pigs for slaughter                    3.975400e+08  4.186700e+08   \n",
       "Potatoes                              1.915089e+08  1.862500e+08   \n",
       "Poultry and Eggs                      3.162511e+09  3.330570e+09   \n",
       "Pulses                                4.157742e+07  5.912000e+07   \n",
       "Pyrethrum                             6.884500e+07  9.840000e+06   \n",
       "Rice (paddy)                          1.263440e+09  1.315384e+09   \n",
       "Sheep, goats and lambs for slaughter  4.041360e+09  4.101430e+09   \n",
       "Sugar-cane                            1.075720e+10  1.173261e+10   \n",
       "Tea                                   4.946333e+10  4.837197e+10   \n",
       "Tobacco                               9.598918e+08  8.390900e+08   \n",
       "Total Crops                           1.330000e+11  1.330000e+11   \n",
       "Vegetables                            1.907372e+10  1.597151e+10   \n",
       "Wheat                                 1.857367e+09  2.791320e+09   \n",
       "Wool                                  6.958500e+05  6.000000e+05   \n",
       "\n",
       "                                                12            13            14  \n",
       "Year                                  2.013000e+03  2.014000e+03  2.015000e+03  \n",
       "Barley                                5.397840e+08  1.008527e+09  1.099036e+09  \n",
       "Cattle and Calves for slaughter       1.932573e+10  1.869042e+10  2.047061e+10  \n",
       "Coffee                                4.522394e+09  4.998927e+09  3.793812e+09  \n",
       "Cotton                                1.063188e+08  2.741400e+08  3.235404e+08  \n",
       "Cut flowers                           3.227277e+10  3.508866e+10  3.755343e+10  \n",
       "Dairy products                        6.754312e+09  7.037618e+09  7.804825e+09  \n",
       "Grand Total                           1.790000e+11  1.830000e+11  1.820000e+11  \n",
       "Hides and skins                       8.401928e+08  8.384578e+08  1.005765e+09  \n",
       "Maize                                 4.302557e+09  5.600619e+09  4.092723e+09  \n",
       "Number of Records                     1.000000e+00  1.000000e+00  1.000000e+00  \n",
       "Other Cereals                         2.213820e+09  2.324511e+09  2.343182e+09  \n",
       "Other Temporary Crops                 2.328300e+08  1.820378e+08  2.449897e+08  \n",
       "Pigs for slaughter                    5.546500e+08  5.421950e+08  4.192300e+08  \n",
       "Potatoes                              1.823376e+08  1.572005e+08  1.925706e+08  \n",
       "Poultry and Eggs                      3.478911e+09  3.614510e+09  4.659228e+09  \n",
       "Pulses                                4.346904e+07  3.747638e+07  4.654187e+07  \n",
       "Pyrethrum                             4.229050e+07  3.560685e+07  3.655527e+07  \n",
       "Rice (paddy)                          6.872533e+08  7.596500e+08  8.278237e+08  \n",
       "Sheep, goats and lambs for slaughter  4.212662e+09  4.249753e+09  4.542158e+09  \n",
       "Sugar-cane                            1.344350e+10  1.305247e+10  1.380120e+10  \n",
       "Tea                                   5.660382e+10  5.825980e+10  5.225282e+10  \n",
       "Tobacco                               4.032788e+08  6.807040e+08  6.309177e+08  \n",
       "Total Crops                           1.440000e+11  1.480000e+11  1.430000e+11  \n",
       "Vegetables                            1.857602e+10  1.693010e+10  1.659501e+10  \n",
       "Wheat                                 5.369393e+09  3.935494e+09  4.015923e+09  \n",
       "Wool                                  1.198500e+05  2.250000e+05  2.000000e+05  "
      ]
     },
     "execution_count": 3,
     "metadata": {},
     "output_type": "execute_result"
    }
   ],
   "source": [
    "del df['Fruits']\n",
    "df.transpose()"
   ]
  },
  {
   "cell_type": "code",
   "execution_count": 4,
   "id": "d03cf764",
   "metadata": {},
   "outputs": [
    {
     "data": {
      "text/html": [
       "<div>\n",
       "<style scoped>\n",
       "    .dataframe tbody tr th:only-of-type {\n",
       "        vertical-align: middle;\n",
       "    }\n",
       "\n",
       "    .dataframe tbody tr th {\n",
       "        vertical-align: top;\n",
       "    }\n",
       "\n",
       "    .dataframe thead th {\n",
       "        text-align: right;\n",
       "    }\n",
       "</style>\n",
       "<table border=\"1\" class=\"dataframe\">\n",
       "  <thead>\n",
       "    <tr style=\"text-align: right;\">\n",
       "      <th></th>\n",
       "      <th>Year</th>\n",
       "      <th>Barley</th>\n",
       "      <th>Cattle and Calves for slaughter</th>\n",
       "      <th>Coffee</th>\n",
       "      <th>Cotton</th>\n",
       "      <th>Cut flowers</th>\n",
       "      <th>Dairy products</th>\n",
       "      <th>Grand Total</th>\n",
       "      <th>Hides and skins</th>\n",
       "      <th>Maize</th>\n",
       "      <th>...</th>\n",
       "      <th>Pyrethrum</th>\n",
       "      <th>Rice (paddy)</th>\n",
       "      <th>Sheep, goats and lambs for slaughter</th>\n",
       "      <th>Sugar-cane</th>\n",
       "      <th>Tea</th>\n",
       "      <th>Tobacco</th>\n",
       "      <th>Total Crops</th>\n",
       "      <th>Vegetables</th>\n",
       "      <th>Wheat</th>\n",
       "      <th>Wool</th>\n",
       "    </tr>\n",
       "  </thead>\n",
       "  <tbody>\n",
       "    <tr>\n",
       "      <th>0</th>\n",
       "      <td>2001</td>\n",
       "      <td>8.065350e+08</td>\n",
       "      <td>9078641509</td>\n",
       "      <td>6424188557</td>\n",
       "      <td>NaN</td>\n",
       "      <td>10627000000</td>\n",
       "      <td>1919632000</td>\n",
       "      <td>9.940383e+10</td>\n",
       "      <td>6.084000e+08</td>\n",
       "      <td>5187450000</td>\n",
       "      <td>...</td>\n",
       "      <td>7.690970e+08</td>\n",
       "      <td>3.032644e+08</td>\n",
       "      <td>1457348062</td>\n",
       "      <td>7154845880</td>\n",
       "      <td>38564542833</td>\n",
       "      <td>8.061888e+08</td>\n",
       "      <td>8.393605e+10</td>\n",
       "      <td>8035000000</td>\n",
       "      <td>2375240000</td>\n",
       "      <td>11725000.00</td>\n",
       "    </tr>\n",
       "    <tr>\n",
       "      <th>1</th>\n",
       "      <td>2002</td>\n",
       "      <td>6.844705e+08</td>\n",
       "      <td>11592000000</td>\n",
       "      <td>5356100822</td>\n",
       "      <td>20088000.0</td>\n",
       "      <td>13376614634</td>\n",
       "      <td>2314000000</td>\n",
       "      <td>1.170000e+11</td>\n",
       "      <td>6.205680e+08</td>\n",
       "      <td>5422041163</td>\n",
       "      <td>...</td>\n",
       "      <td>1.720357e+09</td>\n",
       "      <td>3.093297e+08</td>\n",
       "      <td>2421000000</td>\n",
       "      <td>9070246445</td>\n",
       "      <td>37578678600</td>\n",
       "      <td>8.168885e+08</td>\n",
       "      <td>9.827436e+10</td>\n",
       "      <td>20229658225</td>\n",
       "      <td>1031351153</td>\n",
       "      <td>19477999.62</td>\n",
       "    </tr>\n",
       "    <tr>\n",
       "      <th>2</th>\n",
       "      <td>2003</td>\n",
       "      <td>5.624060e+08</td>\n",
       "      <td>10432800000</td>\n",
       "      <td>7209886613</td>\n",
       "      <td>30204000.0</td>\n",
       "      <td>16073603836</td>\n",
       "      <td>2642842186</td>\n",
       "      <td>1.100000e+11</td>\n",
       "      <td>5.585112e+08</td>\n",
       "      <td>3813987500</td>\n",
       "      <td>...</td>\n",
       "      <td>1.051028e+09</td>\n",
       "      <td>3.117510e+08</td>\n",
       "      <td>2179800000</td>\n",
       "      <td>8471170825</td>\n",
       "      <td>38438495667</td>\n",
       "      <td>8.739535e+08</td>\n",
       "      <td>9.232004e+10</td>\n",
       "      <td>11327851045</td>\n",
       "      <td>1297451196</td>\n",
       "      <td>14400000.00</td>\n",
       "    </tr>\n",
       "    <tr>\n",
       "      <th>3</th>\n",
       "      <td>2004</td>\n",
       "      <td>5.071852e+08</td>\n",
       "      <td>9126000000</td>\n",
       "      <td>5879310723</td>\n",
       "      <td>39600000.0</td>\n",
       "      <td>18140628113</td>\n",
       "      <td>3562782600</td>\n",
       "      <td>1.180000e+11</td>\n",
       "      <td>4.885258e+08</td>\n",
       "      <td>6098431511</td>\n",
       "      <td>...</td>\n",
       "      <td>4.119664e+08</td>\n",
       "      <td>4.150144e+08</td>\n",
       "      <td>2070000000</td>\n",
       "      <td>9391904925</td>\n",
       "      <td>42487973581</td>\n",
       "      <td>7.089454e+08</td>\n",
       "      <td>1.000000e+11</td>\n",
       "      <td>11996722240</td>\n",
       "      <td>1514320898</td>\n",
       "      <td>9275000.00</td>\n",
       "    </tr>\n",
       "    <tr>\n",
       "      <th>4</th>\n",
       "      <td>2005</td>\n",
       "      <td>9.927379e+08</td>\n",
       "      <td>9936000000</td>\n",
       "      <td>5611287825</td>\n",
       "      <td>48996000.0</td>\n",
       "      <td>20848655820</td>\n",
       "      <td>4317014000</td>\n",
       "      <td>1.270000e+11</td>\n",
       "      <td>5.619000e+08</td>\n",
       "      <td>5660054444</td>\n",
       "      <td>...</td>\n",
       "      <td>1.612940e+08</td>\n",
       "      <td>5.994854e+08</td>\n",
       "      <td>2268000000</td>\n",
       "      <td>9673652300</td>\n",
       "      <td>42997136070</td>\n",
       "      <td>8.882925e+08</td>\n",
       "      <td>1.070000e+11</td>\n",
       "      <td>14649341602</td>\n",
       "      <td>2207525529</td>\n",
       "      <td>7275000.00</td>\n",
       "    </tr>\n",
       "    <tr>\n",
       "      <th>5</th>\n",
       "      <td>2006</td>\n",
       "      <td>1.350471e+09</td>\n",
       "      <td>10629000000</td>\n",
       "      <td>5950202544</td>\n",
       "      <td>57024000.0</td>\n",
       "      <td>22200230935</td>\n",
       "      <td>4690413000</td>\n",
       "      <td>1.280000e+11</td>\n",
       "      <td>NaN</td>\n",
       "      <td>6401069165</td>\n",
       "      <td>...</td>\n",
       "      <td>9.933350e+07</td>\n",
       "      <td>6.024418e+08</td>\n",
       "      <td>2566800000</td>\n",
       "      <td>9939670585</td>\n",
       "      <td>40651585478</td>\n",
       "      <td>6.159018e+08</td>\n",
       "      <td>1.070000e+11</td>\n",
       "      <td>14169167840</td>\n",
       "      <td>1775638100</td>\n",
       "      <td>4100000.00</td>\n",
       "    </tr>\n",
       "    <tr>\n",
       "      <th>6</th>\n",
       "      <td>2007</td>\n",
       "      <td>1.006745e+09</td>\n",
       "      <td>9564882186</td>\n",
       "      <td>6158900300</td>\n",
       "      <td>275280000.0</td>\n",
       "      <td>27884107544</td>\n",
       "      <td>5500441310</td>\n",
       "      <td>1.510000e+11</td>\n",
       "      <td>NaN</td>\n",
       "      <td>6918662400</td>\n",
       "      <td>...</td>\n",
       "      <td>1.317890e+08</td>\n",
       "      <td>8.467889e+08</td>\n",
       "      <td>2694965036</td>\n",
       "      <td>10486491210</td>\n",
       "      <td>48376944000</td>\n",
       "      <td>6.789790e+08</td>\n",
       "      <td>1.300000e+11</td>\n",
       "      <td>20532415419</td>\n",
       "      <td>1978860000</td>\n",
       "      <td>4305000.00</td>\n",
       "    </tr>\n",
       "    <tr>\n",
       "      <th>7</th>\n",
       "      <td>2008</td>\n",
       "      <td>6.741444e+08</td>\n",
       "      <td>10521000000</td>\n",
       "      <td>4557350700</td>\n",
       "      <td>273640000.0</td>\n",
       "      <td>28648474527</td>\n",
       "      <td>5180648044</td>\n",
       "      <td>1.430000e+11</td>\n",
       "      <td>7.668706e+08</td>\n",
       "      <td>4630119000</td>\n",
       "      <td>...</td>\n",
       "      <td>1.229375e+08</td>\n",
       "      <td>6.387386e+08</td>\n",
       "      <td>2964600000</td>\n",
       "      <td>10328529315</td>\n",
       "      <td>45261762000</td>\n",
       "      <td>6.200725e+08</td>\n",
       "      <td>1.210000e+11</td>\n",
       "      <td>19834361436</td>\n",
       "      <td>1511296800</td>\n",
       "      <td>1735350.00</td>\n",
       "    </tr>\n",
       "    <tr>\n",
       "      <th>8</th>\n",
       "      <td>2009</td>\n",
       "      <td>7.019583e+08</td>\n",
       "      <td>11439000000</td>\n",
       "      <td>5762399013</td>\n",
       "      <td>268200000.0</td>\n",
       "      <td>26599971012</td>\n",
       "      <td>5284898749</td>\n",
       "      <td>1.360000e+11</td>\n",
       "      <td>8.146500e+08</td>\n",
       "      <td>2596606090</td>\n",
       "      <td>...</td>\n",
       "      <td>6.884500e+07</td>\n",
       "      <td>5.930346e+08</td>\n",
       "      <td>3123000000</td>\n",
       "      <td>11305564530</td>\n",
       "      <td>39816738000</td>\n",
       "      <td>7.467946e+08</td>\n",
       "      <td>1.130000e+11</td>\n",
       "      <td>17451349565</td>\n",
       "      <td>2265840720</td>\n",
       "      <td>925000.00</td>\n",
       "    </tr>\n",
       "    <tr>\n",
       "      <th>9</th>\n",
       "      <td>2010</td>\n",
       "      <td>7.950010e+08</td>\n",
       "      <td>10701000000</td>\n",
       "      <td>4580902900</td>\n",
       "      <td>212400000.0</td>\n",
       "      <td>20699057903</td>\n",
       "      <td>6704693791</td>\n",
       "      <td>1.430000e+11</td>\n",
       "      <td>7.618500e+08</td>\n",
       "      <td>4005970800</td>\n",
       "      <td>...</td>\n",
       "      <td>5.704300e+07</td>\n",
       "      <td>1.141510e+09</td>\n",
       "      <td>3367800000</td>\n",
       "      <td>11504815790</td>\n",
       "      <td>52225110000</td>\n",
       "      <td>1.030373e+09</td>\n",
       "      <td>1.190000e+11</td>\n",
       "      <td>14466567018</td>\n",
       "      <td>3501201600</td>\n",
       "      <td>950000.00</td>\n",
       "    </tr>\n",
       "    <tr>\n",
       "      <th>10</th>\n",
       "      <td>2011</td>\n",
       "      <td>8.433925e+08</td>\n",
       "      <td>18930600000</td>\n",
       "      <td>3532830000</td>\n",
       "      <td>396000000.0</td>\n",
       "      <td>33617471411</td>\n",
       "      <td>7136956372</td>\n",
       "      <td>1.680000e+11</td>\n",
       "      <td>8.062971e+08</td>\n",
       "      <td>5518538126</td>\n",
       "      <td>...</td>\n",
       "      <td>6.884500e+07</td>\n",
       "      <td>1.263440e+09</td>\n",
       "      <td>4041360000</td>\n",
       "      <td>10757202430</td>\n",
       "      <td>49463331000</td>\n",
       "      <td>9.598918e+08</td>\n",
       "      <td>1.330000e+11</td>\n",
       "      <td>19073723303</td>\n",
       "      <td>1857367200</td>\n",
       "      <td>695850.00</td>\n",
       "    </tr>\n",
       "    <tr>\n",
       "      <th>11</th>\n",
       "      <td>2012</td>\n",
       "      <td>6.660100e+08</td>\n",
       "      <td>19747940000</td>\n",
       "      <td>5422980000</td>\n",
       "      <td>211907516.4</td>\n",
       "      <td>33111660000</td>\n",
       "      <td>6464710000</td>\n",
       "      <td>1.680000e+11</td>\n",
       "      <td>8.411100e+08</td>\n",
       "      <td>5266560000</td>\n",
       "      <td>...</td>\n",
       "      <td>9.840000e+06</td>\n",
       "      <td>1.315384e+09</td>\n",
       "      <td>4101430000</td>\n",
       "      <td>11732610000</td>\n",
       "      <td>48371970000</td>\n",
       "      <td>8.390900e+08</td>\n",
       "      <td>1.330000e+11</td>\n",
       "      <td>15971510000</td>\n",
       "      <td>2791320000</td>\n",
       "      <td>600000.00</td>\n",
       "    </tr>\n",
       "    <tr>\n",
       "      <th>12</th>\n",
       "      <td>2013</td>\n",
       "      <td>5.397840e+08</td>\n",
       "      <td>19325729443</td>\n",
       "      <td>4522394165</td>\n",
       "      <td>106318836.0</td>\n",
       "      <td>32272774417</td>\n",
       "      <td>6754311720</td>\n",
       "      <td>1.790000e+11</td>\n",
       "      <td>8.401928e+08</td>\n",
       "      <td>4302556998</td>\n",
       "      <td>...</td>\n",
       "      <td>4.229050e+07</td>\n",
       "      <td>6.872533e+08</td>\n",
       "      <td>4212661542</td>\n",
       "      <td>13443497665</td>\n",
       "      <td>56603816415</td>\n",
       "      <td>4.032788e+08</td>\n",
       "      <td>1.440000e+11</td>\n",
       "      <td>18576018892</td>\n",
       "      <td>5369392570</td>\n",
       "      <td>119850.00</td>\n",
       "    </tr>\n",
       "    <tr>\n",
       "      <th>13</th>\n",
       "      <td>2014</td>\n",
       "      <td>1.008527e+09</td>\n",
       "      <td>18690417000</td>\n",
       "      <td>4998926513</td>\n",
       "      <td>274140000.0</td>\n",
       "      <td>35088658853</td>\n",
       "      <td>7037618133</td>\n",
       "      <td>1.830000e+11</td>\n",
       "      <td>8.384578e+08</td>\n",
       "      <td>5600618828</td>\n",
       "      <td>...</td>\n",
       "      <td>3.560685e+07</td>\n",
       "      <td>7.596500e+08</td>\n",
       "      <td>4249752881</td>\n",
       "      <td>13052466765</td>\n",
       "      <td>58259803144</td>\n",
       "      <td>6.807040e+08</td>\n",
       "      <td>1.480000e+11</td>\n",
       "      <td>16930104468</td>\n",
       "      <td>3935493633</td>\n",
       "      <td>225000.00</td>\n",
       "    </tr>\n",
       "    <tr>\n",
       "      <th>14</th>\n",
       "      <td>2015</td>\n",
       "      <td>1.099036e+09</td>\n",
       "      <td>20470611834</td>\n",
       "      <td>3793812189</td>\n",
       "      <td>323540360.0</td>\n",
       "      <td>37553426914</td>\n",
       "      <td>7804824950</td>\n",
       "      <td>1.820000e+11</td>\n",
       "      <td>1.005765e+09</td>\n",
       "      <td>4092723147</td>\n",
       "      <td>...</td>\n",
       "      <td>3.655527e+07</td>\n",
       "      <td>8.278237e+08</td>\n",
       "      <td>4542158081</td>\n",
       "      <td>13801198571</td>\n",
       "      <td>52252815355</td>\n",
       "      <td>6.309177e+08</td>\n",
       "      <td>1.430000e+11</td>\n",
       "      <td>16595009394</td>\n",
       "      <td>4015923218</td>\n",
       "      <td>200000.00</td>\n",
       "    </tr>\n",
       "  </tbody>\n",
       "</table>\n",
       "<p>15 rows × 27 columns</p>\n",
       "</div>"
      ],
      "text/plain": [
       "    Year        Barley  Cattle and Calves for slaughter      Coffee  \\\n",
       "0   2001  8.065350e+08                       9078641509  6424188557   \n",
       "1   2002  6.844705e+08                      11592000000  5356100822   \n",
       "2   2003  5.624060e+08                      10432800000  7209886613   \n",
       "3   2004  5.071852e+08                       9126000000  5879310723   \n",
       "4   2005  9.927379e+08                       9936000000  5611287825   \n",
       "5   2006  1.350471e+09                      10629000000  5950202544   \n",
       "6   2007  1.006745e+09                       9564882186  6158900300   \n",
       "7   2008  6.741444e+08                      10521000000  4557350700   \n",
       "8   2009  7.019583e+08                      11439000000  5762399013   \n",
       "9   2010  7.950010e+08                      10701000000  4580902900   \n",
       "10  2011  8.433925e+08                      18930600000  3532830000   \n",
       "11  2012  6.660100e+08                      19747940000  5422980000   \n",
       "12  2013  5.397840e+08                      19325729443  4522394165   \n",
       "13  2014  1.008527e+09                      18690417000  4998926513   \n",
       "14  2015  1.099036e+09                      20470611834  3793812189   \n",
       "\n",
       "         Cotton  Cut flowers  Dairy products   Grand Total  Hides and skins  \\\n",
       "0           NaN  10627000000      1919632000  9.940383e+10     6.084000e+08   \n",
       "1    20088000.0  13376614634      2314000000  1.170000e+11     6.205680e+08   \n",
       "2    30204000.0  16073603836      2642842186  1.100000e+11     5.585112e+08   \n",
       "3    39600000.0  18140628113      3562782600  1.180000e+11     4.885258e+08   \n",
       "4    48996000.0  20848655820      4317014000  1.270000e+11     5.619000e+08   \n",
       "5    57024000.0  22200230935      4690413000  1.280000e+11              NaN   \n",
       "6   275280000.0  27884107544      5500441310  1.510000e+11              NaN   \n",
       "7   273640000.0  28648474527      5180648044  1.430000e+11     7.668706e+08   \n",
       "8   268200000.0  26599971012      5284898749  1.360000e+11     8.146500e+08   \n",
       "9   212400000.0  20699057903      6704693791  1.430000e+11     7.618500e+08   \n",
       "10  396000000.0  33617471411      7136956372  1.680000e+11     8.062971e+08   \n",
       "11  211907516.4  33111660000      6464710000  1.680000e+11     8.411100e+08   \n",
       "12  106318836.0  32272774417      6754311720  1.790000e+11     8.401928e+08   \n",
       "13  274140000.0  35088658853      7037618133  1.830000e+11     8.384578e+08   \n",
       "14  323540360.0  37553426914      7804824950  1.820000e+11     1.005765e+09   \n",
       "\n",
       "         Maize  ...     Pyrethrum  Rice (paddy)  \\\n",
       "0   5187450000  ...  7.690970e+08  3.032644e+08   \n",
       "1   5422041163  ...  1.720357e+09  3.093297e+08   \n",
       "2   3813987500  ...  1.051028e+09  3.117510e+08   \n",
       "3   6098431511  ...  4.119664e+08  4.150144e+08   \n",
       "4   5660054444  ...  1.612940e+08  5.994854e+08   \n",
       "5   6401069165  ...  9.933350e+07  6.024418e+08   \n",
       "6   6918662400  ...  1.317890e+08  8.467889e+08   \n",
       "7   4630119000  ...  1.229375e+08  6.387386e+08   \n",
       "8   2596606090  ...  6.884500e+07  5.930346e+08   \n",
       "9   4005970800  ...  5.704300e+07  1.141510e+09   \n",
       "10  5518538126  ...  6.884500e+07  1.263440e+09   \n",
       "11  5266560000  ...  9.840000e+06  1.315384e+09   \n",
       "12  4302556998  ...  4.229050e+07  6.872533e+08   \n",
       "13  5600618828  ...  3.560685e+07  7.596500e+08   \n",
       "14  4092723147  ...  3.655527e+07  8.278237e+08   \n",
       "\n",
       "    Sheep, goats and lambs for slaughter   Sugar-cane          Tea  \\\n",
       "0                             1457348062   7154845880  38564542833   \n",
       "1                             2421000000   9070246445  37578678600   \n",
       "2                             2179800000   8471170825  38438495667   \n",
       "3                             2070000000   9391904925  42487973581   \n",
       "4                             2268000000   9673652300  42997136070   \n",
       "5                             2566800000   9939670585  40651585478   \n",
       "6                             2694965036  10486491210  48376944000   \n",
       "7                             2964600000  10328529315  45261762000   \n",
       "8                             3123000000  11305564530  39816738000   \n",
       "9                             3367800000  11504815790  52225110000   \n",
       "10                            4041360000  10757202430  49463331000   \n",
       "11                            4101430000  11732610000  48371970000   \n",
       "12                            4212661542  13443497665  56603816415   \n",
       "13                            4249752881  13052466765  58259803144   \n",
       "14                            4542158081  13801198571  52252815355   \n",
       "\n",
       "         Tobacco   Total Crops   Vegetables       Wheat         Wool  \n",
       "0   8.061888e+08  8.393605e+10   8035000000  2375240000  11725000.00  \n",
       "1   8.168885e+08  9.827436e+10  20229658225  1031351153  19477999.62  \n",
       "2   8.739535e+08  9.232004e+10  11327851045  1297451196  14400000.00  \n",
       "3   7.089454e+08  1.000000e+11  11996722240  1514320898   9275000.00  \n",
       "4   8.882925e+08  1.070000e+11  14649341602  2207525529   7275000.00  \n",
       "5   6.159018e+08  1.070000e+11  14169167840  1775638100   4100000.00  \n",
       "6   6.789790e+08  1.300000e+11  20532415419  1978860000   4305000.00  \n",
       "7   6.200725e+08  1.210000e+11  19834361436  1511296800   1735350.00  \n",
       "8   7.467946e+08  1.130000e+11  17451349565  2265840720    925000.00  \n",
       "9   1.030373e+09  1.190000e+11  14466567018  3501201600    950000.00  \n",
       "10  9.598918e+08  1.330000e+11  19073723303  1857367200    695850.00  \n",
       "11  8.390900e+08  1.330000e+11  15971510000  2791320000    600000.00  \n",
       "12  4.032788e+08  1.440000e+11  18576018892  5369392570    119850.00  \n",
       "13  6.807040e+08  1.480000e+11  16930104468  3935493633    225000.00  \n",
       "14  6.309177e+08  1.430000e+11  16595009394  4015923218    200000.00  \n",
       "\n",
       "[15 rows x 27 columns]"
      ]
     },
     "execution_count": 4,
     "metadata": {},
     "output_type": "execute_result"
    }
   ],
   "source": [
    "df"
   ]
  },
  {
   "cell_type": "code",
   "execution_count": 5,
   "id": "c7795b3a",
   "metadata": {},
   "outputs": [
    {
     "data": {
      "text/html": [
       "<div>\n",
       "<style scoped>\n",
       "    .dataframe tbody tr th:only-of-type {\n",
       "        vertical-align: middle;\n",
       "    }\n",
       "\n",
       "    .dataframe tbody tr th {\n",
       "        vertical-align: top;\n",
       "    }\n",
       "\n",
       "    .dataframe thead th {\n",
       "        text-align: right;\n",
       "    }\n",
       "</style>\n",
       "<table border=\"1\" class=\"dataframe\">\n",
       "  <thead>\n",
       "    <tr style=\"text-align: right;\">\n",
       "      <th></th>\n",
       "      <th>Year</th>\n",
       "      <th>Barley</th>\n",
       "      <th>Cattle and Calves for slaughter</th>\n",
       "      <th>Coffee</th>\n",
       "      <th>Cotton</th>\n",
       "      <th>Cut flowers</th>\n",
       "      <th>Dairy products</th>\n",
       "      <th>Grand Total</th>\n",
       "      <th>Hides and skins</th>\n",
       "      <th>Maize</th>\n",
       "      <th>...</th>\n",
       "      <th>Pyrethrum</th>\n",
       "      <th>Rice (paddy)</th>\n",
       "      <th>Sheep, goats and lambs for slaughter</th>\n",
       "      <th>Sugar-cane</th>\n",
       "      <th>Tea</th>\n",
       "      <th>Tobacco</th>\n",
       "      <th>Total Crops</th>\n",
       "      <th>Vegetables</th>\n",
       "      <th>Wheat</th>\n",
       "      <th>Wool</th>\n",
       "    </tr>\n",
       "  </thead>\n",
       "  <tbody>\n",
       "    <tr>\n",
       "      <th>0</th>\n",
       "      <td>2001</td>\n",
       "      <td>806535030.0</td>\n",
       "      <td>9078641509</td>\n",
       "      <td>6424188557</td>\n",
       "      <td>NaN</td>\n",
       "      <td>10627000000</td>\n",
       "      <td>1919632000</td>\n",
       "      <td>9.940383e+10</td>\n",
       "      <td>608400000.0</td>\n",
       "      <td>5187450000</td>\n",
       "      <td>...</td>\n",
       "      <td>7.690970e+08</td>\n",
       "      <td>303264445.0</td>\n",
       "      <td>1457348062</td>\n",
       "      <td>7154845880</td>\n",
       "      <td>38564542833</td>\n",
       "      <td>806188812.0</td>\n",
       "      <td>8.393605e+10</td>\n",
       "      <td>8035000000</td>\n",
       "      <td>2375240000</td>\n",
       "      <td>11725000.00</td>\n",
       "    </tr>\n",
       "    <tr>\n",
       "      <th>1</th>\n",
       "      <td>2002</td>\n",
       "      <td>684470535.0</td>\n",
       "      <td>11592000000</td>\n",
       "      <td>5356100822</td>\n",
       "      <td>20088000.0</td>\n",
       "      <td>13376614634</td>\n",
       "      <td>2314000000</td>\n",
       "      <td>1.170000e+11</td>\n",
       "      <td>620568000.0</td>\n",
       "      <td>5422041163</td>\n",
       "      <td>...</td>\n",
       "      <td>1.720357e+09</td>\n",
       "      <td>309329733.9</td>\n",
       "      <td>2421000000</td>\n",
       "      <td>9070246445</td>\n",
       "      <td>37578678600</td>\n",
       "      <td>816888501.0</td>\n",
       "      <td>9.827436e+10</td>\n",
       "      <td>20229658225</td>\n",
       "      <td>1031351153</td>\n",
       "      <td>19477999.62</td>\n",
       "    </tr>\n",
       "    <tr>\n",
       "      <th>2</th>\n",
       "      <td>2003</td>\n",
       "      <td>562406040.0</td>\n",
       "      <td>10432800000</td>\n",
       "      <td>7209886613</td>\n",
       "      <td>30204000.0</td>\n",
       "      <td>16073603836</td>\n",
       "      <td>2642842186</td>\n",
       "      <td>1.100000e+11</td>\n",
       "      <td>558511200.0</td>\n",
       "      <td>3813987500</td>\n",
       "      <td>...</td>\n",
       "      <td>1.051028e+09</td>\n",
       "      <td>311751000.0</td>\n",
       "      <td>2179800000</td>\n",
       "      <td>8471170825</td>\n",
       "      <td>38438495667</td>\n",
       "      <td>873953509.0</td>\n",
       "      <td>9.232004e+10</td>\n",
       "      <td>11327851045</td>\n",
       "      <td>1297451196</td>\n",
       "      <td>14400000.00</td>\n",
       "    </tr>\n",
       "    <tr>\n",
       "      <th>3</th>\n",
       "      <td>2004</td>\n",
       "      <td>507185151.9</td>\n",
       "      <td>9126000000</td>\n",
       "      <td>5879310723</td>\n",
       "      <td>39600000.0</td>\n",
       "      <td>18140628113</td>\n",
       "      <td>3562782600</td>\n",
       "      <td>1.180000e+11</td>\n",
       "      <td>488525776.5</td>\n",
       "      <td>6098431511</td>\n",
       "      <td>...</td>\n",
       "      <td>4.119664e+08</td>\n",
       "      <td>415014434.0</td>\n",
       "      <td>2070000000</td>\n",
       "      <td>9391904925</td>\n",
       "      <td>42487973581</td>\n",
       "      <td>708945380.0</td>\n",
       "      <td>1.000000e+11</td>\n",
       "      <td>11996722240</td>\n",
       "      <td>1514320898</td>\n",
       "      <td>9275000.00</td>\n",
       "    </tr>\n",
       "    <tr>\n",
       "      <th>4</th>\n",
       "      <td>2005</td>\n",
       "      <td>992737930.0</td>\n",
       "      <td>9936000000</td>\n",
       "      <td>5611287825</td>\n",
       "      <td>48996000.0</td>\n",
       "      <td>20848655820</td>\n",
       "      <td>4317014000</td>\n",
       "      <td>1.270000e+11</td>\n",
       "      <td>561900000.0</td>\n",
       "      <td>5660054444</td>\n",
       "      <td>...</td>\n",
       "      <td>1.612940e+08</td>\n",
       "      <td>599485425.5</td>\n",
       "      <td>2268000000</td>\n",
       "      <td>9673652300</td>\n",
       "      <td>42997136070</td>\n",
       "      <td>888292548.0</td>\n",
       "      <td>1.070000e+11</td>\n",
       "      <td>14649341602</td>\n",
       "      <td>2207525529</td>\n",
       "      <td>7275000.00</td>\n",
       "    </tr>\n",
       "  </tbody>\n",
       "</table>\n",
       "<p>5 rows × 27 columns</p>\n",
       "</div>"
      ],
      "text/plain": [
       "   Year       Barley  Cattle and Calves for slaughter      Coffee      Cotton  \\\n",
       "0  2001  806535030.0                       9078641509  6424188557         NaN   \n",
       "1  2002  684470535.0                      11592000000  5356100822  20088000.0   \n",
       "2  2003  562406040.0                      10432800000  7209886613  30204000.0   \n",
       "3  2004  507185151.9                       9126000000  5879310723  39600000.0   \n",
       "4  2005  992737930.0                       9936000000  5611287825  48996000.0   \n",
       "\n",
       "   Cut flowers  Dairy products   Grand Total  Hides and skins       Maize  \\\n",
       "0  10627000000      1919632000  9.940383e+10      608400000.0  5187450000   \n",
       "1  13376614634      2314000000  1.170000e+11      620568000.0  5422041163   \n",
       "2  16073603836      2642842186  1.100000e+11      558511200.0  3813987500   \n",
       "3  18140628113      3562782600  1.180000e+11      488525776.5  6098431511   \n",
       "4  20848655820      4317014000  1.270000e+11      561900000.0  5660054444   \n",
       "\n",
       "   ...     Pyrethrum  Rice (paddy)  Sheep, goats and lambs for slaughter  \\\n",
       "0  ...  7.690970e+08   303264445.0                            1457348062   \n",
       "1  ...  1.720357e+09   309329733.9                            2421000000   \n",
       "2  ...  1.051028e+09   311751000.0                            2179800000   \n",
       "3  ...  4.119664e+08   415014434.0                            2070000000   \n",
       "4  ...  1.612940e+08   599485425.5                            2268000000   \n",
       "\n",
       "   Sugar-cane          Tea      Tobacco   Total Crops   Vegetables  \\\n",
       "0  7154845880  38564542833  806188812.0  8.393605e+10   8035000000   \n",
       "1  9070246445  37578678600  816888501.0  9.827436e+10  20229658225   \n",
       "2  8471170825  38438495667  873953509.0  9.232004e+10  11327851045   \n",
       "3  9391904925  42487973581  708945380.0  1.000000e+11  11996722240   \n",
       "4  9673652300  42997136070  888292548.0  1.070000e+11  14649341602   \n",
       "\n",
       "        Wheat         Wool  \n",
       "0  2375240000  11725000.00  \n",
       "1  1031351153  19477999.62  \n",
       "2  1297451196  14400000.00  \n",
       "3  1514320898   9275000.00  \n",
       "4  2207525529   7275000.00  \n",
       "\n",
       "[5 rows x 27 columns]"
      ]
     },
     "execution_count": 5,
     "metadata": {},
     "output_type": "execute_result"
    }
   ],
   "source": [
    "df.head()"
   ]
  },
  {
   "cell_type": "code",
   "execution_count": 6,
   "id": "a586f92d",
   "metadata": {},
   "outputs": [],
   "source": [
    "df.drop(['Coffee'], axis=1, inplace=True)"
   ]
  },
  {
   "cell_type": "code",
   "execution_count": 7,
   "id": "b041df18",
   "metadata": {},
   "outputs": [
    {
     "data": {
      "text/html": [
       "<div>\n",
       "<style scoped>\n",
       "    .dataframe tbody tr th:only-of-type {\n",
       "        vertical-align: middle;\n",
       "    }\n",
       "\n",
       "    .dataframe tbody tr th {\n",
       "        vertical-align: top;\n",
       "    }\n",
       "\n",
       "    .dataframe thead th {\n",
       "        text-align: right;\n",
       "    }\n",
       "</style>\n",
       "<table border=\"1\" class=\"dataframe\">\n",
       "  <thead>\n",
       "    <tr style=\"text-align: right;\">\n",
       "      <th></th>\n",
       "      <th>Year</th>\n",
       "      <th>Barley</th>\n",
       "      <th>Cattle and Calves for slaughter</th>\n",
       "      <th>Cotton</th>\n",
       "      <th>Cut flowers</th>\n",
       "      <th>Dairy products</th>\n",
       "      <th>Grand Total</th>\n",
       "      <th>Hides and skins</th>\n",
       "      <th>Maize</th>\n",
       "      <th>Number of Records</th>\n",
       "      <th>...</th>\n",
       "      <th>Pyrethrum</th>\n",
       "      <th>Rice (paddy)</th>\n",
       "      <th>Sheep, goats and lambs for slaughter</th>\n",
       "      <th>Sugar-cane</th>\n",
       "      <th>Tea</th>\n",
       "      <th>Tobacco</th>\n",
       "      <th>Total Crops</th>\n",
       "      <th>Vegetables</th>\n",
       "      <th>Wheat</th>\n",
       "      <th>Wool</th>\n",
       "    </tr>\n",
       "  </thead>\n",
       "  <tbody>\n",
       "    <tr>\n",
       "      <th>0</th>\n",
       "      <td>2001</td>\n",
       "      <td>806535030.0</td>\n",
       "      <td>9078641509</td>\n",
       "      <td>NaN</td>\n",
       "      <td>10627000000</td>\n",
       "      <td>1919632000</td>\n",
       "      <td>9.940383e+10</td>\n",
       "      <td>608400000.0</td>\n",
       "      <td>5187450000</td>\n",
       "      <td>1</td>\n",
       "      <td>...</td>\n",
       "      <td>7.690970e+08</td>\n",
       "      <td>303264445.0</td>\n",
       "      <td>1457348062</td>\n",
       "      <td>7154845880</td>\n",
       "      <td>38564542833</td>\n",
       "      <td>806188812.0</td>\n",
       "      <td>8.393605e+10</td>\n",
       "      <td>8035000000</td>\n",
       "      <td>2375240000</td>\n",
       "      <td>11725000.00</td>\n",
       "    </tr>\n",
       "    <tr>\n",
       "      <th>1</th>\n",
       "      <td>2002</td>\n",
       "      <td>684470535.0</td>\n",
       "      <td>11592000000</td>\n",
       "      <td>20088000.0</td>\n",
       "      <td>13376614634</td>\n",
       "      <td>2314000000</td>\n",
       "      <td>1.170000e+11</td>\n",
       "      <td>620568000.0</td>\n",
       "      <td>5422041163</td>\n",
       "      <td>1</td>\n",
       "      <td>...</td>\n",
       "      <td>1.720357e+09</td>\n",
       "      <td>309329733.9</td>\n",
       "      <td>2421000000</td>\n",
       "      <td>9070246445</td>\n",
       "      <td>37578678600</td>\n",
       "      <td>816888501.0</td>\n",
       "      <td>9.827436e+10</td>\n",
       "      <td>20229658225</td>\n",
       "      <td>1031351153</td>\n",
       "      <td>19477999.62</td>\n",
       "    </tr>\n",
       "    <tr>\n",
       "      <th>2</th>\n",
       "      <td>2003</td>\n",
       "      <td>562406040.0</td>\n",
       "      <td>10432800000</td>\n",
       "      <td>30204000.0</td>\n",
       "      <td>16073603836</td>\n",
       "      <td>2642842186</td>\n",
       "      <td>1.100000e+11</td>\n",
       "      <td>558511200.0</td>\n",
       "      <td>3813987500</td>\n",
       "      <td>1</td>\n",
       "      <td>...</td>\n",
       "      <td>1.051028e+09</td>\n",
       "      <td>311751000.0</td>\n",
       "      <td>2179800000</td>\n",
       "      <td>8471170825</td>\n",
       "      <td>38438495667</td>\n",
       "      <td>873953509.0</td>\n",
       "      <td>9.232004e+10</td>\n",
       "      <td>11327851045</td>\n",
       "      <td>1297451196</td>\n",
       "      <td>14400000.00</td>\n",
       "    </tr>\n",
       "    <tr>\n",
       "      <th>3</th>\n",
       "      <td>2004</td>\n",
       "      <td>507185151.9</td>\n",
       "      <td>9126000000</td>\n",
       "      <td>39600000.0</td>\n",
       "      <td>18140628113</td>\n",
       "      <td>3562782600</td>\n",
       "      <td>1.180000e+11</td>\n",
       "      <td>488525776.5</td>\n",
       "      <td>6098431511</td>\n",
       "      <td>1</td>\n",
       "      <td>...</td>\n",
       "      <td>4.119664e+08</td>\n",
       "      <td>415014434.0</td>\n",
       "      <td>2070000000</td>\n",
       "      <td>9391904925</td>\n",
       "      <td>42487973581</td>\n",
       "      <td>708945380.0</td>\n",
       "      <td>1.000000e+11</td>\n",
       "      <td>11996722240</td>\n",
       "      <td>1514320898</td>\n",
       "      <td>9275000.00</td>\n",
       "    </tr>\n",
       "    <tr>\n",
       "      <th>4</th>\n",
       "      <td>2005</td>\n",
       "      <td>992737930.0</td>\n",
       "      <td>9936000000</td>\n",
       "      <td>48996000.0</td>\n",
       "      <td>20848655820</td>\n",
       "      <td>4317014000</td>\n",
       "      <td>1.270000e+11</td>\n",
       "      <td>561900000.0</td>\n",
       "      <td>5660054444</td>\n",
       "      <td>1</td>\n",
       "      <td>...</td>\n",
       "      <td>1.612940e+08</td>\n",
       "      <td>599485425.5</td>\n",
       "      <td>2268000000</td>\n",
       "      <td>9673652300</td>\n",
       "      <td>42997136070</td>\n",
       "      <td>888292548.0</td>\n",
       "      <td>1.070000e+11</td>\n",
       "      <td>14649341602</td>\n",
       "      <td>2207525529</td>\n",
       "      <td>7275000.00</td>\n",
       "    </tr>\n",
       "  </tbody>\n",
       "</table>\n",
       "<p>5 rows × 26 columns</p>\n",
       "</div>"
      ],
      "text/plain": [
       "   Year       Barley  Cattle and Calves for slaughter      Cotton  \\\n",
       "0  2001  806535030.0                       9078641509         NaN   \n",
       "1  2002  684470535.0                      11592000000  20088000.0   \n",
       "2  2003  562406040.0                      10432800000  30204000.0   \n",
       "3  2004  507185151.9                       9126000000  39600000.0   \n",
       "4  2005  992737930.0                       9936000000  48996000.0   \n",
       "\n",
       "   Cut flowers  Dairy products   Grand Total  Hides and skins       Maize  \\\n",
       "0  10627000000      1919632000  9.940383e+10      608400000.0  5187450000   \n",
       "1  13376614634      2314000000  1.170000e+11      620568000.0  5422041163   \n",
       "2  16073603836      2642842186  1.100000e+11      558511200.0  3813987500   \n",
       "3  18140628113      3562782600  1.180000e+11      488525776.5  6098431511   \n",
       "4  20848655820      4317014000  1.270000e+11      561900000.0  5660054444   \n",
       "\n",
       "   Number of Records  ...     Pyrethrum  Rice (paddy)  \\\n",
       "0                  1  ...  7.690970e+08   303264445.0   \n",
       "1                  1  ...  1.720357e+09   309329733.9   \n",
       "2                  1  ...  1.051028e+09   311751000.0   \n",
       "3                  1  ...  4.119664e+08   415014434.0   \n",
       "4                  1  ...  1.612940e+08   599485425.5   \n",
       "\n",
       "   Sheep, goats and lambs for slaughter  Sugar-cane          Tea      Tobacco  \\\n",
       "0                            1457348062  7154845880  38564542833  806188812.0   \n",
       "1                            2421000000  9070246445  37578678600  816888501.0   \n",
       "2                            2179800000  8471170825  38438495667  873953509.0   \n",
       "3                            2070000000  9391904925  42487973581  708945380.0   \n",
       "4                            2268000000  9673652300  42997136070  888292548.0   \n",
       "\n",
       "    Total Crops   Vegetables       Wheat         Wool  \n",
       "0  8.393605e+10   8035000000  2375240000  11725000.00  \n",
       "1  9.827436e+10  20229658225  1031351153  19477999.62  \n",
       "2  9.232004e+10  11327851045  1297451196  14400000.00  \n",
       "3  1.000000e+11  11996722240  1514320898   9275000.00  \n",
       "4  1.070000e+11  14649341602  2207525529   7275000.00  \n",
       "\n",
       "[5 rows x 26 columns]"
      ]
     },
     "execution_count": 7,
     "metadata": {},
     "output_type": "execute_result"
    }
   ],
   "source": [
    "df.head()"
   ]
  },
  {
   "cell_type": "code",
   "execution_count": 8,
   "id": "6631aa65",
   "metadata": {},
   "outputs": [],
   "source": [
    "df.rename(columns={'Cotton':'Cottonwool'}, inplace = True)"
   ]
  },
  {
   "cell_type": "code",
   "execution_count": 9,
   "id": "4502d4ba",
   "metadata": {},
   "outputs": [
    {
     "data": {
      "text/html": [
       "<div>\n",
       "<style scoped>\n",
       "    .dataframe tbody tr th:only-of-type {\n",
       "        vertical-align: middle;\n",
       "    }\n",
       "\n",
       "    .dataframe tbody tr th {\n",
       "        vertical-align: top;\n",
       "    }\n",
       "\n",
       "    .dataframe thead th {\n",
       "        text-align: right;\n",
       "    }\n",
       "</style>\n",
       "<table border=\"1\" class=\"dataframe\">\n",
       "  <thead>\n",
       "    <tr style=\"text-align: right;\">\n",
       "      <th></th>\n",
       "      <th>Year</th>\n",
       "      <th>Barley</th>\n",
       "      <th>Cattle and Calves for slaughter</th>\n",
       "      <th>Cottonwool</th>\n",
       "      <th>Cut flowers</th>\n",
       "      <th>Dairy products</th>\n",
       "      <th>Grand Total</th>\n",
       "      <th>Hides and skins</th>\n",
       "      <th>Maize</th>\n",
       "      <th>Number of Records</th>\n",
       "      <th>...</th>\n",
       "      <th>Pyrethrum</th>\n",
       "      <th>Rice (paddy)</th>\n",
       "      <th>Sheep, goats and lambs for slaughter</th>\n",
       "      <th>Sugar-cane</th>\n",
       "      <th>Tea</th>\n",
       "      <th>Tobacco</th>\n",
       "      <th>Total Crops</th>\n",
       "      <th>Vegetables</th>\n",
       "      <th>Wheat</th>\n",
       "      <th>Wool</th>\n",
       "    </tr>\n",
       "  </thead>\n",
       "  <tbody>\n",
       "    <tr>\n",
       "      <th>0</th>\n",
       "      <td>2001</td>\n",
       "      <td>8.065350e+08</td>\n",
       "      <td>9078641509</td>\n",
       "      <td>NaN</td>\n",
       "      <td>10627000000</td>\n",
       "      <td>1919632000</td>\n",
       "      <td>9.940383e+10</td>\n",
       "      <td>6.084000e+08</td>\n",
       "      <td>5187450000</td>\n",
       "      <td>1</td>\n",
       "      <td>...</td>\n",
       "      <td>7.690970e+08</td>\n",
       "      <td>3.032644e+08</td>\n",
       "      <td>1457348062</td>\n",
       "      <td>7154845880</td>\n",
       "      <td>38564542833</td>\n",
       "      <td>8.061888e+08</td>\n",
       "      <td>8.393605e+10</td>\n",
       "      <td>8035000000</td>\n",
       "      <td>2375240000</td>\n",
       "      <td>11725000.00</td>\n",
       "    </tr>\n",
       "    <tr>\n",
       "      <th>1</th>\n",
       "      <td>2002</td>\n",
       "      <td>6.844705e+08</td>\n",
       "      <td>11592000000</td>\n",
       "      <td>20088000.0</td>\n",
       "      <td>13376614634</td>\n",
       "      <td>2314000000</td>\n",
       "      <td>1.170000e+11</td>\n",
       "      <td>6.205680e+08</td>\n",
       "      <td>5422041163</td>\n",
       "      <td>1</td>\n",
       "      <td>...</td>\n",
       "      <td>1.720357e+09</td>\n",
       "      <td>3.093297e+08</td>\n",
       "      <td>2421000000</td>\n",
       "      <td>9070246445</td>\n",
       "      <td>37578678600</td>\n",
       "      <td>8.168885e+08</td>\n",
       "      <td>9.827436e+10</td>\n",
       "      <td>20229658225</td>\n",
       "      <td>1031351153</td>\n",
       "      <td>19477999.62</td>\n",
       "    </tr>\n",
       "    <tr>\n",
       "      <th>2</th>\n",
       "      <td>2003</td>\n",
       "      <td>5.624060e+08</td>\n",
       "      <td>10432800000</td>\n",
       "      <td>30204000.0</td>\n",
       "      <td>16073603836</td>\n",
       "      <td>2642842186</td>\n",
       "      <td>1.100000e+11</td>\n",
       "      <td>5.585112e+08</td>\n",
       "      <td>3813987500</td>\n",
       "      <td>1</td>\n",
       "      <td>...</td>\n",
       "      <td>1.051028e+09</td>\n",
       "      <td>3.117510e+08</td>\n",
       "      <td>2179800000</td>\n",
       "      <td>8471170825</td>\n",
       "      <td>38438495667</td>\n",
       "      <td>8.739535e+08</td>\n",
       "      <td>9.232004e+10</td>\n",
       "      <td>11327851045</td>\n",
       "      <td>1297451196</td>\n",
       "      <td>14400000.00</td>\n",
       "    </tr>\n",
       "    <tr>\n",
       "      <th>3</th>\n",
       "      <td>2004</td>\n",
       "      <td>5.071852e+08</td>\n",
       "      <td>9126000000</td>\n",
       "      <td>39600000.0</td>\n",
       "      <td>18140628113</td>\n",
       "      <td>3562782600</td>\n",
       "      <td>1.180000e+11</td>\n",
       "      <td>4.885258e+08</td>\n",
       "      <td>6098431511</td>\n",
       "      <td>1</td>\n",
       "      <td>...</td>\n",
       "      <td>4.119664e+08</td>\n",
       "      <td>4.150144e+08</td>\n",
       "      <td>2070000000</td>\n",
       "      <td>9391904925</td>\n",
       "      <td>42487973581</td>\n",
       "      <td>7.089454e+08</td>\n",
       "      <td>1.000000e+11</td>\n",
       "      <td>11996722240</td>\n",
       "      <td>1514320898</td>\n",
       "      <td>9275000.00</td>\n",
       "    </tr>\n",
       "    <tr>\n",
       "      <th>4</th>\n",
       "      <td>2005</td>\n",
       "      <td>9.927379e+08</td>\n",
       "      <td>9936000000</td>\n",
       "      <td>48996000.0</td>\n",
       "      <td>20848655820</td>\n",
       "      <td>4317014000</td>\n",
       "      <td>1.270000e+11</td>\n",
       "      <td>5.619000e+08</td>\n",
       "      <td>5660054444</td>\n",
       "      <td>1</td>\n",
       "      <td>...</td>\n",
       "      <td>1.612940e+08</td>\n",
       "      <td>5.994854e+08</td>\n",
       "      <td>2268000000</td>\n",
       "      <td>9673652300</td>\n",
       "      <td>42997136070</td>\n",
       "      <td>8.882925e+08</td>\n",
       "      <td>1.070000e+11</td>\n",
       "      <td>14649341602</td>\n",
       "      <td>2207525529</td>\n",
       "      <td>7275000.00</td>\n",
       "    </tr>\n",
       "    <tr>\n",
       "      <th>5</th>\n",
       "      <td>2006</td>\n",
       "      <td>1.350471e+09</td>\n",
       "      <td>10629000000</td>\n",
       "      <td>57024000.0</td>\n",
       "      <td>22200230935</td>\n",
       "      <td>4690413000</td>\n",
       "      <td>1.280000e+11</td>\n",
       "      <td>NaN</td>\n",
       "      <td>6401069165</td>\n",
       "      <td>1</td>\n",
       "      <td>...</td>\n",
       "      <td>9.933350e+07</td>\n",
       "      <td>6.024418e+08</td>\n",
       "      <td>2566800000</td>\n",
       "      <td>9939670585</td>\n",
       "      <td>40651585478</td>\n",
       "      <td>6.159018e+08</td>\n",
       "      <td>1.070000e+11</td>\n",
       "      <td>14169167840</td>\n",
       "      <td>1775638100</td>\n",
       "      <td>4100000.00</td>\n",
       "    </tr>\n",
       "    <tr>\n",
       "      <th>6</th>\n",
       "      <td>2007</td>\n",
       "      <td>1.006745e+09</td>\n",
       "      <td>9564882186</td>\n",
       "      <td>275280000.0</td>\n",
       "      <td>27884107544</td>\n",
       "      <td>5500441310</td>\n",
       "      <td>1.510000e+11</td>\n",
       "      <td>NaN</td>\n",
       "      <td>6918662400</td>\n",
       "      <td>1</td>\n",
       "      <td>...</td>\n",
       "      <td>1.317890e+08</td>\n",
       "      <td>8.467889e+08</td>\n",
       "      <td>2694965036</td>\n",
       "      <td>10486491210</td>\n",
       "      <td>48376944000</td>\n",
       "      <td>6.789790e+08</td>\n",
       "      <td>1.300000e+11</td>\n",
       "      <td>20532415419</td>\n",
       "      <td>1978860000</td>\n",
       "      <td>4305000.00</td>\n",
       "    </tr>\n",
       "    <tr>\n",
       "      <th>7</th>\n",
       "      <td>2008</td>\n",
       "      <td>6.741444e+08</td>\n",
       "      <td>10521000000</td>\n",
       "      <td>273640000.0</td>\n",
       "      <td>28648474527</td>\n",
       "      <td>5180648044</td>\n",
       "      <td>1.430000e+11</td>\n",
       "      <td>7.668706e+08</td>\n",
       "      <td>4630119000</td>\n",
       "      <td>1</td>\n",
       "      <td>...</td>\n",
       "      <td>1.229375e+08</td>\n",
       "      <td>6.387386e+08</td>\n",
       "      <td>2964600000</td>\n",
       "      <td>10328529315</td>\n",
       "      <td>45261762000</td>\n",
       "      <td>6.200725e+08</td>\n",
       "      <td>1.210000e+11</td>\n",
       "      <td>19834361436</td>\n",
       "      <td>1511296800</td>\n",
       "      <td>1735350.00</td>\n",
       "    </tr>\n",
       "    <tr>\n",
       "      <th>8</th>\n",
       "      <td>2009</td>\n",
       "      <td>7.019583e+08</td>\n",
       "      <td>11439000000</td>\n",
       "      <td>268200000.0</td>\n",
       "      <td>26599971012</td>\n",
       "      <td>5284898749</td>\n",
       "      <td>1.360000e+11</td>\n",
       "      <td>8.146500e+08</td>\n",
       "      <td>2596606090</td>\n",
       "      <td>1</td>\n",
       "      <td>...</td>\n",
       "      <td>6.884500e+07</td>\n",
       "      <td>5.930346e+08</td>\n",
       "      <td>3123000000</td>\n",
       "      <td>11305564530</td>\n",
       "      <td>39816738000</td>\n",
       "      <td>7.467946e+08</td>\n",
       "      <td>1.130000e+11</td>\n",
       "      <td>17451349565</td>\n",
       "      <td>2265840720</td>\n",
       "      <td>925000.00</td>\n",
       "    </tr>\n",
       "    <tr>\n",
       "      <th>9</th>\n",
       "      <td>2010</td>\n",
       "      <td>7.950010e+08</td>\n",
       "      <td>10701000000</td>\n",
       "      <td>212400000.0</td>\n",
       "      <td>20699057903</td>\n",
       "      <td>6704693791</td>\n",
       "      <td>1.430000e+11</td>\n",
       "      <td>7.618500e+08</td>\n",
       "      <td>4005970800</td>\n",
       "      <td>1</td>\n",
       "      <td>...</td>\n",
       "      <td>5.704300e+07</td>\n",
       "      <td>1.141510e+09</td>\n",
       "      <td>3367800000</td>\n",
       "      <td>11504815790</td>\n",
       "      <td>52225110000</td>\n",
       "      <td>1.030373e+09</td>\n",
       "      <td>1.190000e+11</td>\n",
       "      <td>14466567018</td>\n",
       "      <td>3501201600</td>\n",
       "      <td>950000.00</td>\n",
       "    </tr>\n",
       "    <tr>\n",
       "      <th>10</th>\n",
       "      <td>2011</td>\n",
       "      <td>8.433925e+08</td>\n",
       "      <td>18930600000</td>\n",
       "      <td>396000000.0</td>\n",
       "      <td>33617471411</td>\n",
       "      <td>7136956372</td>\n",
       "      <td>1.680000e+11</td>\n",
       "      <td>8.062971e+08</td>\n",
       "      <td>5518538126</td>\n",
       "      <td>1</td>\n",
       "      <td>...</td>\n",
       "      <td>6.884500e+07</td>\n",
       "      <td>1.263440e+09</td>\n",
       "      <td>4041360000</td>\n",
       "      <td>10757202430</td>\n",
       "      <td>49463331000</td>\n",
       "      <td>9.598918e+08</td>\n",
       "      <td>1.330000e+11</td>\n",
       "      <td>19073723303</td>\n",
       "      <td>1857367200</td>\n",
       "      <td>695850.00</td>\n",
       "    </tr>\n",
       "    <tr>\n",
       "      <th>11</th>\n",
       "      <td>2012</td>\n",
       "      <td>6.660100e+08</td>\n",
       "      <td>19747940000</td>\n",
       "      <td>211907516.4</td>\n",
       "      <td>33111660000</td>\n",
       "      <td>6464710000</td>\n",
       "      <td>1.680000e+11</td>\n",
       "      <td>8.411100e+08</td>\n",
       "      <td>5266560000</td>\n",
       "      <td>1</td>\n",
       "      <td>...</td>\n",
       "      <td>9.840000e+06</td>\n",
       "      <td>1.315384e+09</td>\n",
       "      <td>4101430000</td>\n",
       "      <td>11732610000</td>\n",
       "      <td>48371970000</td>\n",
       "      <td>8.390900e+08</td>\n",
       "      <td>1.330000e+11</td>\n",
       "      <td>15971510000</td>\n",
       "      <td>2791320000</td>\n",
       "      <td>600000.00</td>\n",
       "    </tr>\n",
       "    <tr>\n",
       "      <th>12</th>\n",
       "      <td>2013</td>\n",
       "      <td>5.397840e+08</td>\n",
       "      <td>19325729443</td>\n",
       "      <td>106318836.0</td>\n",
       "      <td>32272774417</td>\n",
       "      <td>6754311720</td>\n",
       "      <td>1.790000e+11</td>\n",
       "      <td>8.401928e+08</td>\n",
       "      <td>4302556998</td>\n",
       "      <td>1</td>\n",
       "      <td>...</td>\n",
       "      <td>4.229050e+07</td>\n",
       "      <td>6.872533e+08</td>\n",
       "      <td>4212661542</td>\n",
       "      <td>13443497665</td>\n",
       "      <td>56603816415</td>\n",
       "      <td>4.032788e+08</td>\n",
       "      <td>1.440000e+11</td>\n",
       "      <td>18576018892</td>\n",
       "      <td>5369392570</td>\n",
       "      <td>119850.00</td>\n",
       "    </tr>\n",
       "    <tr>\n",
       "      <th>13</th>\n",
       "      <td>2014</td>\n",
       "      <td>1.008527e+09</td>\n",
       "      <td>18690417000</td>\n",
       "      <td>274140000.0</td>\n",
       "      <td>35088658853</td>\n",
       "      <td>7037618133</td>\n",
       "      <td>1.830000e+11</td>\n",
       "      <td>8.384578e+08</td>\n",
       "      <td>5600618828</td>\n",
       "      <td>1</td>\n",
       "      <td>...</td>\n",
       "      <td>3.560685e+07</td>\n",
       "      <td>7.596500e+08</td>\n",
       "      <td>4249752881</td>\n",
       "      <td>13052466765</td>\n",
       "      <td>58259803144</td>\n",
       "      <td>6.807040e+08</td>\n",
       "      <td>1.480000e+11</td>\n",
       "      <td>16930104468</td>\n",
       "      <td>3935493633</td>\n",
       "      <td>225000.00</td>\n",
       "    </tr>\n",
       "    <tr>\n",
       "      <th>14</th>\n",
       "      <td>2015</td>\n",
       "      <td>1.099036e+09</td>\n",
       "      <td>20470611834</td>\n",
       "      <td>323540360.0</td>\n",
       "      <td>37553426914</td>\n",
       "      <td>7804824950</td>\n",
       "      <td>1.820000e+11</td>\n",
       "      <td>1.005765e+09</td>\n",
       "      <td>4092723147</td>\n",
       "      <td>1</td>\n",
       "      <td>...</td>\n",
       "      <td>3.655527e+07</td>\n",
       "      <td>8.278237e+08</td>\n",
       "      <td>4542158081</td>\n",
       "      <td>13801198571</td>\n",
       "      <td>52252815355</td>\n",
       "      <td>6.309177e+08</td>\n",
       "      <td>1.430000e+11</td>\n",
       "      <td>16595009394</td>\n",
       "      <td>4015923218</td>\n",
       "      <td>200000.00</td>\n",
       "    </tr>\n",
       "  </tbody>\n",
       "</table>\n",
       "<p>15 rows × 26 columns</p>\n",
       "</div>"
      ],
      "text/plain": [
       "    Year        Barley  Cattle and Calves for slaughter   Cottonwool  \\\n",
       "0   2001  8.065350e+08                       9078641509          NaN   \n",
       "1   2002  6.844705e+08                      11592000000   20088000.0   \n",
       "2   2003  5.624060e+08                      10432800000   30204000.0   \n",
       "3   2004  5.071852e+08                       9126000000   39600000.0   \n",
       "4   2005  9.927379e+08                       9936000000   48996000.0   \n",
       "5   2006  1.350471e+09                      10629000000   57024000.0   \n",
       "6   2007  1.006745e+09                       9564882186  275280000.0   \n",
       "7   2008  6.741444e+08                      10521000000  273640000.0   \n",
       "8   2009  7.019583e+08                      11439000000  268200000.0   \n",
       "9   2010  7.950010e+08                      10701000000  212400000.0   \n",
       "10  2011  8.433925e+08                      18930600000  396000000.0   \n",
       "11  2012  6.660100e+08                      19747940000  211907516.4   \n",
       "12  2013  5.397840e+08                      19325729443  106318836.0   \n",
       "13  2014  1.008527e+09                      18690417000  274140000.0   \n",
       "14  2015  1.099036e+09                      20470611834  323540360.0   \n",
       "\n",
       "    Cut flowers  Dairy products   Grand Total  Hides and skins       Maize  \\\n",
       "0   10627000000      1919632000  9.940383e+10     6.084000e+08  5187450000   \n",
       "1   13376614634      2314000000  1.170000e+11     6.205680e+08  5422041163   \n",
       "2   16073603836      2642842186  1.100000e+11     5.585112e+08  3813987500   \n",
       "3   18140628113      3562782600  1.180000e+11     4.885258e+08  6098431511   \n",
       "4   20848655820      4317014000  1.270000e+11     5.619000e+08  5660054444   \n",
       "5   22200230935      4690413000  1.280000e+11              NaN  6401069165   \n",
       "6   27884107544      5500441310  1.510000e+11              NaN  6918662400   \n",
       "7   28648474527      5180648044  1.430000e+11     7.668706e+08  4630119000   \n",
       "8   26599971012      5284898749  1.360000e+11     8.146500e+08  2596606090   \n",
       "9   20699057903      6704693791  1.430000e+11     7.618500e+08  4005970800   \n",
       "10  33617471411      7136956372  1.680000e+11     8.062971e+08  5518538126   \n",
       "11  33111660000      6464710000  1.680000e+11     8.411100e+08  5266560000   \n",
       "12  32272774417      6754311720  1.790000e+11     8.401928e+08  4302556998   \n",
       "13  35088658853      7037618133  1.830000e+11     8.384578e+08  5600618828   \n",
       "14  37553426914      7804824950  1.820000e+11     1.005765e+09  4092723147   \n",
       "\n",
       "    Number of Records  ...     Pyrethrum  Rice (paddy)  \\\n",
       "0                   1  ...  7.690970e+08  3.032644e+08   \n",
       "1                   1  ...  1.720357e+09  3.093297e+08   \n",
       "2                   1  ...  1.051028e+09  3.117510e+08   \n",
       "3                   1  ...  4.119664e+08  4.150144e+08   \n",
       "4                   1  ...  1.612940e+08  5.994854e+08   \n",
       "5                   1  ...  9.933350e+07  6.024418e+08   \n",
       "6                   1  ...  1.317890e+08  8.467889e+08   \n",
       "7                   1  ...  1.229375e+08  6.387386e+08   \n",
       "8                   1  ...  6.884500e+07  5.930346e+08   \n",
       "9                   1  ...  5.704300e+07  1.141510e+09   \n",
       "10                  1  ...  6.884500e+07  1.263440e+09   \n",
       "11                  1  ...  9.840000e+06  1.315384e+09   \n",
       "12                  1  ...  4.229050e+07  6.872533e+08   \n",
       "13                  1  ...  3.560685e+07  7.596500e+08   \n",
       "14                  1  ...  3.655527e+07  8.278237e+08   \n",
       "\n",
       "    Sheep, goats and lambs for slaughter   Sugar-cane          Tea  \\\n",
       "0                             1457348062   7154845880  38564542833   \n",
       "1                             2421000000   9070246445  37578678600   \n",
       "2                             2179800000   8471170825  38438495667   \n",
       "3                             2070000000   9391904925  42487973581   \n",
       "4                             2268000000   9673652300  42997136070   \n",
       "5                             2566800000   9939670585  40651585478   \n",
       "6                             2694965036  10486491210  48376944000   \n",
       "7                             2964600000  10328529315  45261762000   \n",
       "8                             3123000000  11305564530  39816738000   \n",
       "9                             3367800000  11504815790  52225110000   \n",
       "10                            4041360000  10757202430  49463331000   \n",
       "11                            4101430000  11732610000  48371970000   \n",
       "12                            4212661542  13443497665  56603816415   \n",
       "13                            4249752881  13052466765  58259803144   \n",
       "14                            4542158081  13801198571  52252815355   \n",
       "\n",
       "         Tobacco   Total Crops   Vegetables       Wheat         Wool  \n",
       "0   8.061888e+08  8.393605e+10   8035000000  2375240000  11725000.00  \n",
       "1   8.168885e+08  9.827436e+10  20229658225  1031351153  19477999.62  \n",
       "2   8.739535e+08  9.232004e+10  11327851045  1297451196  14400000.00  \n",
       "3   7.089454e+08  1.000000e+11  11996722240  1514320898   9275000.00  \n",
       "4   8.882925e+08  1.070000e+11  14649341602  2207525529   7275000.00  \n",
       "5   6.159018e+08  1.070000e+11  14169167840  1775638100   4100000.00  \n",
       "6   6.789790e+08  1.300000e+11  20532415419  1978860000   4305000.00  \n",
       "7   6.200725e+08  1.210000e+11  19834361436  1511296800   1735350.00  \n",
       "8   7.467946e+08  1.130000e+11  17451349565  2265840720    925000.00  \n",
       "9   1.030373e+09  1.190000e+11  14466567018  3501201600    950000.00  \n",
       "10  9.598918e+08  1.330000e+11  19073723303  1857367200    695850.00  \n",
       "11  8.390900e+08  1.330000e+11  15971510000  2791320000    600000.00  \n",
       "12  4.032788e+08  1.440000e+11  18576018892  5369392570    119850.00  \n",
       "13  6.807040e+08  1.480000e+11  16930104468  3935493633    225000.00  \n",
       "14  6.309177e+08  1.430000e+11  16595009394  4015923218    200000.00  \n",
       "\n",
       "[15 rows x 26 columns]"
      ]
     },
     "execution_count": 9,
     "metadata": {},
     "output_type": "execute_result"
    }
   ],
   "source": [
    "df"
   ]
  },
  {
   "cell_type": "code",
   "execution_count": 10,
   "id": "fd6a527f",
   "metadata": {},
   "outputs": [
    {
     "data": {
      "text/html": [
       "<div>\n",
       "<style scoped>\n",
       "    .dataframe tbody tr th:only-of-type {\n",
       "        vertical-align: middle;\n",
       "    }\n",
       "\n",
       "    .dataframe tbody tr th {\n",
       "        vertical-align: top;\n",
       "    }\n",
       "\n",
       "    .dataframe thead th {\n",
       "        text-align: right;\n",
       "    }\n",
       "</style>\n",
       "<table border=\"1\" class=\"dataframe\">\n",
       "  <thead>\n",
       "    <tr style=\"text-align: right;\">\n",
       "      <th></th>\n",
       "      <th>Year</th>\n",
       "      <th>Barley</th>\n",
       "      <th>Cattle and Calves for slaughter</th>\n",
       "      <th>Cottonwool</th>\n",
       "      <th>Cut flowers</th>\n",
       "      <th>Dairy products</th>\n",
       "      <th>Grand Total</th>\n",
       "      <th>Hides and skins</th>\n",
       "      <th>Maize</th>\n",
       "      <th>Number of Records</th>\n",
       "      <th>...</th>\n",
       "      <th>Pyrethrum</th>\n",
       "      <th>Rice (paddy)</th>\n",
       "      <th>Sheep, goats and lambs for slaughter</th>\n",
       "      <th>Sugar-cane</th>\n",
       "      <th>Tea</th>\n",
       "      <th>Tobacco</th>\n",
       "      <th>Total Crops</th>\n",
       "      <th>Vegetables</th>\n",
       "      <th>Wheat</th>\n",
       "      <th>Wool</th>\n",
       "    </tr>\n",
       "  </thead>\n",
       "  <tbody>\n",
       "    <tr>\n",
       "      <th>count</th>\n",
       "      <td>15.000000</td>\n",
       "      <td>1.500000e+01</td>\n",
       "      <td>1.500000e+01</td>\n",
       "      <td>1.400000e+01</td>\n",
       "      <td>1.500000e+01</td>\n",
       "      <td>1.500000e+01</td>\n",
       "      <td>1.500000e+01</td>\n",
       "      <td>1.300000e+01</td>\n",
       "      <td>1.500000e+01</td>\n",
       "      <td>15.0</td>\n",
       "      <td>...</td>\n",
       "      <td>1.500000e+01</td>\n",
       "      <td>1.500000e+01</td>\n",
       "      <td>1.500000e+01</td>\n",
       "      <td>1.500000e+01</td>\n",
       "      <td>1.500000e+01</td>\n",
       "      <td>1.500000e+01</td>\n",
       "      <td>1.500000e+01</td>\n",
       "      <td>1.500000e+01</td>\n",
       "      <td>1.500000e+01</td>\n",
       "      <td>1.500000e+01</td>\n",
       "    </tr>\n",
       "    <tr>\n",
       "      <th>mean</th>\n",
       "      <td>2008.000000</td>\n",
       "      <td>8.158936e+08</td>\n",
       "      <td>1.334571e+10</td>\n",
       "      <td>1.812385e+08</td>\n",
       "      <td>2.511616e+10</td>\n",
       "      <td>5.154386e+09</td>\n",
       "      <td>1.434936e+11</td>\n",
       "      <td>7.317768e+08</td>\n",
       "      <td>5.034359e+09</td>\n",
       "      <td>1.0</td>\n",
       "      <td>...</td>\n",
       "      <td>3.191219e+08</td>\n",
       "      <td>7.076607e+08</td>\n",
       "      <td>3.084045e+09</td>\n",
       "      <td>1.067426e+10</td>\n",
       "      <td>4.609005e+10</td>\n",
       "      <td>7.533514e+08</td>\n",
       "      <td>1.181687e+11</td>\n",
       "      <td>1.598925e+10</td>\n",
       "      <td>2.495215e+09</td>\n",
       "      <td>5.067270e+06</td>\n",
       "    </tr>\n",
       "    <tr>\n",
       "      <th>std</th>\n",
       "      <td>4.472136</td>\n",
       "      <td>2.361345e+08</td>\n",
       "      <td>4.525759e+09</td>\n",
       "      <td>1.268650e+08</td>\n",
       "      <td>8.401946e+09</td>\n",
       "      <td>1.882410e+09</td>\n",
       "      <td>2.744862e+10</td>\n",
       "      <td>1.500985e+08</td>\n",
       "      <td>1.127580e+09</td>\n",
       "      <td>0.0</td>\n",
       "      <td>...</td>\n",
       "      <td>4.916096e+08</td>\n",
       "      <td>3.282650e+08</td>\n",
       "      <td>9.570469e+08</td>\n",
       "      <td>1.860692e+09</td>\n",
       "      <td>6.739321e+09</td>\n",
       "      <td>1.588696e+08</td>\n",
       "      <td>2.000801e+10</td>\n",
       "      <td>3.599280e+09</td>\n",
       "      <td>1.212917e+09</td>\n",
       "      <td>6.089116e+06</td>\n",
       "    </tr>\n",
       "    <tr>\n",
       "      <th>min</th>\n",
       "      <td>2001.000000</td>\n",
       "      <td>5.071852e+08</td>\n",
       "      <td>9.078642e+09</td>\n",
       "      <td>2.008800e+07</td>\n",
       "      <td>1.062700e+10</td>\n",
       "      <td>1.919632e+09</td>\n",
       "      <td>9.940383e+10</td>\n",
       "      <td>4.885258e+08</td>\n",
       "      <td>2.596606e+09</td>\n",
       "      <td>1.0</td>\n",
       "      <td>...</td>\n",
       "      <td>9.840000e+06</td>\n",
       "      <td>3.032644e+08</td>\n",
       "      <td>1.457348e+09</td>\n",
       "      <td>7.154846e+09</td>\n",
       "      <td>3.757868e+10</td>\n",
       "      <td>4.032788e+08</td>\n",
       "      <td>8.393605e+10</td>\n",
       "      <td>8.035000e+09</td>\n",
       "      <td>1.031351e+09</td>\n",
       "      <td>1.198500e+05</td>\n",
       "    </tr>\n",
       "    <tr>\n",
       "      <th>25%</th>\n",
       "      <td>2004.500000</td>\n",
       "      <td>6.700772e+08</td>\n",
       "      <td>1.018440e+10</td>\n",
       "      <td>5.100300e+07</td>\n",
       "      <td>1.941984e+10</td>\n",
       "      <td>3.939898e+09</td>\n",
       "      <td>1.225000e+11</td>\n",
       "      <td>6.084000e+08</td>\n",
       "      <td>4.197640e+09</td>\n",
       "      <td>1.0</td>\n",
       "      <td>...</td>\n",
       "      <td>4.966675e+07</td>\n",
       "      <td>5.040245e+08</td>\n",
       "      <td>2.344500e+09</td>\n",
       "      <td>9.532779e+09</td>\n",
       "      <td>4.023416e+10</td>\n",
       "      <td>6.549483e+08</td>\n",
       "      <td>1.035000e+11</td>\n",
       "      <td>1.431787e+10</td>\n",
       "      <td>1.644979e+09</td>\n",
       "      <td>6.479250e+05</td>\n",
       "    </tr>\n",
       "    <tr>\n",
       "      <th>50%</th>\n",
       "      <td>2008.000000</td>\n",
       "      <td>7.950010e+08</td>\n",
       "      <td>1.070100e+10</td>\n",
       "      <td>2.121538e+08</td>\n",
       "      <td>2.659997e+10</td>\n",
       "      <td>5.284899e+09</td>\n",
       "      <td>1.430000e+11</td>\n",
       "      <td>7.668706e+08</td>\n",
       "      <td>5.266560e+09</td>\n",
       "      <td>1.0</td>\n",
       "      <td>...</td>\n",
       "      <td>9.933350e+07</td>\n",
       "      <td>6.387386e+08</td>\n",
       "      <td>2.964600e+09</td>\n",
       "      <td>1.048649e+10</td>\n",
       "      <td>4.526176e+10</td>\n",
       "      <td>7.467946e+08</td>\n",
       "      <td>1.190000e+11</td>\n",
       "      <td>1.659501e+10</td>\n",
       "      <td>2.207526e+09</td>\n",
       "      <td>1.735350e+06</td>\n",
       "    </tr>\n",
       "    <tr>\n",
       "      <th>75%</th>\n",
       "      <td>2011.500000</td>\n",
       "      <td>9.997414e+08</td>\n",
       "      <td>1.881051e+10</td>\n",
       "      <td>2.740150e+08</td>\n",
       "      <td>3.269222e+10</td>\n",
       "      <td>6.729503e+09</td>\n",
       "      <td>1.680000e+11</td>\n",
       "      <td>8.384578e+08</td>\n",
       "      <td>5.630337e+09</td>\n",
       "      <td>1.0</td>\n",
       "      <td>...</td>\n",
       "      <td>2.866302e+08</td>\n",
       "      <td>8.373063e+08</td>\n",
       "      <td>4.071395e+09</td>\n",
       "      <td>1.161871e+10</td>\n",
       "      <td>5.084422e+10</td>\n",
       "      <td>8.565218e+08</td>\n",
       "      <td>1.330000e+11</td>\n",
       "      <td>1.882487e+10</td>\n",
       "      <td>3.146261e+09</td>\n",
       "      <td>8.275000e+06</td>\n",
       "    </tr>\n",
       "    <tr>\n",
       "      <th>max</th>\n",
       "      <td>2015.000000</td>\n",
       "      <td>1.350471e+09</td>\n",
       "      <td>2.047061e+10</td>\n",
       "      <td>3.960000e+08</td>\n",
       "      <td>3.755343e+10</td>\n",
       "      <td>7.804825e+09</td>\n",
       "      <td>1.830000e+11</td>\n",
       "      <td>1.005765e+09</td>\n",
       "      <td>6.918662e+09</td>\n",
       "      <td>1.0</td>\n",
       "      <td>...</td>\n",
       "      <td>1.720357e+09</td>\n",
       "      <td>1.315384e+09</td>\n",
       "      <td>4.542158e+09</td>\n",
       "      <td>1.380120e+10</td>\n",
       "      <td>5.825980e+10</td>\n",
       "      <td>1.030373e+09</td>\n",
       "      <td>1.480000e+11</td>\n",
       "      <td>2.053242e+10</td>\n",
       "      <td>5.369393e+09</td>\n",
       "      <td>1.947800e+07</td>\n",
       "    </tr>\n",
       "  </tbody>\n",
       "</table>\n",
       "<p>8 rows × 26 columns</p>\n",
       "</div>"
      ],
      "text/plain": [
       "              Year        Barley  Cattle and Calves for slaughter  \\\n",
       "count    15.000000  1.500000e+01                     1.500000e+01   \n",
       "mean   2008.000000  8.158936e+08                     1.334571e+10   \n",
       "std       4.472136  2.361345e+08                     4.525759e+09   \n",
       "min    2001.000000  5.071852e+08                     9.078642e+09   \n",
       "25%    2004.500000  6.700772e+08                     1.018440e+10   \n",
       "50%    2008.000000  7.950010e+08                     1.070100e+10   \n",
       "75%    2011.500000  9.997414e+08                     1.881051e+10   \n",
       "max    2015.000000  1.350471e+09                     2.047061e+10   \n",
       "\n",
       "         Cottonwool   Cut flowers  Dairy products   Grand Total  \\\n",
       "count  1.400000e+01  1.500000e+01    1.500000e+01  1.500000e+01   \n",
       "mean   1.812385e+08  2.511616e+10    5.154386e+09  1.434936e+11   \n",
       "std    1.268650e+08  8.401946e+09    1.882410e+09  2.744862e+10   \n",
       "min    2.008800e+07  1.062700e+10    1.919632e+09  9.940383e+10   \n",
       "25%    5.100300e+07  1.941984e+10    3.939898e+09  1.225000e+11   \n",
       "50%    2.121538e+08  2.659997e+10    5.284899e+09  1.430000e+11   \n",
       "75%    2.740150e+08  3.269222e+10    6.729503e+09  1.680000e+11   \n",
       "max    3.960000e+08  3.755343e+10    7.804825e+09  1.830000e+11   \n",
       "\n",
       "       Hides and skins         Maize  Number of Records  ...     Pyrethrum  \\\n",
       "count     1.300000e+01  1.500000e+01               15.0  ...  1.500000e+01   \n",
       "mean      7.317768e+08  5.034359e+09                1.0  ...  3.191219e+08   \n",
       "std       1.500985e+08  1.127580e+09                0.0  ...  4.916096e+08   \n",
       "min       4.885258e+08  2.596606e+09                1.0  ...  9.840000e+06   \n",
       "25%       6.084000e+08  4.197640e+09                1.0  ...  4.966675e+07   \n",
       "50%       7.668706e+08  5.266560e+09                1.0  ...  9.933350e+07   \n",
       "75%       8.384578e+08  5.630337e+09                1.0  ...  2.866302e+08   \n",
       "max       1.005765e+09  6.918662e+09                1.0  ...  1.720357e+09   \n",
       "\n",
       "       Rice (paddy)  Sheep, goats and lambs for slaughter    Sugar-cane  \\\n",
       "count  1.500000e+01                          1.500000e+01  1.500000e+01   \n",
       "mean   7.076607e+08                          3.084045e+09  1.067426e+10   \n",
       "std    3.282650e+08                          9.570469e+08  1.860692e+09   \n",
       "min    3.032644e+08                          1.457348e+09  7.154846e+09   \n",
       "25%    5.040245e+08                          2.344500e+09  9.532779e+09   \n",
       "50%    6.387386e+08                          2.964600e+09  1.048649e+10   \n",
       "75%    8.373063e+08                          4.071395e+09  1.161871e+10   \n",
       "max    1.315384e+09                          4.542158e+09  1.380120e+10   \n",
       "\n",
       "                Tea       Tobacco   Total Crops    Vegetables         Wheat  \\\n",
       "count  1.500000e+01  1.500000e+01  1.500000e+01  1.500000e+01  1.500000e+01   \n",
       "mean   4.609005e+10  7.533514e+08  1.181687e+11  1.598925e+10  2.495215e+09   \n",
       "std    6.739321e+09  1.588696e+08  2.000801e+10  3.599280e+09  1.212917e+09   \n",
       "min    3.757868e+10  4.032788e+08  8.393605e+10  8.035000e+09  1.031351e+09   \n",
       "25%    4.023416e+10  6.549483e+08  1.035000e+11  1.431787e+10  1.644979e+09   \n",
       "50%    4.526176e+10  7.467946e+08  1.190000e+11  1.659501e+10  2.207526e+09   \n",
       "75%    5.084422e+10  8.565218e+08  1.330000e+11  1.882487e+10  3.146261e+09   \n",
       "max    5.825980e+10  1.030373e+09  1.480000e+11  2.053242e+10  5.369393e+09   \n",
       "\n",
       "               Wool  \n",
       "count  1.500000e+01  \n",
       "mean   5.067270e+06  \n",
       "std    6.089116e+06  \n",
       "min    1.198500e+05  \n",
       "25%    6.479250e+05  \n",
       "50%    1.735350e+06  \n",
       "75%    8.275000e+06  \n",
       "max    1.947800e+07  \n",
       "\n",
       "[8 rows x 26 columns]"
      ]
     },
     "execution_count": 10,
     "metadata": {},
     "output_type": "execute_result"
    }
   ],
   "source": [
    "df.describe()"
   ]
  },
  {
   "cell_type": "code",
   "execution_count": 11,
   "id": "1fe0a9ca",
   "metadata": {},
   "outputs": [
    {
     "name": "stdout",
     "output_type": "stream",
     "text": [
      "<class 'pandas.core.frame.DataFrame'>\n",
      "RangeIndex: 15 entries, 0 to 14\n",
      "Data columns (total 26 columns):\n",
      " #   Column                                Non-Null Count  Dtype  \n",
      "---  ------                                --------------  -----  \n",
      " 0   Year                                  15 non-null     int64  \n",
      " 1   Barley                                15 non-null     float64\n",
      " 2   Cattle and Calves for slaughter       15 non-null     int64  \n",
      " 3   Cottonwool                            14 non-null     float64\n",
      " 4   Cut flowers                           15 non-null     int64  \n",
      " 5   Dairy products                        15 non-null     int64  \n",
      " 6   Grand Total                           15 non-null     float64\n",
      " 7   Hides and skins                       13 non-null     float64\n",
      " 8   Maize                                 15 non-null     int64  \n",
      " 9   Number of Records                     15 non-null     int64  \n",
      " 10  Other Cereals                         15 non-null     float64\n",
      " 11  Other Temporary Crops                 13 non-null     float64\n",
      " 12  Pigs for slaughter                    15 non-null     int64  \n",
      " 13  Potatoes                              15 non-null     float64\n",
      " 14  Poultry and Eggs                      15 non-null     int64  \n",
      " 15  Pulses                                15 non-null     float64\n",
      " 16  Pyrethrum                             15 non-null     float64\n",
      " 17  Rice (paddy)                          15 non-null     float64\n",
      " 18  Sheep, goats and lambs for slaughter  15 non-null     int64  \n",
      " 19  Sugar-cane                            15 non-null     int64  \n",
      " 20  Tea                                   15 non-null     int64  \n",
      " 21  Tobacco                               15 non-null     float64\n",
      " 22  Total Crops                           15 non-null     float64\n",
      " 23  Vegetables                            15 non-null     int64  \n",
      " 24  Wheat                                 15 non-null     int64  \n",
      " 25  Wool                                  15 non-null     float64\n",
      "dtypes: float64(13), int64(13)\n",
      "memory usage: 3.2 KB\n"
     ]
    }
   ],
   "source": [
    "df.info()"
   ]
  },
  {
   "cell_type": "markdown",
   "id": "abe0b196",
   "metadata": {},
   "source": [
    "# matplotlib"
   ]
  },
  {
   "cell_type": "code",
   "execution_count": 15,
   "id": "60acd02a",
   "metadata": {},
   "outputs": [],
   "source": [
    "import numpy as np\n",
    "import matplotlib.pyplot as plt"
   ]
  },
  {
   "cell_type": "code",
   "execution_count": 16,
   "id": "56250394",
   "metadata": {},
   "outputs": [
    {
     "data": {
      "text/plain": [
       "[<matplotlib.lines.Line2D at 0x1c9ff7c1f90>]"
      ]
     },
     "execution_count": 16,
     "metadata": {},
     "output_type": "execute_result"
    },
    {
     "data": {
      "image/png": "[encoded data removed]",
      "text/plain": [
       "<Figure size 432x288 with 1 Axes>"
      ]
     },
     "metadata": {
      "needs_background": "light"
     },
     "output_type": "display_data"
    }
   ],
   "source": [
    "x = np.linspace(0,10,1000)\n",
    "y = np.sin(x)\n",
    "plt.plot(x,y)"
   ]
  },
  {
   "cell_type": "code",
   "execution_count": 17,
   "id": "72c40738",
   "metadata": {},
   "outputs": [
    {
     "data": {
      "text/plain": [
       "<matplotlib.collections.PathCollection at 0x1c9ff823c70>"
      ]
     },
     "execution_count": 17,
     "metadata": {},
     "output_type": "execute_result"
    },
    {
     "data": {
      "image/png": "[encoded data removed]",
      "text/plain": [
       "<Figure size 432x288 with 1 Axes>"
      ]
     },
     "metadata": {
      "needs_background": "light"
     },
     "output_type": "display_data"
    }
   ],
   "source": [
    "plt.scatter(x[ :30],y[ :30])"
   ]
  },
  {
   "cell_type": "code",
   "execution_count": 20,
   "id": "50d66a49",
   "metadata": {},
   "outputs": [
    {
     "data": {
      "text/plain": [
       "<matplotlib.collections.PathCollection at 0x1c983491ba0>"
      ]
     },
     "execution_count": 20,
     "metadata": {},
     "output_type": "execute_result"
    },
    {
     "data": {
      "image/png": "[encoded data removed]",
      "text/plain": [
       "<Figure size 432x288 with 1 Axes>"
      ]
     },
     "metadata": {
      "needs_background": "light"
     },
     "output_type": "display_data"
    }
   ],
   "source": [
    "plt.scatter(x[: :10],y[ : : 10], color = 'magenta')"
   ]
  },
  {
   "cell_type": "code",
   "execution_count": 22,
   "id": "bf98efb3",
   "metadata": {},
   "outputs": [
    {
     "data": {
      "text/plain": [
       "<matplotlib.collections.PathCollection at 0x1c983576e90>"
      ]
     },
     "execution_count": 22,
     "metadata": {},
     "output_type": "execute_result"
    },
    {
     "data": {
      "image/png": "[encoded data removed]",
      "text/plain": [
       "<Figure size 432x288 with 1 Axes>"
      ]
     },
     "metadata": {
      "needs_background": "light"
     },
     "output_type": "display_data"
    }
   ],
   "source": [
    "plt.scatter(x,y, color='b')\n",
    "plt.scatter(x, np.cos(x), color ='g')"
   ]
  },
  {
   "cell_type": "code",
   "execution_count": 32,
   "id": "372b7d4f",
   "metadata": {},
   "outputs": [
    {
     "data": {
      "text/plain": [
       "[<matplotlib.lines.Line2D at 0x1c988346a40>]"
      ]
     },
     "execution_count": 32,
     "metadata": {},
     "output_type": "execute_result"
    },
    {
     "data": {
      "image/png": "[encoded data removed]",
      "text/plain": [
       "<Figure size 432x288 with 1 Axes>"
      ]
     },
     "metadata": {
      "needs_background": "light"
     },
     "output_type": "display_data"
    }
   ],
   "source": [
    "plt.plot(x[ :30],y[ :30], color='k')"
   ]
  },
  {
   "cell_type": "code",
   "execution_count": null,
   "id": "6428f91d",
   "metadata": {},
   "outputs": [],
   "source": []
  }
 ],
 "metadata": {
  "kernelspec": {
   "display_name": "Python 3 (ipykernel)",
   "language": "python",
   "name": "python3"
  },
  "language_info": {
   "codemirror_mode": {
    "name": "ipython",
    "version": 3
   },
   "file_extension": ".py",
   "mimetype": "text/x-python",
   "name": "python",
   "nbconvert_exporter": "python",
   "pygments_lexer": "ipython3",
   "version": "3.10.4"
  }
 },
 "nbformat": 4,
 "nbformat_minor": 5
}
